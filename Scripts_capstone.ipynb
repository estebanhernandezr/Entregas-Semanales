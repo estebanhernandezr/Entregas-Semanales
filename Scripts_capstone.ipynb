{
  "nbformat": 4,
  "nbformat_minor": 0,
  "metadata": {
    "colab": {
      "name": "Scripts capstone",
      "provenance": [],
      "collapsed_sections": [
        "49RR0P23PD94"
      ],
      "authorship_tag": "ABX9TyMGUmbmUELQOBIYffh1nqCU",
      "include_colab_link": true
    },
    "kernelspec": {
      "name": "python3",
      "display_name": "Python 3"
    },
    "language_info": {
      "name": "python"
    }
  },
  "cells": [
    {
      "cell_type": "markdown",
      "metadata": {
        "id": "view-in-github",
        "colab_type": "text"
      },
      "source": [
        "<a href=\"https://colab.research.google.com/github/estebanhernandezr/Entregas-Semanales/blob/master/Scripts_capstone.ipynb\" target=\"_parent\"><img src=\"https://colab.research.google.com/assets/colab-badge.svg\" alt=\"Open In Colab\"/></a>"
      ]
    },
    {
      "cell_type": "markdown",
      "source": [
        "## **imports**"
      ],
      "metadata": {
        "id": "49RR0P23PD94"
      }
    },
    {
      "cell_type": "code",
      "execution_count": 170,
      "metadata": {
        "id": "00nDh9xx6U-d"
      },
      "outputs": [],
      "source": [
        "import psycopg2\n",
        "import numpy as np\n",
        "import pandas as pd\n",
        "import matplotlib.pyplot as plt"
      ]
    },
    {
      "cell_type": "markdown",
      "source": [
        "## **functions**"
      ],
      "metadata": {
        "id": "D44jCmFxPBLL"
      }
    },
    {
      "cell_type": "markdown",
      "source": [
        "### **data base connection**"
      ],
      "metadata": {
        "id": "-IBF00p5obeW"
      }
    },
    {
      "cell_type": "code",
      "source": [
        "def db_selection(what, where):\n",
        "    engine = None\n",
        "    resultDataFrame = None\n",
        "    try:\n",
        "        engine = psycopg2.connect(\n",
        "            database = \"UDriveDB\",\n",
        "            user = \"UDriveAdmin\",\n",
        "            password = \"UDriveAdmin10\",\n",
        "            host = \"database-1.ct0kpzfxpmof.us-east-1.rds.amazonaws.com\",\n",
        "            port = \"5432\"\n",
        "        )\n",
        "        data = pd.read_sql_query(\"SELECT \"+what+\" FROM \"+where+\";\", engine)\n",
        "        resultDataFrame = pd.DataFrame(data)\n",
        "    except(Exception, psycopg2.DatabaseError) as error:\n",
        "        print(\"Error:\", error)\n",
        "        raise(ValueError(Exception))\n",
        "    finally:\n",
        "          if engine is not None:\n",
        "              engine.close()\n",
        "          return resultDataFrame"
      ],
      "metadata": {
        "id": "tYwyuQJ_6dXT"
      },
      "execution_count": null,
      "outputs": []
    },
    {
      "cell_type": "markdown",
      "source": [
        "### **visualize the general state of the data base**"
      ],
      "metadata": {
        "id": "EGvOo0ohoTjD"
      }
    },
    {
      "cell_type": "code",
      "source": [
        "def count_column_values(dataframe, col):\n",
        "    return dataframe[col].value_counts()\n",
        "\n",
        "def plot_count(dataframe, col):\n",
        "    plt.title(col)\n",
        "    conteo = pd.DataFrame(count_column_values(dataframe, col))\n",
        "    plt.barh(conteo.index.values.tolist(), conteo.loc[:, col])\n",
        "    plt.plot(conteo.loc[:, col], conteo.index.values.tolist(), '-o', color='orange')\n",
        "    plt.xlabel('repetición del valor')\n",
        "    plt.ylabel('valor')\n",
        "    plt.show()\n",
        "\n",
        "def plot_count_frecuencies(dataframe, col):\n",
        "    bar_width = 0.5\n",
        "\n",
        "    plt.title(col)\n",
        "    conteo = pd.DataFrame(count_column_values(dataframe, col))\n",
        "    #print(conteo)\n",
        "    conteo_conteo = pd.DataFrame(count_column_values(conteo, col))\n",
        "    conteo_conteo = conteo_conteo.sort_values(by=[col])\n",
        "    #print(conteo_conteo)\n",
        "    plt.bar(conteo_conteo.index.values.tolist(), conteo_conteo.loc[:, col], width=bar_width/2)\n",
        "    plt.plot(conteo_conteo.index.values.tolist(), conteo_conteo.loc[:, col], '-o', color='orange')\n",
        "    plt.axvline(x=np.dot(conteo_conteo.index.values.tolist(), conteo_conteo.loc[:, col])/conteo.shape[0], color='r')\n",
        "    plt.xlabel('repetición de tamaño...')\n",
        "    plt.ylabel('repetición de la repetición')\n",
        "    plt.show()"
      ],
      "metadata": {
        "id": "UvQB3Li_6x2f"
      },
      "execution_count": 195,
      "outputs": []
    },
    {
      "cell_type": "code",
      "source": [
        "def visualize_general_info(dataframe, col):\n",
        "    plot_count(dataframe, col)\n",
        "    plot_count_frecuencies(dataframe, col)"
      ],
      "metadata": {
        "id": "0m-_w7ECe-PM"
      },
      "execution_count": 187,
      "outputs": []
    },
    {
      "cell_type": "markdown",
      "source": [
        "## **main**"
      ],
      "metadata": {
        "id": "XVTpqpt7O9-5"
      }
    },
    {
      "cell_type": "code",
      "source": [
        "def main():\n",
        "    usuariosDF = db_selection('*', 'Usuario')\n",
        "    visualize_general_info(dataframe=usuariosDF, col='nombre')"
      ],
      "metadata": {
        "id": "BktcCU_dxBIx"
      },
      "execution_count": 197,
      "outputs": []
    },
    {
      "cell_type": "code",
      "source": [
        "main()"
      ],
      "metadata": {
        "colab": {
          "base_uri": "https://localhost:8080/",
          "height": 575
        },
        "id": "2Gl2kr06_fvc",
        "outputId": "60923f50-c70e-4871-aef1-d14802dddd9f"
      },
      "execution_count": 198,
      "outputs": [
        {
          "output_type": "display_data",
          "data": {
            "text/plain": [
              "<Figure size 432x288 with 1 Axes>"
            ],
            "image/png": "[encoded data removed]"
          },
          "metadata": {
            "needs_background": "light"
          }
        },
        {
          "output_type": "display_data",
          "data": {
            "text/plain": [
              "<Figure size 432x288 with 1 Axes>"
            ],
            "image/png": "[encoded data removed]"
          },
          "metadata": {
            "needs_background": "light"
          }
        }
      ]
    },
    {
      "cell_type": "markdown",
      "source": [
        "## **tests suite**"
      ],
      "metadata": {
        "id": "CIHvbdqLO2V4"
      }
    },
    {
      "cell_type": "code",
      "source": [
        "usuariosDF = db_selection('*', 'Usuario')\n",
        "usuariosDF"
      ],
      "metadata": {
        "colab": {
          "base_uri": "https://localhost:8080/",
          "height": 795
        },
        "id": "jx7e6PtyNWgc",
        "outputId": "3013e2f7-da0b-40a6-c4f3-01d27c3ab0fd"
      },
      "execution_count": null,
      "outputs": [
        {
          "output_type": "execute_result",
          "data": {
            "text/plain": [
              "    id_usuario             nombre apellido     celular  \\\n",
              "0            8       Fidel Castro     None  3008512552   \n",
              "1            9      Oscar Velasco     None  3222328874   \n",
              "2           10        juan Ladino     None  3058996370   \n",
              "3           11      Oscar Velasco     None  3222328874   \n",
              "4           12     hebreo salidas     None  3058996370   \n",
              "5           13  Michael Hernández     None  3158624052   \n",
              "6           15      mario jimenez     None  3005668965   \n",
              "7           18  Michael Hernández     None  3158624052   \n",
              "8           19  Michael Hernández     None  3158624052   \n",
              "9           20   Camila Fernández     None  3280646738   \n",
              "10          21     julian jimenez     None  3133141594   \n",
              "11          22    Alejandra Pardo     None  3058120054   \n",
              "12          23     Daniel Ramirez     None  3146384962   \n",
              "13          24     Sara Palacios      None        1234   \n",
              "\n",
              "                                         pwd  \\\n",
              "0   8cb2237d0679ca88db6464eac60da96345513964   \n",
              "1   7c4a8d09ca3762af61e59520943dc26494f8941b   \n",
              "2   f1d98133eb79709a5e388f98001c6a749e8003ce   \n",
              "3   dbbda9a589f9642f83dda78a50ac66424ea230ff   \n",
              "4   f1d98133eb79709a5e388f98001c6a749e8003ce   \n",
              "5   9f4139be1f16206ac48c1c63b344121b285a2a6e   \n",
              "6   8cb2237d0679ca88db6464eac60da96345513964   \n",
              "7   e8600dea45a309328cae20267b1bafb9554da799   \n",
              "8   7110eda4d09e062aa5e4a390b0a572ac0d2c0220   \n",
              "9   8cb2237d0679ca88db6464eac60da96345513964   \n",
              "10  7110eda4d09e062aa5e4a390b0a572ac0d2c0220   \n",
              "11  7c4a8d09ca3762af61e59520943dc26494f8941b   \n",
              "12  f7c3bc1d808e04732adf679965ccc34ca7ae3441   \n",
              "13  7110eda4d09e062aa5e4a390b0a572ac0d2c0220   \n",
              "\n",
              "                               email  calificacion picture create_by  \\\n",
              "0                  fidelin@gmail.com             3    None       sys   \n",
              "1                chiquillo@gmail.com             3    None       sys   \n",
              "2         juane.ladino0209@gmail.com             3    None       sys   \n",
              "3                oscarvch@hotmail.es             3    None       sys   \n",
              "4                   hebreo@gmail.com             3    None       sys   \n",
              "5              gerar1616@hotmail.com             3    None       sys   \n",
              "6                 mario@urosario.com             3    None       sys   \n",
              "7             gerard1616@hotmail.com             3    None       sys   \n",
              "8               gerard1616@yahoo.com             3    None       sys   \n",
              "9                   camila@gmail.com             3    None       sys   \n",
              "10                  jualin@gmail.com             3    None       sys   \n",
              "11               alejandra@gmail.com             3    None       sys   \n",
              "12  danielfe.ramirez@urosario.edu.co             3    None       sys   \n",
              "13    sara.palaciosc@urosario.edu.co             3    None       sys   \n",
              "\n",
              "          create_on  \n",
              "0   03:27:53.028703  \n",
              "1   05:09:18.669253  \n",
              "2   05:09:37.448520  \n",
              "3   15:43:31.177930  \n",
              "4   15:43:47.646820  \n",
              "5   16:15:11.248332  \n",
              "6   16:17:18.672690  \n",
              "7   16:19:50.462029  \n",
              "8   16:19:57.545973  \n",
              "9   16:24:17.090778  \n",
              "10  16:28:48.037418  \n",
              "11  16:42:42.165610  \n",
              "12  16:43:24.940764  \n",
              "13  16:46:25.494997  "
            ],
            "text/html": [
              "\n",
              "  <div id=\"df-5319c8e6-d4a4-4a3a-8085-be65cfe6802a\">\n",
              "    <div class=\"colab-df-container\">\n",
              "      <div>\n",
              "<style scoped>\n",
              "    .dataframe tbody tr th:only-of-type {\n",
              "        vertical-align: middle;\n",
              "    }\n",
              "\n",
              "    .dataframe tbody tr th {\n",
              "        vertical-align: top;\n",
              "    }\n",
              "\n",
              "    .dataframe thead th {\n",
              "        text-align: right;\n",
              "    }\n",
              "</style>\n",
              "<table border=\"1\" class=\"dataframe\">\n",
              "  <thead>\n",
              "    <tr style=\"text-align: right;\">\n",
              "      <th></th>\n",
              "      <th>id_usuario</th>\n",
              "      <th>nombre</th>\n",
              "      <th>apellido</th>\n",
              "      <th>celular</th>\n",
              "      <th>pwd</th>\n",
              "      <th>email</th>\n",
              "      <th>calificacion</th>\n",
              "      <th>picture</th>\n",
              "      <th>create_by</th>\n",
              "      <th>create_on</th>\n",
              "    </tr>\n",
              "  </thead>\n",
              "  <tbody>\n",
              "    <tr>\n",
              "      <th>0</th>\n",
              "      <td>8</td>\n",
              "      <td>Fidel Castro</td>\n",
              "      <td>None</td>\n",
              "      <td>3008512552</td>\n",
              "      <td>8cb2237d0679ca88db6464eac60da96345513964</td>\n",
              "      <td>fidelin@gmail.com</td>\n",
              "      <td>3</td>\n",
              "      <td>None</td>\n",
              "      <td>sys</td>\n",
              "      <td>03:27:53.028703</td>\n",
              "    </tr>\n",
              "    <tr>\n",
              "      <th>1</th>\n",
              "      <td>9</td>\n",
              "      <td>Oscar Velasco</td>\n",
              "      <td>None</td>\n",
              "      <td>3222328874</td>\n",
              "      <td>7c4a8d09ca3762af61e59520943dc26494f8941b</td>\n",
              "      <td>chiquillo@gmail.com</td>\n",
              "      <td>3</td>\n",
              "      <td>None</td>\n",
              "      <td>sys</td>\n",
              "      <td>05:09:18.669253</td>\n",
              "    </tr>\n",
              "    <tr>\n",
              "      <th>2</th>\n",
              "      <td>10</td>\n",
              "      <td>juan Ladino</td>\n",
              "      <td>None</td>\n",
              "      <td>3058996370</td>\n",
              "      <td>f1d98133eb79709a5e388f98001c6a749e8003ce</td>\n",
              "      <td>juane.ladino0209@gmail.com</td>\n",
              "      <td>3</td>\n",
              "      <td>None</td>\n",
              "      <td>sys</td>\n",
              "      <td>05:09:37.448520</td>\n",
              "    </tr>\n",
              "    <tr>\n",
              "      <th>3</th>\n",
              "      <td>11</td>\n",
              "      <td>Oscar Velasco</td>\n",
              "      <td>None</td>\n",
              "      <td>3222328874</td>\n",
              "      <td>dbbda9a589f9642f83dda78a50ac66424ea230ff</td>\n",
              "      <td>oscarvch@hotmail.es</td>\n",
              "      <td>3</td>\n",
              "      <td>None</td>\n",
              "      <td>sys</td>\n",
              "      <td>15:43:31.177930</td>\n",
              "    </tr>\n",
              "    <tr>\n",
              "      <th>4</th>\n",
              "      <td>12</td>\n",
              "      <td>hebreo salidas</td>\n",
              "      <td>None</td>\n",
              "      <td>3058996370</td>\n",
              "      <td>f1d98133eb79709a5e388f98001c6a749e8003ce</td>\n",
              "      <td>hebreo@gmail.com</td>\n",
              "      <td>3</td>\n",
              "      <td>None</td>\n",
              "      <td>sys</td>\n",
              "      <td>15:43:47.646820</td>\n",
              "    </tr>\n",
              "    <tr>\n",
              "      <th>5</th>\n",
              "      <td>13</td>\n",
              "      <td>Michael Hernández</td>\n",
              "      <td>None</td>\n",
              "      <td>3158624052</td>\n",
              "      <td>9f4139be1f16206ac48c1c63b344121b285a2a6e</td>\n",
              "      <td>gerar1616@hotmail.com</td>\n",
              "      <td>3</td>\n",
              "      <td>None</td>\n",
              "      <td>sys</td>\n",
              "      <td>16:15:11.248332</td>\n",
              "    </tr>\n",
              "    <tr>\n",
              "      <th>6</th>\n",
              "      <td>15</td>\n",
              "      <td>mario jimenez</td>\n",
              "      <td>None</td>\n",
              "      <td>3005668965</td>\n",
              "      <td>8cb2237d0679ca88db6464eac60da96345513964</td>\n",
              "      <td>mario@urosario.com</td>\n",
              "      <td>3</td>\n",
              "      <td>None</td>\n",
              "      <td>sys</td>\n",
              "      <td>16:17:18.672690</td>\n",
              "    </tr>\n",
              "    <tr>\n",
              "      <th>7</th>\n",
              "      <td>18</td>\n",
              "      <td>Michael Hernández</td>\n",
              "      <td>None</td>\n",
              "      <td>3158624052</td>\n",
              "      <td>e8600dea45a309328cae20267b1bafb9554da799</td>\n",
              "      <td>gerard1616@hotmail.com</td>\n",
              "      <td>3</td>\n",
              "      <td>None</td>\n",
              "      <td>sys</td>\n",
              "      <td>16:19:50.462029</td>\n",
              "    </tr>\n",
              "    <tr>\n",
              "      <th>8</th>\n",
              "      <td>19</td>\n",
              "      <td>Michael Hernández</td>\n",
              "      <td>None</td>\n",
              "      <td>3158624052</td>\n",
              "      <td>7110eda4d09e062aa5e4a390b0a572ac0d2c0220</td>\n",
              "      <td>gerard1616@yahoo.com</td>\n",
              "      <td>3</td>\n",
              "      <td>None</td>\n",
              "      <td>sys</td>\n",
              "      <td>16:19:57.545973</td>\n",
              "    </tr>\n",
              "    <tr>\n",
              "      <th>9</th>\n",
              "      <td>20</td>\n",
              "      <td>Camila Fernández</td>\n",
              "      <td>None</td>\n",
              "      <td>3280646738</td>\n",
              "      <td>8cb2237d0679ca88db6464eac60da96345513964</td>\n",
              "      <td>camila@gmail.com</td>\n",
              "      <td>3</td>\n",
              "      <td>None</td>\n",
              "      <td>sys</td>\n",
              "      <td>16:24:17.090778</td>\n",
              "    </tr>\n",
              "    <tr>\n",
              "      <th>10</th>\n",
              "      <td>21</td>\n",
              "      <td>julian jimenez</td>\n",
              "      <td>None</td>\n",
              "      <td>3133141594</td>\n",
              "      <td>7110eda4d09e062aa5e4a390b0a572ac0d2c0220</td>\n",
              "      <td>jualin@gmail.com</td>\n",
              "      <td>3</td>\n",
              "      <td>None</td>\n",
              "      <td>sys</td>\n",
              "      <td>16:28:48.037418</td>\n",
              "    </tr>\n",
              "    <tr>\n",
              "      <th>11</th>\n",
              "      <td>22</td>\n",
              "      <td>Alejandra Pardo</td>\n",
              "      <td>None</td>\n",
              "      <td>3058120054</td>\n",
              "      <td>7c4a8d09ca3762af61e59520943dc26494f8941b</td>\n",
              "      <td>alejandra@gmail.com</td>\n",
              "      <td>3</td>\n",
              "      <td>None</td>\n",
              "      <td>sys</td>\n",
              "      <td>16:42:42.165610</td>\n",
              "    </tr>\n",
              "    <tr>\n",
              "      <th>12</th>\n",
              "      <td>23</td>\n",
              "      <td>Daniel Ramirez</td>\n",
              "      <td>None</td>\n",
              "      <td>3146384962</td>\n",
              "      <td>f7c3bc1d808e04732adf679965ccc34ca7ae3441</td>\n",
              "      <td>danielfe.ramirez@urosario.edu.co</td>\n",
              "      <td>3</td>\n",
              "      <td>None</td>\n",
              "      <td>sys</td>\n",
              "      <td>16:43:24.940764</td>\n",
              "    </tr>\n",
              "    <tr>\n",
              "      <th>13</th>\n",
              "      <td>24</td>\n",
              "      <td>Sara Palacios</td>\n",
              "      <td>None</td>\n",
              "      <td>1234</td>\n",
              "      <td>7110eda4d09e062aa5e4a390b0a572ac0d2c0220</td>\n",
              "      <td>sara.palaciosc@urosario.edu.co</td>\n",
              "      <td>3</td>\n",
              "      <td>None</td>\n",
              "      <td>sys</td>\n",
              "      <td>16:46:25.494997</td>\n",
              "    </tr>\n",
              "  </tbody>\n",
              "</table>\n",
              "</div>\n",
              "      <button class=\"colab-df-convert\" onclick=\"convertToInteractive('df-5319c8e6-d4a4-4a3a-8085-be65cfe6802a')\"\n",
              "              title=\"Convert this dataframe to an interactive table.\"\n",
              "              style=\"display:none;\">\n",
              "        \n",
              "  <svg xmlns=\"http://www.w3.org/2000/svg\" height=\"24px\"viewBox=\"0 0 24 24\"\n",
              "       width=\"24px\">\n",
              "    <path d=\"M0 0h24v24H0V0z\" fill=\"none\"/>\n",
              "    <path d=\"M18.56 5.44l.94 2.06.94-2.06 2.06-.94-2.06-.94-.94-2.06-.94 2.06-2.06.94zm-11 1L8.5 8.5l.94-2.06 2.06-.94-2.06-.94L8.5 2.5l-.94 2.06-2.06.94zm10 10l.94 2.06.94-2.06 2.06-.94-2.06-.94-.94-2.06-.94 2.06-2.06.94z\"/><path d=\"M17.41 7.96l-1.37-1.37c-.4-.4-.92-.59-1.43-.59-.52 0-1.04.2-1.43.59L10.3 9.45l-7.72 7.72c-.78.78-.78 2.05 0 2.83L4 21.41c.39.39.9.59 1.41.59.51 0 1.02-.2 1.41-.59l7.78-7.78 2.81-2.81c.8-.78.8-2.07 0-2.86zM5.41 20L4 18.59l7.72-7.72 1.47 1.35L5.41 20z\"/>\n",
              "  </svg>\n",
              "      </button>\n",
              "      \n",
              "  <style>\n",
              "    .colab-df-container {\n",
              "      display:flex;\n",
              "      flex-wrap:wrap;\n",
              "      gap: 12px;\n",
              "    }\n",
              "\n",
              "    .colab-df-convert {\n",
              "      background-color: #E8F0FE;\n",
              "      border: none;\n",
              "      border-radius: 50%;\n",
              "      cursor: pointer;\n",
              "      display: none;\n",
              "      fill: #1967D2;\n",
              "      height: 32px;\n",
              "      padding: 0 0 0 0;\n",
              "      width: 32px;\n",
              "    }\n",
              "\n",
              "    .colab-df-convert:hover {\n",
              "      background-color: #E2EBFA;\n",
              "      box-shadow: 0px 1px 2px rgba(60, 64, 67, 0.3), 0px 1px 3px 1px rgba(60, 64, 67, 0.15);\n",
              "      fill: #174EA6;\n",
              "    }\n",
              "\n",
              "    [theme=dark] .colab-df-convert {\n",
              "      background-color: #3B4455;\n",
              "      fill: #D2E3FC;\n",
              "    }\n",
              "\n",
              "    [theme=dark] .colab-df-convert:hover {\n",
              "      background-color: #434B5C;\n",
              "      box-shadow: 0px 1px 3px 1px rgba(0, 0, 0, 0.15);\n",
              "      filter: drop-shadow(0px 1px 2px rgba(0, 0, 0, 0.3));\n",
              "      fill: #FFFFFF;\n",
              "    }\n",
              "  </style>\n",
              "\n",
              "      <script>\n",
              "        const buttonEl =\n",
              "          document.querySelector('#df-5319c8e6-d4a4-4a3a-8085-be65cfe6802a button.colab-df-convert');\n",
              "        buttonEl.style.display =\n",
              "          google.colab.kernel.accessAllowed ? 'block' : 'none';\n",
              "\n",
              "        async function convertToInteractive(key) {\n",
              "          const element = document.querySelector('#df-5319c8e6-d4a4-4a3a-8085-be65cfe6802a');\n",
              "          const dataTable =\n",
              "            await google.colab.kernel.invokeFunction('convertToInteractive',\n",
              "                                                     [key], {});\n",
              "          if (!dataTable) return;\n",
              "\n",
              "          const docLinkHtml = 'Like what you see? Visit the ' +\n",
              "            '<a target=\"_blank\" href=https://colab.research.google.com/notebooks/data_table.ipynb>data table notebook</a>'\n",
              "            + ' to learn more about interactive tables.';\n",
              "          element.innerHTML = '';\n",
              "          dataTable['output_type'] = 'display_data';\n",
              "          await google.colab.output.renderOutput(dataTable, element);\n",
              "          const docLink = document.createElement('div');\n",
              "          docLink.innerHTML = docLinkHtml;\n",
              "          element.appendChild(docLink);\n",
              "        }\n",
              "      </script>\n",
              "    </div>\n",
              "  </div>\n",
              "  "
            ]
          },
          "metadata": {},
          "execution_count": 103
        }
      ]
    }
  ]
}