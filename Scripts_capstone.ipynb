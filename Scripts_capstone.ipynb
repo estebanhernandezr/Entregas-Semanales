{
  "nbformat": 4,
  "nbformat_minor": 0,
  "metadata": {
    "colab": {
      "name": "Scripts capstone",
      "provenance": [],
      "collapsed_sections": [
        "49RR0P23PD94",
        "XVTpqpt7O9-5",
        "CIHvbdqLO2V4"
      ],
      "authorship_tag": "ABX9TyMF5kz7he7jwKY8eaGs7jUe",
      "include_colab_link": true
    },
    "kernelspec": {
      "name": "python3",
      "display_name": "Python 3"
    },
    "language_info": {
      "name": "python"
    }
  },
  "cells": [
    {
      "cell_type": "markdown",
      "metadata": {
        "id": "view-in-github",
        "colab_type": "text"
      },
      "source": [
        "<a href=\"https://colab.research.google.com/github/estebanhernandezr/Entregas-Semanales/blob/main/Scripts_capstone.ipynb\" target=\"_parent\"><img src=\"https://colab.research.google.com/assets/colab-badge.svg\" alt=\"Open In Colab\"/></a>"
      ]
    },
    {
      "cell_type": "markdown",
      "source": [
        "### **imports**"
      ],
      "metadata": {
        "id": "49RR0P23PD94"
      }
    },
    {
      "cell_type": "code",
      "execution_count": 55,
      "metadata": {
        "id": "00nDh9xx6U-d"
      },
      "outputs": [],
      "source": [
        "import psycopg2\n",
        "import pandas as pd"
      ]
    },
    {
      "cell_type": "markdown",
      "source": [
        "### **functions**"
      ],
      "metadata": {
        "id": "D44jCmFxPBLL"
      }
    },
    {
      "cell_type": "code",
      "source": [
        "def db_selection(what, where):\n",
        "    engine = None\n",
        "    resultDataFrame = None\n",
        "    try:\n",
        "        engine = psycopg2.connect(\n",
        "            database = \"UDriveDB\",\n",
        "            user = \"UDriveAdmin\",\n",
        "            password = \"UDriveAdmin10\",\n",
        "            host = \"database-1.ct0kpzfxpmof.us-east-1.rds.amazonaws.com\",\n",
        "            port = \"5432\"\n",
        "        )\n",
        "        #cursorDB = engine.cursor()\n",
        "        #cursorDB.execute(\"SELECT \"+what+\" FROM \"+where+\";\")\n",
        "        #resultDataFrame = cursorDB.fetchone()\n",
        "        data = pd.read_sql_query(\"SELECT \"+what+\" FROM \"+where+\";\", engine)\n",
        "        resultDataFrame = pd.DataFrame(data)\n",
        "    except(Exception, psycopg2.DatabaseError) as error:\n",
        "        print(\"Error:\", error)\n",
        "        raise(ValueError(Exception))\n",
        "    finally:\n",
        "          if engine is not None:\n",
        "              engine.close()\n",
        "          return resultDataFrame"
      ],
      "metadata": {
        "id": "tYwyuQJ_6dXT"
      },
      "execution_count": 218,
      "outputs": []
    },
    {
      "cell_type": "code",
      "source": [
        "def count_column_values(dataframe, col):\n",
        "    print(dataframe[col].value_counts())"
      ],
      "metadata": {
        "id": "OUMW_3CaOHeI"
      },
      "execution_count": 237,
      "outputs": []
    },
    {
      "cell_type": "markdown",
      "source": [
        "### **main**"
      ],
      "metadata": {
        "id": "XVTpqpt7O9-5"
      }
    },
    {
      "cell_type": "code",
      "source": [
        "def main():\n",
        "    usuariosDF = db_selection('*', 'Usuario')\n",
        "    count_column_values(dataframe=usuariosDF, col='nombre')"
      ],
      "metadata": {
        "id": "UvQB3Li_6x2f"
      },
      "execution_count": 233,
      "outputs": []
    },
    {
      "cell_type": "code",
      "source": [
        "main()"
      ],
      "metadata": {
        "colab": {
          "base_uri": "https://localhost:8080/"
        },
        "id": "2Gl2kr06_fvc",
        "outputId": "a9af93d4-3b7e-4879-d17c-65fa1e7d5377"
      },
      "execution_count": 235,
      "outputs": [
        {
          "output_type": "stream",
          "name": "stdout",
          "text": [
            "Michael Hernández    3\n",
            "Oscar Velasco        2\n",
            "Fidel Castro         1\n",
            "juan Ladino          1\n",
            "hebreo salidas       1\n",
            "mario jimenez        1\n",
            "Camila Fernández     1\n",
            "julian jimenez       1\n",
            "Alejandra Pardo      1\n",
            "Daniel Ramirez       1\n",
            "Sara Palacios        1\n",
            "Name: nombre, dtype: int64\n"
          ]
        }
      ]
    },
    {
      "cell_type": "markdown",
      "source": [
        "### **tests suite**"
      ],
      "metadata": {
        "id": "CIHvbdqLO2V4"
      }
    },
    {
      "cell_type": "code",
      "source": [
        "usuariosDF = db_selection('*', 'Usuario')\n",
        "usuariosDF['nombre'].value_counts()"
      ],
      "metadata": {
        "colab": {
          "base_uri": "https://localhost:8080/"
        },
        "id": "jx7e6PtyNWgc",
        "outputId": "b936abff-e534-415f-df81-cb7c78ddc1fa"
      },
      "execution_count": 225,
      "outputs": [
        {
          "output_type": "execute_result",
          "data": {
            "text/plain": [
              "Michael Hernández    3\n",
              "Oscar Velasco        2\n",
              "Fidel Castro         1\n",
              "juan Ladino          1\n",
              "hebreo salidas       1\n",
              "mario jimenez        1\n",
              "Camila Fernández     1\n",
              "julian jimenez       1\n",
              "Alejandra Pardo      1\n",
              "Daniel Ramirez       1\n",
              "Sara Palacios        1\n",
              "Name: nombre, dtype: int64"
            ]
          },
          "metadata": {},
          "execution_count": 225
        }
      ]
    }
  ]
}