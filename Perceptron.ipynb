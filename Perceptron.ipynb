{
  "nbformat": 4,
  "nbformat_minor": 0,
  "metadata": {
    "colab": {
      "name": "Perceptron",
      "provenance": [],
      "collapsed_sections": [
        "WT4Dz7x3tJQM",
        "4JMKs_KttM0Y"
      ],
      "authorship_tag": "ABX9TyN6fhUpnwhNLamHb9XB04Fa",
      "include_colab_link": true
    },
    "kernelspec": {
      "name": "python3",
      "display_name": "Python 3"
    },
    "language_info": {
      "name": "python"
    }
  },
  "cells": [
    {
      "cell_type": "markdown",
      "metadata": {
        "id": "view-in-github",
        "colab_type": "text"
      },
      "source": [
        "<a href=\"https://colab.research.google.com/github/estebanhernandezr/Entregas-Semanales/blob/main/Perceptron.ipynb\" target=\"_parent\"><img src=\"https://colab.research.google.com/assets/colab-badge.svg\" alt=\"Open In Colab\"/></a>"
      ]
    },
    {
      "cell_type": "code",
      "source": [
        "import numpy as np\n",
        "import pandas as pd\n",
        "import sklearn as sk\n",
        "from sklearn.model_selection import train_test_split"
      ],
      "metadata": {
        "id": "SC47VjDycV6F"
      },
      "execution_count": 65,
      "outputs": []
    },
    {
      "cell_type": "markdown",
      "source": [
        "# **PERCEPTRON**"
      ],
      "metadata": {
        "id": "WT4Dz7x3tJQM"
      }
    },
    {
      "cell_type": "code",
      "execution_count": 66,
      "metadata": {
        "id": "v2CDZ4piV8ks"
      },
      "outputs": [],
      "source": [
        "class Perceptron:\n",
        "    def __init__(self, umbral=0.5, W=None):\n",
        "        self.umbral = umbral\n",
        "        self.W = W\n",
        "\n",
        "    def sum_union_func(self, x):\n",
        "        gX = np.matmul(x, self.W)\n",
        "        return gX\n",
        "\n",
        "    def threshold_func(self, val):\n",
        "        y = None\n",
        "        if val > self.umbral: y = 1\n",
        "        else: y = -1\n",
        "        return y\n",
        "\n",
        "    def train(self, X, y, learn_rate, epochs):\n",
        "        # PASO 1\n",
        "        self.W = np.zeros(X.shape[1])\n",
        "        # PASO 2\n",
        "        for iter in range(epochs):\n",
        "            for i, x in enumerate(X):\n",
        "                gX = self.sum_union_func(x)\n",
        "                yb = self.threshold_func(gX)\n",
        "\n",
        "                aux_W = [w for w in self.W]\n",
        "                for j in range(len(aux_W)):\n",
        "                    aux_W[j] = self.W[j] + (learn_rate*(y[i]-yb)*x[j])\n",
        "                self.W = [w for w in aux_W]\n",
        "        # PASO 3\n",
        "        print('¡Neuron has been trainned!')\n",
        "        return None\n",
        "\n",
        "    def predict(self, x):\n",
        "        gX = self.sum_union_func(x)\n",
        "        yb = self.threshold_func(gX)\n",
        "        return yb"
      ]
    },
    {
      "cell_type": "code",
      "source": [
        "# AND GATE\n",
        "X = np.array([\n",
        "     [0, 0],\n",
        "     [0, 1],\n",
        "     [1, 0],\n",
        "     [1, 1]\n",
        "    ])\n",
        "\n",
        "y = np.array([-1, -1, -1, 1])\n",
        "\n",
        "Perceptron_AND = Perceptron()\n",
        "Perceptron_AND.train(X, y, 0.02, 200)\n",
        "print('0 + 0 := ', Perceptron_AND.predict([0, 0]))\n",
        "print('0 + 1 := ', Perceptron_AND.predict([0, 1]))\n",
        "print('1 + 0 := ', Perceptron_AND.predict([1, 0]))\n",
        "print('1 + 1 := ', Perceptron_AND.predict([1, 1]))\n",
        "print('pesos: ', Perceptron_AND.W)"
      ],
      "metadata": {
        "colab": {
          "base_uri": "https://localhost:8080/"
        },
        "id": "6Q4vDpmZcker",
        "outputId": "c30b8d88-1c12-4318-a240-4102e0f6d926"
      },
      "execution_count": 67,
      "outputs": [
        {
          "output_type": "stream",
          "name": "stdout",
          "text": [
            "¡Neuron has been trainned!\n",
            "0 + 0 :=  -1\n",
            "0 + 1 :=  -1\n",
            "1 + 0 :=  -1\n",
            "1 + 1 :=  1\n",
            "pesos:  [0.28, 0.28]\n"
          ]
        }
      ]
    },
    {
      "cell_type": "code",
      "source": [
        "# OR GATE\n",
        "X = np.array([\n",
        "     [0, 0],\n",
        "     [0, 1],\n",
        "     [1, 0],\n",
        "     [1, 1]\n",
        "    ])\n",
        "\n",
        "y = np.array([-1, 1, 1, 1])\n",
        "\n",
        "Perceptron_OR = Perceptron()\n",
        "Perceptron_OR.train(X, y, 0.2, 100)\n",
        "print('0 + 0 :=', Perceptron_OR.predict([0, 0]))\n",
        "print('0 + 1 :=', Perceptron_OR.predict([0, 1]))\n",
        "print('1 + 0 :=', Perceptron_OR.predict([1, 0]))\n",
        "print('1 + 1 :=', Perceptron_OR.predict([1, 1]))\n",
        "print('pesos:', Perceptron_OR.W)"
      ],
      "metadata": {
        "colab": {
          "base_uri": "https://localhost:8080/"
        },
        "id": "Csur6zqIkKha",
        "outputId": "3841f8cb-fd3d-464e-c266-07d4b510e948"
      },
      "execution_count": 68,
      "outputs": [
        {
          "output_type": "stream",
          "name": "stdout",
          "text": [
            "¡Neuron has been trainned!\n",
            "0 + 0 := -1\n",
            "0 + 1 := 1\n",
            "1 + 0 := 1\n",
            "1 + 1 := 1\n",
            "pesos: [0.8, 0.8]\n"
          ]
        }
      ]
    },
    {
      "cell_type": "code",
      "source": [
        ""
      ],
      "metadata": {
        "id": "EKd9o7tLt4C8"
      },
      "execution_count": 68,
      "outputs": []
    },
    {
      "cell_type": "markdown",
      "source": [
        "# **ADAline**"
      ],
      "metadata": {
        "id": "4JMKs_KttM0Y"
      }
    },
    {
      "cell_type": "code",
      "source": [
        "class ADAline:\n",
        "    def __init__(self, umbral=0.5, W=None):\n",
        "        self.umbral = umbral\n",
        "        self.W = W\n",
        "\n",
        "    def sum_union_func(self, x):\n",
        "        gX = np.dot(x, self.W[1:]) + self.W[0]\n",
        "        return gX\n",
        "\n",
        "    def threshold_func(self, val):\n",
        "        y = None\n",
        "        if val > self.umbral: y = 1\n",
        "        else: y = -1\n",
        "        return y\n",
        "\n",
        "    def train(self, X, y, learn_rate, epochs):\n",
        "        # PASO 1\n",
        "        self.W = np.zeros(X.shape[1]+1)\n",
        "        # PASO 2\n",
        "        for iter in range(epochs):\n",
        "            ybs = []\n",
        "            for x in X:\n",
        "                gX = self.sum_union_func(x)\n",
        "                yb = gX # self.threshold_func(gX)\n",
        "                ybs.append(yb)\n",
        "            # GRADIENTE DESCENDENTE\n",
        "            errors = y - ybs\n",
        "            self.W[0] = self.W[0] + learn_rate*errors.sum()\n",
        "            self.W[1:] = self.W[1:] + learn_rate*X.T.dot(errors)\n",
        "        # PASO 3\n",
        "        print('¡Neuron has been trainned!')\n",
        "        return None\n",
        "\n",
        "    def predict(self, x):\n",
        "        gX = self.sum_union_func(x)\n",
        "        yb = self.threshold_func(gX)\n",
        "        return yb"
      ],
      "metadata": {
        "id": "l3AAK8hztO2F"
      },
      "execution_count": 69,
      "outputs": []
    },
    {
      "cell_type": "code",
      "source": [
        "# AND GATE\n",
        "X = np.array([\n",
        "     [0, 0],\n",
        "     [0, 1],\n",
        "     [1, 0],\n",
        "     [1, 1]\n",
        "    ])\n",
        "\n",
        "y = np.array([-1, -1, -1, 1])\n",
        "\n",
        "ADAline_AND = ADAline(umbral=0)\n",
        "ADAline_AND.train(X, y, 0.2, 100)\n",
        "print('0 + 0 :=', ADAline_AND.predict([0, 0]))\n",
        "print('0 + 1 :=', ADAline_AND.predict([0, 1]))\n",
        "print('1 + 0 :=', ADAline_AND.predict([1, 0]))\n",
        "print('1 + 1 :=', ADAline_AND.predict([1, 1]))\n",
        "print('pesos:', ADAline_AND.W)"
      ],
      "metadata": {
        "colab": {
          "base_uri": "https://localhost:8080/"
        },
        "id": "DAZ4wXq2sLGS",
        "outputId": "887082ea-3877-4648-be99-bfbcb67667aa"
      },
      "execution_count": 70,
      "outputs": [
        {
          "output_type": "stream",
          "name": "stdout",
          "text": [
            "¡Neuron has been trainned!\n",
            "0 + 0 := -1\n",
            "0 + 1 := -1\n",
            "1 + 0 := -1\n",
            "1 + 1 := 1\n",
            "pesos: [-1.49999804  0.99999834  0.99999834]\n"
          ]
        }
      ]
    },
    {
      "cell_type": "code",
      "source": [
        "# OR GATE\n",
        "X = np.array([\n",
        "     [0, 0],\n",
        "     [0, 1],\n",
        "     [1, 0],\n",
        "     [1, 1]\n",
        "    ])\n",
        "\n",
        "y = np.array([-1, 1, 1, 1])\n",
        "\n",
        "ADAline_OR = ADAline(umbral=0)\n",
        "ADAline_OR.train(X, y, 0.2, 100)\n",
        "print('0 + 0 :=', ADAline_OR.predict([0, 0]))\n",
        "print('0 + 1 :=', ADAline_OR.predict([0, 1]))\n",
        "print('1 + 0 :=', ADAline_OR.predict([1, 0]))\n",
        "print('1 + 1 :=', ADAline_OR.predict([1, 1]))\n",
        "print('pesos: ', ADAline_OR.W)"
      ],
      "metadata": {
        "colab": {
          "base_uri": "https://localhost:8080/"
        },
        "id": "j9VUCN79sx4Z",
        "outputId": "1139868c-2365-4ac3-812a-a9e365c43050"
      },
      "execution_count": 71,
      "outputs": [
        {
          "output_type": "stream",
          "name": "stdout",
          "text": [
            "¡Neuron has been trainned!\n",
            "0 + 0 := -1\n",
            "0 + 1 := 1\n",
            "1 + 0 := 1\n",
            "1 + 1 := 1\n",
            "pesos:  [-0.49999865  0.99999886  0.99999886]\n"
          ]
        }
      ]
    },
    {
      "cell_type": "code",
      "source": [
        "# NOR GATE\n",
        "X = np.array([\n",
        "     [0, 0],\n",
        "     [0, 1],\n",
        "     [1, 0],\n",
        "     [1, 1]\n",
        "    ])\n",
        "\n",
        "y = np.array([1, -1, -1, -1])\n",
        "\n",
        "ADAline_NOR = ADAline(umbral=0)\n",
        "ADAline_NOR.train(X, y, 0.2, 100)\n",
        "print('0 + 0 :=', ADAline_NOR.predict([0, 0]))\n",
        "print('0 + 1 :=', ADAline_NOR.predict([0, 1]))\n",
        "print('1 + 0 :=', ADAline_NOR.predict([1, 0]))\n",
        "print('1 + 1 :=', ADAline_NOR.predict([1, 1]))\n",
        "print('pesos: ', ADAline_NOR.W)"
      ],
      "metadata": {
        "colab": {
          "base_uri": "https://localhost:8080/"
        },
        "id": "9kQYo7R2nTLF",
        "outputId": "ad2726cc-1028-4eda-ec05-798d347fd086"
      },
      "execution_count": 72,
      "outputs": [
        {
          "output_type": "stream",
          "name": "stdout",
          "text": [
            "¡Neuron has been trainned!\n",
            "0 + 0 := 1\n",
            "0 + 1 := -1\n",
            "1 + 0 := -1\n",
            "1 + 1 := -1\n",
            "pesos:  [ 0.49999865 -0.99999886 -0.99999886]\n"
          ]
        }
      ]
    },
    {
      "cell_type": "code",
      "source": [
        "# NAND GATE\n",
        "X = np.array([\n",
        "     [0, 0],\n",
        "     [0, 1],\n",
        "     [1, 0],\n",
        "     [1, 1]\n",
        "    ])\n",
        "\n",
        "y = np.array([1, 1, 1, -1])\n",
        "\n",
        "ADAline_NAND = ADAline(umbral=0)\n",
        "ADAline_NAND.train(X, y, 0.2, 100)\n",
        "print('0 + 0 :=', ADAline_NAND.predict([0, 0]))\n",
        "print('0 + 1 :=', ADAline_NAND.predict([0, 1]))\n",
        "print('1 + 0 :=', ADAline_NAND.predict([1, 0]))\n",
        "print('1 + 1 :=', ADAline_NAND.predict([1, 1]))\n",
        "print('pesos: ', ADAline_NAND.W)"
      ],
      "metadata": {
        "colab": {
          "base_uri": "https://localhost:8080/"
        },
        "id": "t8LNOYZOnsLU",
        "outputId": "4951856d-9eb8-4bc2-c2c8-4d184ccc4a76"
      },
      "execution_count": 73,
      "outputs": [
        {
          "output_type": "stream",
          "name": "stdout",
          "text": [
            "¡Neuron has been trainned!\n",
            "0 + 0 := 1\n",
            "0 + 1 := 1\n",
            "1 + 0 := 1\n",
            "1 + 1 := -1\n",
            "pesos:  [ 1.49999804 -0.99999834 -0.99999834]\n"
          ]
        }
      ]
    },
    {
      "cell_type": "markdown",
      "source": [
        "#**IRIS DATASET**"
      ],
      "metadata": {
        "id": "8FFacbNRt9Br"
      }
    },
    {
      "cell_type": "markdown",
      "source": [
        "importamos a python el dataset *iris*."
      ],
      "metadata": {
        "id": "qtDlGxdAwAPA"
      }
    },
    {
      "cell_type": "code",
      "source": [
        "df = pd.read_csv('https://archive.ics.uci.edu/ml/machine-learning-databases/iris/iris.data', header=None)\n",
        "df.head()"
      ],
      "metadata": {
        "colab": {
          "base_uri": "https://localhost:8080/",
          "height": 206
        },
        "id": "W9Qnu4JVt_zQ",
        "outputId": "6ea5e161-6cef-4e13-ff26-41185534d5ea"
      },
      "execution_count": 75,
      "outputs": [
        {
          "output_type": "execute_result",
          "data": {
            "text/plain": [
              "     0    1    2    3            4\n",
              "0  5.1  3.5  1.4  0.2  Iris-setosa\n",
              "1  4.9  3.0  1.4  0.2  Iris-setosa\n",
              "2  4.7  3.2  1.3  0.2  Iris-setosa\n",
              "3  4.6  3.1  1.5  0.2  Iris-setosa\n",
              "4  5.0  3.6  1.4  0.2  Iris-setosa"
            ],
            "text/html": [
              "\n",
              "  <div id=\"df-31cb34ed-72cf-4e56-a5a5-e9a61fda6982\">\n",
              "    <div class=\"colab-df-container\">\n",
              "      <div>\n",
              "<style scoped>\n",
              "    .dataframe tbody tr th:only-of-type {\n",
              "        vertical-align: middle;\n",
              "    }\n",
              "\n",
              "    .dataframe tbody tr th {\n",
              "        vertical-align: top;\n",
              "    }\n",
              "\n",
              "    .dataframe thead th {\n",
              "        text-align: right;\n",
              "    }\n",
              "</style>\n",
              "<table border=\"1\" class=\"dataframe\">\n",
              "  <thead>\n",
              "    <tr style=\"text-align: right;\">\n",
              "      <th></th>\n",
              "      <th>0</th>\n",
              "      <th>1</th>\n",
              "      <th>2</th>\n",
              "      <th>3</th>\n",
              "      <th>4</th>\n",
              "    </tr>\n",
              "  </thead>\n",
              "  <tbody>\n",
              "    <tr>\n",
              "      <th>0</th>\n",
              "      <td>5.1</td>\n",
              "      <td>3.5</td>\n",
              "      <td>1.4</td>\n",
              "      <td>0.2</td>\n",
              "      <td>Iris-setosa</td>\n",
              "    </tr>\n",
              "    <tr>\n",
              "      <th>1</th>\n",
              "      <td>4.9</td>\n",
              "      <td>3.0</td>\n",
              "      <td>1.4</td>\n",
              "      <td>0.2</td>\n",
              "      <td>Iris-setosa</td>\n",
              "    </tr>\n",
              "    <tr>\n",
              "      <th>2</th>\n",
              "      <td>4.7</td>\n",
              "      <td>3.2</td>\n",
              "      <td>1.3</td>\n",
              "      <td>0.2</td>\n",
              "      <td>Iris-setosa</td>\n",
              "    </tr>\n",
              "    <tr>\n",
              "      <th>3</th>\n",
              "      <td>4.6</td>\n",
              "      <td>3.1</td>\n",
              "      <td>1.5</td>\n",
              "      <td>0.2</td>\n",
              "      <td>Iris-setosa</td>\n",
              "    </tr>\n",
              "    <tr>\n",
              "      <th>4</th>\n",
              "      <td>5.0</td>\n",
              "      <td>3.6</td>\n",
              "      <td>1.4</td>\n",
              "      <td>0.2</td>\n",
              "      <td>Iris-setosa</td>\n",
              "    </tr>\n",
              "  </tbody>\n",
              "</table>\n",
              "</div>\n",
              "      <button class=\"colab-df-convert\" onclick=\"convertToInteractive('df-31cb34ed-72cf-4e56-a5a5-e9a61fda6982')\"\n",
              "              title=\"Convert this dataframe to an interactive table.\"\n",
              "              style=\"display:none;\">\n",
              "        \n",
              "  <svg xmlns=\"http://www.w3.org/2000/svg\" height=\"24px\"viewBox=\"0 0 24 24\"\n",
              "       width=\"24px\">\n",
              "    <path d=\"M0 0h24v24H0V0z\" fill=\"none\"/>\n",
              "    <path d=\"M18.56 5.44l.94 2.06.94-2.06 2.06-.94-2.06-.94-.94-2.06-.94 2.06-2.06.94zm-11 1L8.5 8.5l.94-2.06 2.06-.94-2.06-.94L8.5 2.5l-.94 2.06-2.06.94zm10 10l.94 2.06.94-2.06 2.06-.94-2.06-.94-.94-2.06-.94 2.06-2.06.94z\"/><path d=\"M17.41 7.96l-1.37-1.37c-.4-.4-.92-.59-1.43-.59-.52 0-1.04.2-1.43.59L10.3 9.45l-7.72 7.72c-.78.78-.78 2.05 0 2.83L4 21.41c.39.39.9.59 1.41.59.51 0 1.02-.2 1.41-.59l7.78-7.78 2.81-2.81c.8-.78.8-2.07 0-2.86zM5.41 20L4 18.59l7.72-7.72 1.47 1.35L5.41 20z\"/>\n",
              "  </svg>\n",
              "      </button>\n",
              "      \n",
              "  <style>\n",
              "    .colab-df-container {\n",
              "      display:flex;\n",
              "      flex-wrap:wrap;\n",
              "      gap: 12px;\n",
              "    }\n",
              "\n",
              "    .colab-df-convert {\n",
              "      background-color: #E8F0FE;\n",
              "      border: none;\n",
              "      border-radius: 50%;\n",
              "      cursor: pointer;\n",
              "      display: none;\n",
              "      fill: #1967D2;\n",
              "      height: 32px;\n",
              "      padding: 0 0 0 0;\n",
              "      width: 32px;\n",
              "    }\n",
              "\n",
              "    .colab-df-convert:hover {\n",
              "      background-color: #E2EBFA;\n",
              "      box-shadow: 0px 1px 2px rgba(60, 64, 67, 0.3), 0px 1px 3px 1px rgba(60, 64, 67, 0.15);\n",
              "      fill: #174EA6;\n",
              "    }\n",
              "\n",
              "    [theme=dark] .colab-df-convert {\n",
              "      background-color: #3B4455;\n",
              "      fill: #D2E3FC;\n",
              "    }\n",
              "\n",
              "    [theme=dark] .colab-df-convert:hover {\n",
              "      background-color: #434B5C;\n",
              "      box-shadow: 0px 1px 3px 1px rgba(0, 0, 0, 0.15);\n",
              "      filter: drop-shadow(0px 1px 2px rgba(0, 0, 0, 0.3));\n",
              "      fill: #FFFFFF;\n",
              "    }\n",
              "  </style>\n",
              "\n",
              "      <script>\n",
              "        const buttonEl =\n",
              "          document.querySelector('#df-31cb34ed-72cf-4e56-a5a5-e9a61fda6982 button.colab-df-convert');\n",
              "        buttonEl.style.display =\n",
              "          google.colab.kernel.accessAllowed ? 'block' : 'none';\n",
              "\n",
              "        async function convertToInteractive(key) {\n",
              "          const element = document.querySelector('#df-31cb34ed-72cf-4e56-a5a5-e9a61fda6982');\n",
              "          const dataTable =\n",
              "            await google.colab.kernel.invokeFunction('convertToInteractive',\n",
              "                                                     [key], {});\n",
              "          if (!dataTable) return;\n",
              "\n",
              "          const docLinkHtml = 'Like what you see? Visit the ' +\n",
              "            '<a target=\"_blank\" href=https://colab.research.google.com/notebooks/data_table.ipynb>data table notebook</a>'\n",
              "            + ' to learn more about interactive tables.';\n",
              "          element.innerHTML = '';\n",
              "          dataTable['output_type'] = 'display_data';\n",
              "          await google.colab.output.renderOutput(dataTable, element);\n",
              "          const docLink = document.createElement('div');\n",
              "          docLink.innerHTML = docLinkHtml;\n",
              "          element.appendChild(docLink);\n",
              "        }\n",
              "      </script>\n",
              "    </div>\n",
              "  </div>\n",
              "  "
            ]
          },
          "metadata": {},
          "execution_count": 75
        }
      ]
    },
    {
      "cell_type": "markdown",
      "source": [
        "Observamos las *clases* del dataset importado: comprobamos que existen 3 clases, con 50 observaciones de los regresores de cada una."
      ],
      "metadata": {
        "id": "zwgolnXPwIMm"
      }
    },
    {
      "cell_type": "code",
      "source": [
        "print(df.shape)\n",
        "df[4].value_counts()"
      ],
      "metadata": {
        "colab": {
          "base_uri": "https://localhost:8080/"
        },
        "id": "JgXJnFwiubQ7",
        "outputId": "13f48fce-47e7-447a-e873-310268898c2e"
      },
      "execution_count": 76,
      "outputs": [
        {
          "output_type": "stream",
          "name": "stdout",
          "text": [
            "(150, 5)\n"
          ]
        },
        {
          "output_type": "execute_result",
          "data": {
            "text/plain": [
              "Iris-setosa        50\n",
              "Iris-versicolor    50\n",
              "Iris-virginica     50\n",
              "Name: 4, dtype: int64"
            ]
          },
          "metadata": {},
          "execution_count": 76
        }
      ]
    },
    {
      "cell_type": "markdown",
      "source": [
        "Dado que tenemos 3 clases; pero *Perceptrón* y *ADAline* solamente puede clasificar en las clases 1 y -1, entonces debemos implementar 3 clasificadores diferentes que determinen sí la entrada es de la clase, o no (es de alguna de las otras 2)."
      ],
      "metadata": {
        "id": "SmN_XZFNxpTb"
      }
    },
    {
      "cell_type": "code",
      "source": [
        "def test_classifier(local_X, local_y):\n",
        "    X_train, X_test, y_train, y_test = train_test_split(local_X, local_y, \n",
        "                                                        test_size=0.11, \n",
        "                                                        random_state=42)\n",
        "    our_Perceptron = Perceptron()\n",
        "    our_Perceptron.train(X_train, y_train, 0.2, 100)\n",
        "    for i, x in enumerate(X_test):\n",
        "        label = our_Perceptron.predict(x)\n",
        "        print(label == y_train[i])\n",
        "\n",
        "    our_ADAline = ADAline()\n",
        "    our_ADAline.train(local_X, local_y, 0.2, 100)\n",
        "    for i, x in enumerate(X_test):\n",
        "        label = our_ADAline.predict(x)\n",
        "        print(label == y_train[i])\n",
        "\n",
        "def is_of_class(local_df, class_label):\n",
        "    local_df[4] = local_df[4].apply(lambda x: 1 if x==class_label else -1)\n",
        "    X = np.array(local_df.iloc[:, 0 : 3].values)\n",
        "    y = np.array(local_df.iloc[:, 4].values)\n",
        "    test_classifier(X, y)"
      ],
      "metadata": {
        "id": "0cDpmwOPxVTw"
      },
      "execution_count": 79,
      "outputs": []
    },
    {
      "cell_type": "markdown",
      "source": [
        "Inicio de la ejecución, a continuación."
      ],
      "metadata": {
        "id": "CYSm9cbFytb7"
      }
    },
    {
      "cell_type": "code",
      "source": [
        "is_of_class(df.copy(), 'Iris-setosa')"
      ],
      "metadata": {
        "id": "WVTqPHdMyr3o",
        "colab": {
          "base_uri": "https://localhost:8080/"
        },
        "outputId": "7a162d79-df6a-4def-d42c-3c4c5368d8da"
      },
      "execution_count": 80,
      "outputs": [
        {
          "output_type": "stream",
          "name": "stdout",
          "text": [
            "¡Neuron has been trainned!\n",
            "True\n",
            "False\n",
            "True\n",
            "False\n",
            "True\n",
            "True\n",
            "True\n",
            "True\n",
            "True\n",
            "True\n",
            "True\n",
            "True\n",
            "True\n",
            "True\n",
            "True\n",
            "True\n",
            "False\n",
            "¡Neuron has been trainned!\n",
            "True\n",
            "True\n",
            "True\n",
            "False\n",
            "True\n",
            "False\n",
            "True\n",
            "True\n",
            "True\n",
            "True\n",
            "True\n",
            "False\n",
            "False\n",
            "False\n",
            "False\n",
            "True\n",
            "False\n"
          ]
        },
        {
          "output_type": "stream",
          "name": "stderr",
          "text": [
            "/usr/local/lib/python3.7/dist-packages/ipykernel_launcher.py:29: RuntimeWarning: invalid value encountered in add\n"
          ]
        }
      ]
    }
  ]
}