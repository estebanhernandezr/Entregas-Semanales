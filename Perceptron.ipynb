{
  "nbformat": 4,
  "nbformat_minor": 0,
  "metadata": {
    "colab": {
      "name": "Perceptron",
      "provenance": [],
      "collapsed_sections": [],
      "authorship_tag": "ABX9TyO4ZII8dxAoPy1ggf10TeFD",
      "include_colab_link": true
    },
    "kernelspec": {
      "name": "python3",
      "display_name": "Python 3"
    },
    "language_info": {
      "name": "python"
    }
  },
  "cells": [
    {
      "cell_type": "markdown",
      "metadata": {
        "id": "view-in-github",
        "colab_type": "text"
      },
      "source": [
        "<a href=\"https://colab.research.google.com/github/estebanhernandezr/Entregas-Semanales/blob/main/Perceptron.ipynb\" target=\"_parent\"><img src=\"https://colab.research.google.com/assets/colab-badge.svg\" alt=\"Open In Colab\"/></a>"
      ]
    },
    {
      "cell_type": "code",
      "source": [
        "import numpy as np"
      ],
      "metadata": {
        "id": "SC47VjDycV6F"
      },
      "execution_count": null,
      "outputs": []
    },
    {
      "cell_type": "code",
      "execution_count": null,
      "metadata": {
        "id": "v2CDZ4piV8ks"
      },
      "outputs": [],
      "source": [
        "class Neurona:\n",
        "    def __init__(self, W=None):\n",
        "        self.W = W\n",
        "\n",
        "    def sum_union_func(self, x):\n",
        "        gX = np.matmul(x, self.W)\n",
        "        return gX\n",
        "\n",
        "    def threshold_func(self, umbral, val):\n",
        "        y = None\n",
        "        if val > umbral: y = 1\n",
        "        else: y = -1\n",
        "        return y\n",
        "\n",
        "    def train(self, X, y, learn_rate, epochs):\n",
        "        # PASO 1\n",
        "        self.W = np.zeros(X.shape[1])\n",
        "        # PASO 2\n",
        "        for iter in range(epochs):\n",
        "            for i, x in enumerate(X):\n",
        "                gX = self.sum_union_func(x)\n",
        "                yb = self.threshold_func(0.5, gX)\n",
        "\n",
        "                aux_W = [w for w in self.W]\n",
        "                for j in range(len(aux_W)):\n",
        "                    aux_W[j] = self.W[j] + (learn_rate*(y[i]-yb)*x[j])\n",
        "                self.W = [w for w in aux_W]\n",
        "        # PASO 3\n",
        "        print('¡Neuron has been trainned!')\n",
        "        return None\n",
        "\n",
        "    def predict(self, x):\n",
        "        gX = self.sum_union_func(x)\n",
        "        yb = self.threshold_func(0.5, gX)\n",
        "        return yb"
      ]
    },
    {
      "cell_type": "code",
      "source": [
        "# AND GATE\n",
        "X = np.array([\n",
        "     [0, 0],\n",
        "     [0, 1],\n",
        "     [1, 0],\n",
        "     [1, 1]\n",
        "    ])\n",
        "\n",
        "y = np.array([-1, -1, -1, 1])\n",
        "\n",
        "Perceptron_AND = Neurona()\n",
        "Perceptron_AND.train(X, y, 0.02, 200)\n",
        "print('0 + 0 := ', Perceptron_AND.predict([0, 0]))\n",
        "print('0 + 1 := ', Perceptron_AND.predict([0, 1]))\n",
        "print('1 + 0 := ', Perceptron_AND.predict([1, 0]))\n",
        "print('1 + 1 := ', Perceptron_AND.predict([1, 1]))"
      ],
      "metadata": {
        "colab": {
          "base_uri": "https://localhost:8080/"
        },
        "id": "6Q4vDpmZcker",
        "outputId": "16010b34-6266-4fb7-cf13-b3b41c9893a9"
      },
      "execution_count": null,
      "outputs": [
        {
          "output_type": "stream",
          "name": "stdout",
          "text": [
            "¡Neuron has been trainned!\n",
            "0 + 0 :=  -1\n",
            "0 + 1 :=  -1\n",
            "1 + 0 :=  -1\n",
            "1 + 1 :=  1\n"
          ]
        }
      ]
    },
    {
      "cell_type": "code",
      "source": [
        "# OR GATE\n",
        "X = np.array([\n",
        "     [0, 0],\n",
        "     [0, 1],\n",
        "     [1, 0],\n",
        "     [1, 1]\n",
        "    ])\n",
        "\n",
        "y = np.array([-1, 1, 1, 1])\n",
        "\n",
        "Perceptron_OR = Neurona()\n",
        "Perceptron_OR.train(X, y, 0.2, 100)\n",
        "print('0 + 0 :=', Perceptron_OR.predict([0, 0]))\n",
        "print('0 + 1 :=', Perceptron_OR.predict([0, 1]))\n",
        "print('1 + 0 :=', Perceptron_OR.predict([1, 0]))\n",
        "print('1 + 1 :=', Perceptron_OR.predict([1, 1]))"
      ],
      "metadata": {
        "colab": {
          "base_uri": "https://localhost:8080/"
        },
        "id": "Csur6zqIkKha",
        "outputId": "8ac66a69-b08c-4334-a285-8bc11b4df704"
      },
      "execution_count": null,
      "outputs": [
        {
          "output_type": "stream",
          "name": "stdout",
          "text": [
            "¡Neuron has been trainned!\n",
            "0 + 0 := -1\n",
            "0 + 1 := 1\n",
            "1 + 0 := 1\n",
            "1 + 1 := 1\n"
          ]
        }
      ]
    },
    {
      "cell_type": "code",
      "source": [
        "# XOR GATE\n",
        "X = np.array([\n",
        "     [0, 0],\n",
        "     [0, 1],\n",
        "     [1, 0],\n",
        "     [1, 1]\n",
        "    ])\n",
        "\n",
        "y = np.array([0, 1, 1, 0])\n",
        "\n",
        "Perceptron_XOR = Neurona()\n",
        "Perceptron_XOR.train(X, y, 0.01, 100)\n",
        "Perceptron_XOR.predict([0, 1])"
      ],
      "metadata": {
        "colab": {
          "base_uri": "https://localhost:8080/"
        },
        "id": "XdtLPzOZkxz3",
        "outputId": "c22dba7e-4181-42b7-aeb6-0d6e373d0bcf"
      },
      "execution_count": null,
      "outputs": [
        {
          "output_type": "stream",
          "name": "stdout",
          "text": [
            "¡Neuron has been trainned!\n"
          ]
        },
        {
          "output_type": "execute_result",
          "data": {
            "text/plain": [
              "1"
            ]
          },
          "metadata": {},
          "execution_count": 15
        }
      ]
    }
  ]
}