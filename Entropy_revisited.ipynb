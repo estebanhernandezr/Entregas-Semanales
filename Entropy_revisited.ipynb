{
  "nbformat": 4,
  "nbformat_minor": 0,
  "metadata": {
    "colab": {
      "name": "Entropy revisited",
      "provenance": [],
      "collapsed_sections": [
        "mqIoyysECz4Q",
        "vZV8M472-Xge",
        "eeKTwUfSyesR"
      ],
      "authorship_tag": "ABX9TyPyiNTR4dGW0FjUVM3LOyWr",
      "include_colab_link": true
    },
    "kernelspec": {
      "name": "python3",
      "display_name": "Python 3"
    },
    "language_info": {
      "name": "python"
    },
    "widgets": {
      "application/vnd.jupyter.widget-state+json": {
        "f937c41e1f134a5a905826801af613be": {
          "model_module": "@jupyter-widgets/controls",
          "model_name": "VBoxModel",
          "model_module_version": "1.5.0",
          "state": {
            "_dom_classes": [
              "widget-interact"
            ],
            "_model_module": "@jupyter-widgets/controls",
            "_model_module_version": "1.5.0",
            "_model_name": "VBoxModel",
            "_view_count": null,
            "_view_module": "@jupyter-widgets/controls",
            "_view_module_version": "1.5.0",
            "_view_name": "VBoxView",
            "box_style": "",
            "children": [
              "IPY_MODEL_f6e84bcc78364c64b45a10de10793f44",
              "IPY_MODEL_da8b11e3ea4e47e1b4bbf6f2cf527c7e"
            ],
            "layout": "IPY_MODEL_f32a67bd8ee24b77bc0bcc1bf66146eb"
          }
        },
        "f6e84bcc78364c64b45a10de10793f44": {
          "model_module": "@jupyter-widgets/controls",
          "model_name": "FloatLogSliderModel",
          "model_module_version": "1.5.0",
          "state": {
            "_dom_classes": [],
            "_model_module": "@jupyter-widgets/controls",
            "_model_module_version": "1.5.0",
            "_model_name": "FloatLogSliderModel",
            "_view_count": null,
            "_view_module": "@jupyter-widgets/controls",
            "_view_module_version": "1.5.0",
            "_view_name": "FloatLogSliderView",
            "base": 10,
            "continuous_update": true,
            "description": "prob",
            "description_tooltip": null,
            "disabled": false,
            "layout": "IPY_MODEL_fb0ee826133748b1933153121ebfc334",
            "max": 0.1,
            "min": -5,
            "orientation": "horizontal",
            "readout": true,
            "readout_format": ".3g",
            "step": 0.1,
            "style": "IPY_MODEL_c47b38fe8c534f9dae776035672b2b31",
            "value": 0.5
          }
        },
        "da8b11e3ea4e47e1b4bbf6f2cf527c7e": {
          "model_module": "@jupyter-widgets/output",
          "model_name": "OutputModel",
          "model_module_version": "1.0.0",
          "state": {
            "_dom_classes": [],
            "_model_module": "@jupyter-widgets/output",
            "_model_module_version": "1.0.0",
            "_model_name": "OutputModel",
            "_view_count": null,
            "_view_module": "@jupyter-widgets/output",
            "_view_module_version": "1.0.0",
            "_view_name": "OutputView",
            "layout": "IPY_MODEL_126338c0f7cc4a3589ddb1a6a45dbc28",
            "msg_id": "",
            "outputs": [
              {
                "output_type": "display_data",
                "data": {
                  "text/plain": "<Figure size 576x432 with 2 Axes>",
                  "image/png": "iVBORw0KGgoAAAANSUhEUgAAAeUAAAF1CAYAAADWVvIhAAAABHNCSVQICAgIfAhkiAAAAAlwSFlzAAALEgAACxIB0t1+/AAAADh0RVh0U29mdHdhcmUAbWF0cGxvdGxpYiB2ZXJzaW9uMy4yLjIsIGh0dHA6Ly9tYXRwbG90bGliLm9yZy+WH4yJAAAgAElEQVR4nO3debxVdb3/8ddbEAVEUcERFOckr6mRWU7kkIiKdTXTmzlck2wwb5peNfWalmlZeTVNcU5zQE3kmv0wC5xBIJwQTASTSTiiAiqT+Pn98V3Y5nCGfeCcvdbZ+/18PM7j7GHtvd577b3WZ3/X+u7vUkRgZmZm+Vsr7wBmZmaWuCibmZkVhIuymZlZQbgom5mZFYSLspmZWUG4KJuZmRVEuy/Kkt6QdFAj9+0r6dVKZ1pdkvpLmpF3jqZI6iMpJHXMO0tD1mQZSjpJ0lOtnakWSbpN0k8bua/J5Szpz5JObLt0ba/+tqep7VQFslR0u+L1aM20+6LclIh4MiJ2WnE9zxWjNWTFcPu8c1j719J1oZLrTkQcGhG3Z/Mt3Aa+nPWw/rZnDefX6BecVnr+1d6uFP1LentU1UXZzKzSXKBsTVRLUf6cpFckvSvpVknrwsq7bSTdAWwF/J+k9yWdI2ldSXdKmifpPUljJW3a0Azqf5ss/fYqqYekh7PneEfSk5LWyu7bQtIDkuokTZP0g5Ln6Jw9z7uSXgE+19gLlPREdvGFLP/Xs9tPlTQlm+9wSVs08Rz7SHomyzld0knZ7RtI+n2W8Z+SLijJ30HSlZLeljQVOKzec24g6WZJsyXNlPRTSR0amf+eksZJWiBpjqRfZ7f/SdLp9aZ9UdJXS5b9dyW9JmmhpEslbZe9lgWShkrqVO/x52eZ35D0jXp5G3yttaKhdSG7fZCkidnnY5SknZuZ/j5Jb0maL+kJSZ9uWQz9NnvsZEkHltwxStK3svlfD3whm+972f0Ds/V9YfaZ+1ETMzlV0qRs2lck7ZHdvnM2n/ey1zyo5DG3Sbo2+1wulDRG0nbZfaush8q2M5L+W9JbwK1qeJdxY9upVfYGZJ/57SUNBr4BnJPN7/+y+4uyXVnx+Peyx3+h5LmvzDJMk3Roye0t2WZcnH3O7szei5ck7SjpPElzlbZjXy7nubPl+Xj2mXtb0r3Z7ZL0m+z5FmTz2CW77zBJE7Lbp0u6uF6+E5S2I/MkXaiSPUqS1pJ0rqTXs/uHStqosffiExHRrv+AN4CXgd7ARsDTwE+z+/oDM+pNe1DJ9W8D/wd0AToAnwXWb2Q+AWxfcv22kvn8nLTxWDv72xcQ6UvPeOAioBOwLTAVOCR73OXAk1nu3tnrmNHEa62f4QDgbWAPYB3gGuCJRh67NbAQOC7LuDGwW3bf74GHgG5AH+AfwCnZfacBk0uW78gsR8fs/geBG4CuwCbAc8C3G8nwLPDN7PJ6wF7Z5WOAMSXTfQaYB3Qqed0PAesDnwaWAH/NlucGwCvAiSXv+UfAr7Nlsj/wAbBTGa/1JOCpvD/TFVxvSteFHbPldHD2+TgHmFLyHqw0fXbbf2bLcR3gKuD5htaPBuZ9UvYe/TCb19eB+cBG2f2jgG819p4As4F9s8sbAns0Mp+vATNJRUnA9qT1YO3stZ1PWi8PIK0bO5VknwfsCXQE/gDc08R6uOIzd0W2LDrT8Lanse1UQ6/xk3nUX5YUa7vSh5LtQcnrWQacStqufgeYBWg1thkXA4uBQ7L34vfANODH2ft4KjCtZPpGnxu4O3vcWsC6wD7Z7Ydky7N79jnZGdi85L39t+wxuwJzgK9k9/UF3gf2yd6HK7PXfVB2/xnAaKBXthxvAO5udt3Me+PQShuX00quDwReL1mgTRXl/wSeAXYtYz5NFeVLSBv67es95vPAm/VuOw+4Nbs8FRhQct/gFq48NwO/KLm+Xvah6NPAY88DHmzg9g7AUqBvyW3fBkZll/9Wb/l+OcvREdiUVCA7l9x/HDCykfxPAD8BetS7fV3gXWCH7PqVwHX1XvfeJdfHA/9dcv1XwFUl7/lHQNeS+4cCF5bxWk+idovyhcDQkutrkQpa/4amb+D5umfv0wb1148Gpj2Jko10dttz/OsL2yiaLspvZu9bg1+gS6YbAZzRwO37Am8Ba5XcdjdwcUn2m0ruGwhMrvd5rF+UlwLr1rut/ranse1UQ6+xqaJcpO1KHxouylNKrnfJptmMlm8zLgb+UnL9CFIh7JBd75Y9d/fmnptU0IcAverN4wDSl/O9Sj8TjeS5CvhNdvkiSops9jqX8q+iPAk4sOT+zbPl2LGpeVTLbrvpJZf/CTS6C7eeO0gr7j2SZkn6haS1V2P+vyR9835U0lRJ52a3bw1ske0iey/b/XY+6cNDlrN+9pbYovQxEfE+6Rv+lg1M2xt4vYHbe5C+cZbO+58lz9FUxhWtjtklr+8G0jfUhpxCapFNVjpUcHiWezFwL3C80q7k40jvTak5JZcXNXB9vZLr70bEB/Uyb1HGa61l9T9LH5Pe9waXjdJhjcuzXXMLSEUH0jIux8zItlSZlqy3R5GK2j+z3ZFfaGS6xj7zWwDTs9dYOv/S1/pWyeUPWfnz1ZC67HPclNXdTtVXpO1KYz5ZfhHxYXZxPVq+zYBV1/W3I2J5yfVyn/scUkv4OaVDFv+Z5fsb8FvgWmCupCGS1geQ9HlJI7PDBPNJew5XfMZXWs7Z65xXknVr4MGSLJOA5fzrfWpQtRTl3iWXtyJ9C29IrHQlYllE/CQi+gJfBA4HTmjksR+SvgmtsFnJ8yyMiLMiYltgEHCm0jGy6aRdK91L/rpFxMDsobMbyN4Ss0hvPACSupJ2S89sYNrpwHYN3P426dvb1iW3bVXyHE1lnE76Ztqj5PWtHxENHluMiNci4jjSSnIFcH+WGeB20rGzA4EPI+LZhp6jTBuWPO+KzLNo/rXWkqh3vf5nSaT3fWYj0/8HcCRwEOkQQp8VDy1z/ltm81ihsfW2/nyJiLERcSTpczSMtCekIY195mcBvbVyX4I1/RyskrMBjW2nPqBk2yJpM1ZW/7mLtF0p53WXatE2ozWfOyLeiohTI2IL0p6W65T1E4qIqyPis6Rd0jsCZ2fPeRcwHOgdERuQDlOu+NzOJu2aBtKxfNJyKs1zaL33ad2IaPJzVi1F+XuSemUH0X9ManU1ZA7p+AsAkr4k6d+yjgALSBvsjxt57PPAf2QthAGkY5UrnufwrBOBSMfGlmfP8xywUKkDSOfssbtIWtHxYihwnqQNJfUCTqdpK+Un7XI7WdJuktYBLiMdm32jgcf+AThI0jGSOkraWNJu2TfOocDPJHWTtDVwJnBnScYfZMt3Q2DFXgAiYjbwKPArSetnHRu2k7Q/DZB0vKSeWQvlvezmj7Pneja7/CtWbSWvjp9I6iRpX9KXrfvKeK21pP5naShwmKQDs71FZ5E2cM80Mn237P55pIJyWQvnvwnpc7W2pK+RjuM90kjOXso68mXv6TckbRARy0jrbWPr7E3AjyR9NuvMs332no8hfck+J5t/f9Ju0XvKzF5/WZSrse3UC8Cns/V4XdIu26bmV6TtSh1p+Ze1PFq6zWiJ5p5b0tey5QHpcFkAH0v6XNYiXpv0BWkx//pMdQPeiYjFkvYkfRld4X7gCElfzD6fF7Pyl9LrSduarbP595R0ZHOvo1qK8l2kN2MqaXdVY7/p+zlwQbY74Uek1u79pBV7EvA4jReEM0gr7nukFt2wkvt2AB4jHet4lnQ8dGRWBA4HdiN1TnibtKHYIHvcT0i7iaZl+ZsrRhcDt2f5j4mIx0jHAh8gfWvbDji2oQdGxJukXX5nAe+QvmR8Jrv7dNKHcSrwFGl53pLddyNpF/8LwN+BP9Z76hNInRxeIX3Q7ycdO2nIAGCipPeB/wWOjYhFJff/ntSpYk2L5FtZllmkLyOnRcTk7L6mXmstWWldiIhXgeNJnXreJn3Wj4iIpQ1NT3qv/klqPb1C6tDSEmNI683bwM+AoyNiXgPT/Q2YCLwl6e3stm8CbyjtNj+NtD6uIiLuy577LlJHrmGkzmRLs9d3aDb/64ATSj4jzbmYkvWwzMdAI9upiPgHqV/KY8BrpM9lqZuBvtn8hhVsu/IhaRk/nT1+rzKWQ0u2GS3V1HN/DhiTbX+Gk/obTCV1IL0xm/6fpC+av8we813gEkkLSceQP9krExETSduTe0jL6X1gLunLKqRt3HDSYc2FpHXk8829gBW94cxyJ+kEYHBE7JN3FjOzlpC0HqnRtkNETFvd56mWlrK1c5K6kL6VDsk7i5lZOSQdIalLdtz9SuAl/tXpcbW4KFvuJB1COjY1h7SLz1pI0i1Kgx+83Mj9knS10oAQLyobRMPM1siRpMNks0iHY46NNdz97N3XZlVA0n6kY1q/j4hdGrh/IOn410DSca3/jYhmj2+ZWWW5pWxWBSLiCVIHvsYcSSrYERGjge6SWqtzjZm1Ehdls9qwJSsPKDEDD5piVjhtcjaTHj16RJ8+fdriqc2qxvjx49+OiJ5556hP6SQIgwG6du362U996lM5JzIrvtZan9ukKPfp04dx48a1xVObVQ1JLR3+cE3MZOVRnnrRyAhWETGErBd8v379wuuyWfNaa3327muz2jAcOCHrhb0XMD8bAcnMCsQn4zarApLuJp2ZqIfSeXz/hzQ4PxFxPWkIy4GkE6d8CJycT1Iza4qLslkVyE700dT9AXyvQnHMbDV597WZmVlBuCibmZkVhIuymZlZQbgom5mZFYSLspmZWUG4KJuZmRWEi7KZmVlBuCibmZkVhIuyWWurq4Phw/NOYWbtkEf0MmsNCxbAsGFw113w2GPptrfegh498s1lZu2KW8pmq2vp0tQiPuYY2HRTOPFEePVVOOccmDDBBdnMWswtZbOWiIBnn4U77oChQ+Gdd6BnTzjlFPjGN2CvvUDKO6WZtVMuymblmDo1FeI77oDXX4fOneGrX02F+OCDYe21805oZlXARdmsMQsWwH33we23w5NPphbwAQfAhRfCv/87dOuWd0IzqzIuymalPv4YRo2CW2+FBx6ARYtgp53gssvg+OOhd++8E5pZFXNRNgN480247bZUjN94AzbYAE44AU4+Gfbc08eJzawiXJStdq3oPX3TTfDoo+m2Aw+En/0sHS/u3DnffGZWc1yUrfb84x9w443pWHFdHfTqlY4Tn3wy9OmTdzozq2EuylYbliyBBx+EG25Ix4w7doQjjoDBg1Pv6Q4d8k5oZuaibFVu2rRUiG+5JbWK+/RJnbZOOgk23zzvdGZmK3FRtuqzfDmMGAHXXQePPJI6aR1xBHznO6lVvJYHsjOzYnJRturxzjupRXzddamFvNlmcMEFaRd1r155pzMza5aLsrV/L70E11wDd96Zfle8335w+eWpB7VH2jKzdsRF2dqn5cvhT3+Cq66CkSNh3XXT4B6nnw677pp3OjOz1eKibO3LwoVpgI+rr05jUPfuDVdckU4IsfHGeaczM1sjLsrWPsyYkQrxkCEwfz588Yvw85+nXdQd/TE2s+rgrZkV24svwpVXwt13p3Gpjz4azjwTPv/5vJOZmbU6F2Urnog0wMcVV6SfNnXtCt/7HpxxBmyzTd7pzMzajIuyFcfHH8OwYann9NixsOmmaaCP006DDTfMO52ZWZtzUbb8LVsGd92VivHkybDddnD99XDiialXtZlZjXBRtvwsWZJ6Ul9xRTpd4q67pmPHRx/tzltmVpO85bPKW7QonS7xiitg5szUaeuaa+Cww3zeYjOraS7KVjmLFqWfNF1xBcyenUbeuu22dA5jF2MzMxdlq4DFi9P5i3/+81SM+/dPx5D79887mZlZoZR1uhxJ3SXdL2mypEmSvtDWwawKLFuWWsY77AA/+EH6P3Jk+nNBNjNbRbkt5f8F/l9EHC2pE9ClDTNZe7d8eeqw9T//A1Onwhe+kHZTH3CAd1ObmTWh2aIsaQNgP+AkgIhYCixt21jWLkXAww/D+efDyy/Dbrulk0YceqiLsZlZGcrZfb0NUAfcKmmCpJskdW3jXNbePPMM7LsvDBqUfup0zz0wfjwMHOiCbGZWpnKKckdgD+B3EbE78AFwbv2JJA2WNE7SuLq6ulaOaYX16qvw7/8Oe++dztr0u9/BxInw9a/DWmV1WTAzs0w5W80ZwIyIGJNdv59UpFcSEUMiol9E9OvZs2drZrQiqqtL5y7eZRf4y1/gkktgypQ0JObaa+edzsysXWr2mHJEvCVpuqSdIuJV4EDglbaPZoW0ZEka6OOnP4X334dTT4WLL07jVJuZ2Ropt/f16cAfsp7XU4GT2y6SFVIEPPQQ/OhHaTf1wIHwy19C3755JzMzqxplFeWIeB7o18ZZrKgmTkynTfzrX1MRHjECvvzlvFOZmVUd98Sxxs2fDz/8IXzmM/D3v8PVV8MLL7ggm5m1EQ+zaauKgDvvhLPPhrlz03Hjn/0MevTIO5mZWVVzUbaVTZwI3/0uPPFEOnvTn/4En/1s3qnMzGqCd19b8uGHcN55aRSul19OY1Y/84wLsplZBbmlbKnj1ne+A9Omwcknwy9+4V3VZmY5cEu5ltXVwfHHw4AB0KkTjBoFt9zigmxmlhMX5VoUkc7i1LcvDB0KF16YelXvv3/eyczMapp3X9ea2bPTUJjDh8Oee8LNN6ehMs3MLHduKdeKCLjjjtQ6fvRRuPLK1JHLBdnMrDDcUq4Fc+ak1vGwYfDFL8Ktt8KOO+adyszM6nFLudoNG5Zaw3/+c2odP/GEC7KZWUG5KFerhQvhlFPgq1+F3r1h/Hg46yzo0CHvZGZm1ggX5Wo0enQaBOS22+D889P1T38671RmZtYMF+Vqsnw5XHYZ7LNPuvz442nM6k6d8k5mFSBpgKRXJU2RdG4D928laaSkCZJelDQwj5xm1jgX5Woxe3Y6e9OPfwxf+xo8/3wqzlYTJHUArgUOBfoCx0mqf7LrC4ChEbE7cCxwXWVTmllzXJSrwaOPptMrjh6dRuS66y7o3j3vVFZZewJTImJqRCwF7gGOrDdNAOtnlzcAZlUwn5mVwUW5PVu+PI3GNWAAbLopjBuXxq6W8k5mlbclML3k+ozstlIXA8dLmgE8ApxemWhmVi4X5fZq7ty0u/qnP4WTToIxY2DnnfNOZcV2HHBbRPQCBgJ3SFplGyBpsKRxksbV1dVVPKRZLXNRbo9Gj4Y99kgjct1yS/rr0iXvVJavmUDvkuu9sttKnQIMBYiIZ4F1gVXOPhIRQyKiX0T069mzZxvFNbOGuCi3JxFwww2w336wzjrw7LNpd7UZjAV2kLSNpE6kjlzD603zJnAggKSdSUXZTWGzAnFRbi+WLoVvfzsNl3nggTB2bPotshkQER8B3wdGAJNIvawnSrpE0qBssrOAUyW9ANwNnBQRkU9iM2uIx75uD+bMgaOOgqefhvPOg0sv9chctoqIeITUgav0totKLr8C7F3pXGZWPhflonvhBRg0COrq4N574Zhj8k5kZmZtxLuvi2z4cNh77/TTp6eeckE2M6tyLspFFAG/+Q185SvpZ05jx6be1mZmVtVclItm+XL4wQ/gzDPTGZ4efxw23zzvVGZmVgEuykXy4YepQ9dvf5tOs3jfff79sZlZDXFHr6KYNw+OOCINDHL11XC6R0A0M6s1LspFMH06HHIITJ2aWsdHHZV3IjMzy4GLct5efRUOPhjmz4cRI2D//fNOZGZmOXFRztPzz6eTSkgwahTsvnveiczMLEfu6JWX0aOhf39Yd1148kkXZDMzc1HOxRNPpF3WPXqkQUF23DHvRGZmVgAuypX2t7/BgAHQu3cqzlttlXciMzMrCB9TrqS//jX97GnbbVNx3mSTvBOZmVmBuKVcKaNGpYK83XYwcqQLspmZraKslrKkN4CFwHLgo4jo15ahqs7TT8Phh8M226TWcs+eeScyM7MCasnu6y9FxNttlqRajR8PAwdCr16pILuFbGZmjfDu67Y0cWIaqWujjeCxx2CzzfJOZGZmBVZuUQ7gUUnjJQ1uaAJJgyWNkzSurq6u9RK2V2+8kQYG6dQptZB79co7kZmZFVy5RXmfiNgDOBT4nqT96k8QEUMiol9E9OtZ68dM585NBXnRInj00dTb2szMrBllFeWImJn9nws8COzZlqHatfffh8MOgxkz4OGHYZdd8k5kZmbtRLNFWVJXSd1WXAa+DLzc1sHapWXL4Jhj4O9/h6FD4YtfzDuRmZm1I+X0vt4UeFDSiunvioj/16ap2qMI+N734M9/hiFD0k+gzMzMWqDZohwRU4HPVCBL+/aLX8CNN8L558Opp+adxszM2iH/JKo1PPAAnHsuHHssXHpp3mnMzKydclFeUxMmwAknwF57wa23wlpepGZmtnpcQdbEnDkwaBBsvDE8+GA6N7KZmdlq8lmiVtfSpXD00TBvXhrb2qN1mZnZGnJRXl0//CE89RTcfTfsvnveaczMrAp49/Xq+P3v4brr4KyzUucuMzOzVuCi3FIvvginnQb77w+XX553GjMzqyIuyi2xYEE6jty9O9xzD3T03n8zM2s9rirlioBvfxumToWRI92xy8zMWp2Lcrluvjm1jn/2M9h337zTmJlZFfLu63JMmgQ/+AEcdFAaucvMzKwNuCg3Z8kS+I//gK5dU69rj9hlZmZtxLuvm3PBBfD88/DQQ7D55nmnMTOzKuZmX1OeeAJ+9avUwWvQoLzTmJlZlXNRbszChXDSSbDNNnDllXmnMTOzGuDd14055xx4443UWl5vvbzTmJlZDXBLuSEjR8L116fxrffZJ+80ZmZWI1yU6/vgA/jWt2D77eHSS/NOY2ZmNcS7r+u76KI0atfjj0OXLnmnMTOzGuKWcqkJE+Cqq2DwYNhvv7zTmJlZjXFRXmH58lSMe/b02Z/MzCwX3n29wu9+B+PGwd13w4Yb5p3GzMxqkFvKAHPnppG7DjoIvv71vNOYmVmNclGGdJKJDz6Aa64BKe80ZmZWo1yUn3sObr01/Sb5U5/KO42ZmdWw2i7KEfBf/wWbbgoXXph3GjMzq3G13dHr3nvh2Wfh5puhW7e805iZWY2r3Zby4sXw3/8Nu+0GJ56YdxozM7Mabilfcw28+Sbcdht06JB3GjMzsxptKb/7Llx2GRx6KHzpS3mnMTMzA2q1KF9+Ocyf75G7zMysUGqvKM+aBVdfDccfD7vumncaMzOzT9ReUf75z+Gjj+Dii/NOYmZmtpLaKspvvglDhsDJJ8O22+adxszMbCW1VZQvuyz9v+CCfHOYtQFJAyS9KmmKpHMbmeYYSa9ImijprkpnNLOm1c5PoqZPh1tugW99C7baKu80Zq1KUgfgWuBgYAYwVtLwiHilZJodgPOAvSPiXUmb5JPWzBpTdktZUgdJEyQ93JaB2syVV6ZhNc9tsAFh1t7tCUyJiKkRsRS4Bziy3jSnAtdGxLsAETG3whnNrBkt2X19BjCprYK0qTlz0rHkb37TrWSrVlsC00uuz8huK7UjsKOkpyWNljSgoSeSNFjSOEnj6urq2iiumTWkrKIsqRdwGHBT28ZpI7/5DSxd6lay1bqOwA5Af+A44EZJ3etPFBFDIqJfRPTr2bNnhSOa1bZyW8pXAecAHzc2QWG/XS9YAL/7HRx1FOy4Y95pzNrKTKB3yfVe2W2lZgDDI2JZREwD/kEq0mZWEM0WZUmHA3MjYnxT0xX22/XNN6fCfPbZeScxa0tjgR0kbSOpE3AsMLzeNMNIrWQk9SDtzp5ayZBm1rRyWsp7A4MkvUHqPHKApDvbNFVr+egjuOoq2G8/+Nzn8k5j1mYi4iPg+8AIUt+PoRExUdIlkgZlk40A5kl6BRgJnB0R8/JJbGYNafYnURFxHulnFEjqD/woIo5v41yt4/7704Ahv/1t3knM2lxEPAI8Uu+2i0ouB3Bm9mdmBVTdg4dcdVU6jnzYYXknMTMza1aLBg+JiFHAqDZJ0trGjoUxY9LJJ9aq7u8eZmZWHaq3Wl17Lay3Hpx4Yt5JzMzMylKdRbmuDu65JxXk9dfPO42ZmVlZqrMo33ILLFkC3/1u3knMzMzKVn1F+eOP4cYbYf/9oW/fvNOYmZmVrfqK8qhR8Prr6WxQZmZm7Uj1FeWbboLu3dOwmmZmZu1IdRXlefPggQfS2aA6d847jZmZWYtUV1H+wx/S2aC869rMzNqh6irKd9wBu+8Ou+6adxIzM7MWq56iPHkyjBuXdl2bmZm1Q9VTlO+4Iw2nedxxeScxMzNbLdVRlD/+GO68Ew45BDbbLO80ZmZmq6U6ivJTT6VTNHrXtZmZtWPVUZTvvTf9BGrQoOanNTMzK6j2X5SXL0+/TT7sMOjaNe80ZmZmq639F+Unn4Q5c+CYY/JOYmZmtkbaf1EeOhS6dIGBA/NOYmZmtkbad1H+6KO06/rww73r2szM2r32XZSffhrmzoWjj847iZmZ2Rpr30V5+HDo1AkGDMg7iZmZ2Rprv0U5Ah56CA44ALp1yzuNmZnZGmu/RXnyZHj9dTjyyLyTmJmZtYr2W5Qfeij9P+KIfHOYmZm1kvZblIcPh379YMst805iZmbWKjrmHWC1vP02jB4NF1+cdxKz6vbqq9C/f94pzGpG+2wp/+UvqaOXe12bmVkVaZ8t5REjYKON4LOfzTuJWXXbaScYNSrvFGbFJ7XK07S/lnIEPPooHHwwdOiQdxozM7NW0/6K8ksvwezZcMgheScxMzNrVe2vKI8Ykf5/+cv55jAzM2tl7bMo77KLfwplZmZVp30V5cWL4amn0vFkMzOzKtO+ivKYMbBkiX83aWZmVal9FeXHH0/dzvfdN+8kZmZmra79FeXPfAY23DDvJGZmZq2u2aIsaV1Jz0l6QdJEST+pRLBVLFkCzzwD+++fy+zNzMzaWjkjei0BDoiI9yWtDTwl6c8RMbqNs61s7NjU0cvHk83MrEo1W5QjIoD3s6trZ3/RlqEatGKoPx9PNjOzKlXWMWVJHSQ9D8wF/hIRY9o2VgOeeAL+7d9g440rPmszM7NKKKsoR8TyiNgN6AXsKWmX+tNIGixpnKRxdaXziNAAABEYSURBVHV1rZty+fJ0qsZ99mnd5zUzMyuQFvW+joj3gJHAKudMjIghEdEvIvr17NmztfIlkyfDwoWw116t+7xmZmYFUk7v656SumeXOwMHA5PbOthKRmd9ylyUzcysipXT+3pz4HZJHUhFfGhEPNy2seoZPTr9NnmHHSo6WzMzs0oqp/f1i8DuFcjSuNGjUyu5lU4ibWZmVkTFH9FrwQKYOBE+//m8k5iZmbWp4hflsWMhwseTzcys6hW/KK/o5LXnnvnmMDMza2PFL8rPPQc77eSTUJiZWdUrflGeMAH22CPvFGZmZm2u2EV53jyYPh122y3vJGZmZm2u2EX5+efT/93z/UWWmZlZJbSPouyWspmZ1YBiF+UJE2DLLaG1x9I2MzMroGIX5eefdyvZzMxqRnGL8qJF6exQLspmZZE0QNKrkqZIOreJ6Y6SFJL6VTKfmTWvuEX55ZfTeZTdycusWdkJY64FDgX6AsdJ6tvAdN2AM4AxlU1oZuUoblF2Jy+zltgTmBIRUyNiKXAPcGQD010KXAEsrmQ4MytPcYvyCy/AeuvBNtvkncSsPdgSmF5yfUZ22yck7QH0jog/NfVEkgZLGidpXF1dXesnNbNGFbcoT5oEO+8MaxU3oll7IWkt4NfAWc1NGxFDIqJfRPTr6V8+mFVUcSveiqJsZuWYCfQuud4ru22FbsAuwChJbwB7AcPd2cusWIpZlOfPh9mzXZTNyjcW2EHSNpI6AccCw1fcGRHzI6JHRPSJiD7AaGBQRIzLJ66ZNaSYRXnSpPTfRdmsLBHxEfB9YAQwCRgaERMlXSJpUL7pzKxcHfMO0KDJk9N/F2WzskXEI8Aj9W67qJFp+1cik5m1THFbyp06wbbb5p3EzMysYopblHfYAToWsyFvZmbWFopblL3r2szMakzxivLixTB1qouymZnVnOIV5ddeg48/dlE2M7OaU7yi7J9DmZlZjSpeUX7ttfR/xx3zzWFmZlZhxSvK06bBZptBly55JzEzM6uo4hXlqVN9ZigzM6tJxSvK06Z50BAzM6tJxSrKy5bBm2+6pWxmZjWpWEV5+vT0cyi3lM3MrAYVqyhPnZr+u6VsZmY1qFhFedq09N9F2czMalCxivLUqekkFL165Z3EzMys4opVlKdNg623hg4d8k5iZmZWccUqylOnupOXmZnVrGaLsqTekkZKekXSRElntFmaadN8PNnMzGpWxzKm+Qg4KyL+LqkbMF7SXyLilVZNsnAhvP22W8pmZlazmm0pR8TsiPh7dnkhMAnYstWTuOe1mZnVuBYdU5bUB9gdGNPqSVyUzcysxpVdlCWtBzwA/FdELGjg/sGSxkkaV1dX1/Iks2al//45lJmZ1aiyirKktUkF+Q8R8ceGpomIIRHRLyL69ezZs+VJZs2CtdaCTTZp+WPNzMyqQDm9rwXcDEyKiF+3WZJZs9J5lP0bZTMzq1HltJT3Br4JHCDp+exvYKsnmTULttii1Z/WzMysvWj2J1ER8RSgNk8yaxb06dPmszEzMyuq4ozo5ZaymZnVuGIU5SVL0sAhLspmZlbDilGU33or/XdRNjOzGlaMorziN8ouymZmVsNclM3MzArCRdnMzKwgilGUZ8+GtdeGjTfOO4mZmVluilGUZ82CzTdPw2yamZnVqGJUQf9G2czMzEXZzMysKFyUzczMCiL/orxoEbz7rouymZnVvPyL8uzZ6b+LspmZ1bj8i/KcOen/Jpvkm8PMzCxn+Rfld95J//0bZTMzq3EuymZmZgWRf1GeNy/932ijfHOYmZnlLP+i/M47aSSvDTbIO4mZmVmu8i/K8+bBhht6iE0zM6t5+VfCd97xrmszMzOKUJTnzXMnLzMzM4pQlN1SNjMzA4pQlOfNc1E2MzOjCEX5nXe8+9rMzIy8i/KyZbBggVvKZmZm5F2U3303/XdL2czMLOeivGKITbeUzczMci7KHmLTzMzsE8VoKXv3tZmZmVvKZmZmReGWslmVkDRA0quSpkg6t4H7z5T0iqQXJf1V0tZ55DSzxuXfUu7QAdZfP9cYZu2dpA7AtcChQF/gOEl96002AegXEbsC9wO/qGxKM2tO/i3lDTcEKdcYZlVgT2BKREyNiKXAPcCRpRNExMiI+DC7OhroVeGMZtaM/Iuyd12btYYtgekl12dktzXmFODPbZrIzFqsY65z97jXZhUn6XigH7B/I/cPBgYDbLXVVhVMZmZuKZtVh5lA75LrvbLbViLpIODHwKCIWNLQE0XEkIjoFxH9evbs2SZhzaxhzRZlSbdImivp5dac8bAJM3lr2kweeOND9r78bwybsMr2w8zKNxbYQdI2kjoBxwLDSyeQtDtwA6kgz80ho5k1o5yW8m3AgNac6bAJMznvjy+x3ocLeW/dbsx8bxHn/fElF2az1RQRHwHfB0YAk4ChETFR0iWSBmWT/RJYD7hP0vOShjfydGaWk2aPKUfEE5L6tOZMfzniVT5avJj1li7i3c7dAFi0bDm/HPEqX9m9qb4pZtaYiHgEeKTebReVXD6o4qHMrEVa7ZiypMGSxkkaV1dX1+S0s95bxPqLPwBgwTpdV7rdzMysVrVaUW5J55Atunem87LFACxae92VbjczM6tVufS+PvuQndgolgHwYVaUO6/dgbMP2SmPOGZmZoWQy++Uv7L7lnTfpxcMgUWd1mXL7p05+5CdfDzZzMxqWrNFWdLdQH+gh6QZwP9ExM1rOuP+vdKx5Fu+uz986Utr+nRmZmbtXjm9r49rkzl/kDp60bVr09OZmZnViPxG9HJRNjMzW0l+RfnD7GQ1LspmZmaAW8pmZmaFkX9R7tIltwhmZmZFkn9R7uwBQ8zMzCDvotylC6yV79kjzczMiiLfjl4+nmxmZvaJ/FvKZmZmBuRdlN1SNjMz+4SLspmZWUH4mLKZmVlBuKVsZmZWEO7oZWZmVhBuKZuZmRWEi7KZmVlBuKOXmZlZQeRTlJcvhyVLfEzZzMysRD5F2adtNDMzW4WLspmZWUHkU5Q//DD9d1E2MzP7hFvKZmZmBZFvUXZHLzMzs0+4pWxmZlYQPqZsZmZWEG4pm5mZFYSPKZuZmRWEW8pmZmYF4aJsZmZWEPl19FprLVhnnVxmb2ZmVkT5tZS7dgUpl9mbmZkVUX5F2Z28zMzMVpJvS9nMzMw+kd8xZRdlMzOzlbilbGZmVhA+pmxmZlYQbimbmZkVRFlFWdIASa9KmiLp3DWeq4uymZnZKpotypI6ANcChwJ9geMk9V2jubqjl5mZ2SrKaSnvCUyJiKkRsRS4BzhyjebqlrKZmdkqyinKWwLTS67PyG5biaTBksZJGldXV9f0M+6/P+yyS0tympmZVb2OrfVEETEEGALQr1+/aHLihx5qrdmamZlVjXJayjOB3iXXe2W3mZmZWSsqpyiPBXaQtI2kTsCxwPC2jWVmZlZ7mt19HREfSfo+MALoANwSERPbPJmZmVmNKeuYckQ8AjzSxlnMzMxqWj4jepmZmdkqXJTNzMwKwkXZzMysIFyUzczMCsJF2czMrCBclM2qRHNnc5O0jqR7s/vHSOpT+ZRm1hQXZbMqUObZ3E4B3o2I7YHfAFdUNqWZNcdF2aw6lHM2tyOB27PL9wMHSlIFM5pZM1yUzapDOWdz+2SaiPgImA9sXJF0ZlaWVjtLVKnx48e/LemfjdzdA3i7Lea7hoqYq4iZoJi5ipgJms61dSWDlEvSYGBwdnWJpJfzzFOGor73KxQ9HxQ/Y9HzAezUGk/SJkU5Ino2dp+kcRHRry3muyaKmKuImaCYuYqYCSqaq5yzua2YZoakjsAGwLz6T1R6GtaiLtdSRc9Y9HxQ/IxFzwcpY2s8j3dfm1WHcs7mNhw4Mbt8NPC3iGj63OdmVlFt0lI2s8pq7Gxuki4BxkXEcOBm4A5JU4B3SIXbzAokj6I8JId5lqOIuYqYCYqZq4iZoIK5GjqbW0RcVHJ5MfC1Fj5tUZdrqaJnLHo+KH7GoueDVsoo770yMzMrBh9TNjMzK4iKFeXmhgCsYI7ekkZKekXSRElnZLdvJOkvkl7L/m+YQ7YOkiZIeji7vk02HOKUbHjETjlk6i7pfkmTJU2S9IWCLKsfZu/fy5LulrRuHstL0i2S5pb+bKix5aPk6izfi5L2aOt85Sr6EJ1l5DszW6dflPRXSRX/uVm52zhJR0kKSRXtTVxOPknHlGwb76pkvnIyStoq235PyN7rgRXOt8r6Xu/+NV/HI6LN/0gdT14HtgU6AS8AfSsx7waybA7skV3uBvyDNCzhL4Bzs9vPBa7IIduZwF3Aw9n1ocCx2eXrge/kkOl24FvZ5U5A97yXFWkQjGlA55LldFIeywvYD9gDeLnktgaXDzAQ+DMgYC9gTKXfz0ZeQ7PrJ/Bd4Prs8rHAvQXL9yWgS3b5O5XMV27GbLpuwBPAaKBfkfIBOwATgA2z65sUbRmSjtt+J7vcF3ijwhlXWd/r3b/G63ilWsrlDAFYERExOyL+nl1eCEwibeRLhyC8HfhKJXNJ6gUcBtyUXRdwAGk4xLwybUD6EN4MEBFLI+I9cl5WmY5AZ6Xf23YBZpPD8oqIJ0g9mUs1tnyOBH4fyWigu6TN2zpjGYo+RGez+SJiZER8mF0dTfqddiWVu427lDTm+OJKhqO8fKcC10bEuwARMbeAGQNYP7u8ATCrgvkaW99LrfE6XqmiXM4QgBWX7YLbHRgDbBoRs7O73gI2rXCcq4BzgI+z6xsD70UaDhHyWWbbAHXArdnuopskdSXnZRURM4ErgTdJxXg+MJ78l9cKjS2fQq4HFH+IzpYut1NIrZVKajZjtiuzd0T8qZLBMuUswx2BHSU9LWm0pAEVS5eUk/Fi4HhJM0i/NDi9MtHKtsbreM129JK0HvAA8F8RsaD0vkj7ISrWLV3S4cDciBhfqXmWqSNpV83vImJ34APS7thPVHpZAWTHaI8kfWnYAugKVHoDUpY8lk8tk3Q80A/4Zd5ZSklaC/g1cFbeWZrQkbQLuz9wHHCjpO65JlrVccBtEdGLtKv4jmzZVo1KvZhyhgCsGElrkwryHyLij9nNc1bsZsj+V3LXzd7AIElvkHbZHAD8L2nXx4rfkuexzGYAMyJiTHb9flKRznNZARwETIuIuohYBvyRtAzzXl4rNLZ8CrUelGjJEJ2oiSE620hZy03SQcCPgUERsaRC2VZoLmM3YBdgVLae7wUMr2Bnr3KW4QxgeEQsi4hppP42O1QoH5SX8RRS3xEi4llgXdK42EWxxut4pYpyOUMAVkR2HOxmYFJE/LrkrtIhCE8EHqpUpog4LyJ6RUQf0rL5W0R8AxhJGg6x4pmyXG8B0yWtGGj9QOAVclxWmTeBvSR1yd7PFblyXV4lGls+w4ETsh6aewHzS3Zz56noQ3Q2m0/S7sANpIJc6S+JzWaMiPkR0SMi+mTr+egsa6uMl7ym+TLDSK1kJPUg7c6eWqF85WZ8k7S+I2lnUlGuq2DG5qz5Ol7BXmsDSd+8Xgd+XKn5NpBjH9LuxBeB57O/gaTjY38FXgMeAzbKKV9//tX7elvgOWAKcB+wTg55dgPGZctrGLBhEZYV8BNgMvAycAewTh7LC7ibdFx7GamlcUpjy4fUI/PabB14iQr2vi3jdayyfgKXkAoHpI3ffdmyfQ7YtmD5HgPmlKzTw4u2DOtNO6rS738Zy1CkXeyvZJ/PY4u2DEk9rp8m9cx+HvhyhfM1tL6fBpxWsgzXaB33iF5mZmYFUVUHyM3MzNozF2UzM7OCcFE2MzMrCBdlMzOzgnBRNjMzKwgXZTMzs4JwUTYzMysIF2UzM7OC+P/pndh6N+khxAAAAABJRU5ErkJggg==\n"
                },
                "metadata": {
                  "needs_background": "light"
                }
              },
              {
                "output_type": "display_data",
                "data": {
                  "text/plain": "1.0"
                },
                "metadata": {}
              }
            ]
          }
        },
        "f32a67bd8ee24b77bc0bcc1bf66146eb": {
          "model_module": "@jupyter-widgets/base",
          "model_name": "LayoutModel",
          "model_module_version": "1.2.0",
          "state": {
            "_model_module": "@jupyter-widgets/base",
            "_model_module_version": "1.2.0",
            "_model_name": "LayoutModel",
            "_view_count": null,
            "_view_module": "@jupyter-widgets/base",
            "_view_module_version": "1.2.0",
            "_view_name": "LayoutView",
            "align_content": null,
            "align_items": null,
            "align_self": null,
            "border": null,
            "bottom": null,
            "display": null,
            "flex": null,
            "flex_flow": null,
            "grid_area": null,
            "grid_auto_columns": null,
            "grid_auto_flow": null,
            "grid_auto_rows": null,
            "grid_column": null,
            "grid_gap": null,
            "grid_row": null,
            "grid_template_areas": null,
            "grid_template_columns": null,
            "grid_template_rows": null,
            "height": null,
            "justify_content": null,
            "justify_items": null,
            "left": null,
            "margin": null,
            "max_height": null,
            "max_width": null,
            "min_height": null,
            "min_width": null,
            "object_fit": null,
            "object_position": null,
            "order": null,
            "overflow": null,
            "overflow_x": null,
            "overflow_y": null,
            "padding": null,
            "right": null,
            "top": null,
            "visibility": null,
            "width": null
          }
        },
        "fb0ee826133748b1933153121ebfc334": {
          "model_module": "@jupyter-widgets/base",
          "model_name": "LayoutModel",
          "model_module_version": "1.2.0",
          "state": {
            "_model_module": "@jupyter-widgets/base",
            "_model_module_version": "1.2.0",
            "_model_name": "LayoutModel",
            "_view_count": null,
            "_view_module": "@jupyter-widgets/base",
            "_view_module_version": "1.2.0",
            "_view_name": "LayoutView",
            "align_content": null,
            "align_items": null,
            "align_self": null,
            "border": null,
            "bottom": null,
            "display": null,
            "flex": null,
            "flex_flow": null,
            "grid_area": null,
            "grid_auto_columns": null,
            "grid_auto_flow": null,
            "grid_auto_rows": null,
            "grid_column": null,
            "grid_gap": null,
            "grid_row": null,
            "grid_template_areas": null,
            "grid_template_columns": null,
            "grid_template_rows": null,
            "height": null,
            "justify_content": null,
            "justify_items": null,
            "left": null,
            "margin": null,
            "max_height": null,
            "max_width": null,
            "min_height": null,
            "min_width": null,
            "object_fit": null,
            "object_position": null,
            "order": null,
            "overflow": null,
            "overflow_x": null,
            "overflow_y": null,
            "padding": null,
            "right": null,
            "top": null,
            "visibility": null,
            "width": null
          }
        },
        "c47b38fe8c534f9dae776035672b2b31": {
          "model_module": "@jupyter-widgets/controls",
          "model_name": "SliderStyleModel",
          "model_module_version": "1.5.0",
          "state": {
            "_model_module": "@jupyter-widgets/controls",
            "_model_module_version": "1.5.0",
            "_model_name": "SliderStyleModel",
            "_view_count": null,
            "_view_module": "@jupyter-widgets/base",
            "_view_module_version": "1.2.0",
            "_view_name": "StyleView",
            "description_width": "",
            "handle_color": null
          }
        },
        "126338c0f7cc4a3589ddb1a6a45dbc28": {
          "model_module": "@jupyter-widgets/base",
          "model_name": "LayoutModel",
          "model_module_version": "1.2.0",
          "state": {
            "_model_module": "@jupyter-widgets/base",
            "_model_module_version": "1.2.0",
            "_model_name": "LayoutModel",
            "_view_count": null,
            "_view_module": "@jupyter-widgets/base",
            "_view_module_version": "1.2.0",
            "_view_name": "LayoutView",
            "align_content": null,
            "align_items": null,
            "align_self": null,
            "border": null,
            "bottom": null,
            "display": null,
            "flex": null,
            "flex_flow": null,
            "grid_area": null,
            "grid_auto_columns": null,
            "grid_auto_flow": null,
            "grid_auto_rows": null,
            "grid_column": null,
            "grid_gap": null,
            "grid_row": null,
            "grid_template_areas": null,
            "grid_template_columns": null,
            "grid_template_rows": null,
            "height": null,
            "justify_content": null,
            "justify_items": null,
            "left": null,
            "margin": null,
            "max_height": null,
            "max_width": null,
            "min_height": null,
            "min_width": null,
            "object_fit": null,
            "object_position": null,
            "order": null,
            "overflow": null,
            "overflow_x": null,
            "overflow_y": null,
            "padding": null,
            "right": null,
            "top": null,
            "visibility": null,
            "width": null
          }
        }
      }
    }
  },
  "cells": [
    {
      "cell_type": "markdown",
      "metadata": {
        "id": "view-in-github",
        "colab_type": "text"
      },
      "source": [
        "<a href=\"https://colab.research.google.com/github/estebanhernandezr/Entregas-Semanales/blob/main/Entropy_revisited.ipynb\" target=\"_parent\"><img src=\"https://colab.research.google.com/assets/colab-badge.svg\" alt=\"Open In Colab\"/></a>"
      ]
    },
    {
      "cell_type": "markdown",
      "source": [
        "#Import"
      ],
      "metadata": {
        "id": "mqIoyysECz4Q"
      }
    },
    {
      "cell_type": "code",
      "source": [
        "from typing import BinaryIO, Dict, Sequence, Tuple\n",
        "import numpy as np\n",
        "from math import log\n",
        "import matplotlib.pyplot as plt\n",
        "import string\n",
        "import random\n",
        "from __future__ import print_function\n",
        "from ipywidgets import interact, interactive, fixed, interact_manual\n",
        "import ipywidgets as widgets"
      ],
      "metadata": {
        "id": "NKokaF760eUC"
      },
      "execution_count": null,
      "outputs": []
    },
    {
      "cell_type": "markdown",
      "source": [
        "#Entropy"
      ],
      "metadata": {
        "id": "Ym8idhdAyWKh"
      }
    },
    {
      "cell_type": "markdown",
      "source": [
        "##Hyper-parameters"
      ],
      "metadata": {
        "id": "vZV8M472-Xge"
      }
    },
    {
      "cell_type": "code",
      "source": [
        "base = 2\n",
        "alphabet = ['a', 'b', 'c', 'd', 'e', 'f', 'g', 'h', 'i', 'j',' k', 'l', 'm',\n",
        "            'n', 'o', 'p', 'q', 'r', 's', 't', 'u', 'v', 'x', 'y', 'z']"
      ],
      "metadata": {
        "id": "yxOwD5ek-Wb3"
      },
      "execution_count": null,
      "outputs": []
    },
    {
      "cell_type": "markdown",
      "source": [
        "##Entropy by *Ralph Hartley* (1928)\n",
        "A quantitative measure of information was presented in *Bell System Technical\n",
        "Journal* already 1928 by *Ralph Hartley*: *the information content*, $I_H$, in a\n",
        "message consisting of $n$ characters, each of them chosen from an alphabet\n",
        "of $N$ different symbols, should be proportional to the length $n$ multiplied\n",
        "by some function of the size of the alphabet, $f(N)$, so that $I_H = nf(N)$.\n",
        "\n",
        "The functional form of *the information content* is supported by the argument that if the message is coded using an alphabet of different size $N_0$ resulting in another length $n_0$, then *the information content* should not change: $I_H = n_0f(N_0)$. The function $f$ that preserves the *information content* is $log_K$, where $K$ is an arbitrary base of the logarithm: different $K$ just results in a scaling of *the information content*.\n",
        "\n",
        "Therefore, *Ralph Hartley* formulated *the information content* as\n",
        "$$I_H(n,N)=n\\,log_{K}(N),$$\n",
        "where $n$ is the length of the message and $N$ is the cardinality of the alphabet.\n"
      ],
      "metadata": {
        "id": "eeKTwUfSyesR"
      }
    },
    {
      "cell_type": "code",
      "execution_count": null,
      "metadata": {
        "id": "zEr4Px5tx1Cf"
      },
      "outputs": [],
      "source": [
        "def Message_Hartley_Entropy(message: str, alpha: int) -> float:\n",
        "    entropy_per_message: float = len(message)*log(alpha, base)\n",
        "    return entropy_per_message\n",
        "\n",
        "def Symbol_Hartley_Entropy(message: str, alpha: int) -> float:\n",
        "    entropy_per_message: float = len(message)*log(alpha, base)\n",
        "    entropy_per_symbol: float = entropy_per_message/len(message)\n",
        "    return entropy_per_symbol"
      ]
    },
    {
      "cell_type": "markdown",
      "source": [
        "*Hartley*'s approach, nonetheless, builds upon the worst case escenario: all symbols are equally likely to appear next in the sequence, as we may witness with the *Shannon's information content (generalized) formulation*, in the next subsection.\n",
        "\n",
        "As a matter of fact, the *Hartley's information content* does not depend on the sequence itself, but only on its lenght and the length of the alphabet it was written with: really, not even on the symbols themselves. Indeed, we could have omitted passing the message string to the *Message_Hartley_Entropy* and *Symbol_Hartley_Entropy* functions, as a parameter: and we may later.\n",
        "\n",
        "The previous is illustrated below."
      ],
      "metadata": {
        "id": "EVrpVXh-BwTm"
      }
    },
    {
      "cell_type": "markdown",
      "source": [
        "**FACT**: Whenever we generate a random sequence of characters, taken from any alphabet, we will always get the same value for the *Hartley's information content* measure, as long as the length of the sequence stays the same as well as the length of the alphabet.\n",
        "\n",
        "Try it yourself..."
      ],
      "metadata": {
        "id": "R29rwiNnE_qp"
      }
    },
    {
      "cell_type": "code",
      "source": [
        "n = 60\n",
        "print('length of the message:', n)\n",
        "print('size of the alphabet:', len(string.ascii_letters), end='\\n\\n')\n",
        "\n",
        "cad = ''.join(random.choice(string.ascii_letters) for _ in range(n))\n",
        "print('random message:', cad, end='\\n\\n')\n",
        "print('message entropy:', Message_Hartley_Entropy(cad, len(alphabet)))\n",
        "print('symbol entropy:', Symbol_Hartley_Entropy(cad, len(alphabet)))"
      ],
      "metadata": {
        "colab": {
          "base_uri": "https://localhost:8080/"
        },
        "id": "jQcB868V1hg-",
        "outputId": "3686f0a3-eb28-4035-f74a-94e0c24ccd12"
      },
      "execution_count": null,
      "outputs": [
        {
          "output_type": "stream",
          "name": "stdout",
          "text": [
            "length of the message: 60\n",
            "size of the alphabet: 52\n",
            "\n",
            "random message: ydUBxUpoNMnBaIUKgFShrCcmTzOpDSSSStodsBXrTotzTbhOQHsrOdMjRzXM\n",
            "\n",
            "message entropy: 278.63137138648347\n",
            "symbol entropy: 4.643856189774724\n"
          ]
        }
      ]
    },
    {
      "cell_type": "markdown",
      "source": [
        "As a matter of fact, here is some subtle detail that is worth noting: different values for the base $K$ results just in a scaling of the *Hartley's information content*. We show this by interpretating $K$ in terms of combinatory.\n",
        "\n",
        "What we got is a scaling of a logaritmic function for the *Hartley's information content* in the message: the scaling factor is the length of the message; the logaritmic function, the *Hartley's information content* per symbol, depends not only on the size of the alphabet, but also on the base $K$. Indeed, we would like to generate $N$ different symbols with an alphabet of $K$ symbols (encode). For that end, note that\n",
        "$$N=K^{log_{K}(N)}.$$\n",
        "In this context, the quantity $log_{K}(N)$ is interpreted as the exact number of *placeholders* needed to form $N$ different combinations with $K$ symbols.  \n",
        "\n",
        "By the *pigeonhole principle*, if $K<N$, then at least one of the $N$ symbols must be encoded with two or more of the $K$ symbols *i.e* the number of *placeholders*, $log_{K}(N)$, must be grater or equal than $2$, in order to asign each symbol a unique code. For fixed $K$, $log_{K}(N)$ is an increasing function of $N$. However, for $N'>N$, one can match combinations of two or more symbols from the smaller alphabet to the remaining unmatched $N'-N$ symbols in the larger alphabet. Therefore, the number of *placeholders*, $log_{K}(N)$, increase, but at the same time, the message itself can be written in the new alphabet with less symbols: since combinations of symbols in the smaller alphabet can be written as only one symbol from the larger alphabet. So, there will be more *placeholders* per symbol, but less symbols, in the code."
      ],
      "metadata": {
        "id": "Yl-SXkWLLwhC"
      }
    },
    {
      "cell_type": "markdown",
      "source": [
        "The most straightforward way to illustrate this is with the powers of a given alphabet size $N$: $N^{2}$, $N^{3}$, ..., $N^{p}$. For the sizes of alphabet therein you can interpolate safely, as long as $log_{K}(⋅)$ is an monotically increasing function of its argument. In this case, all $N$ symbols of the smaller alphabet are asigned to the \"first\" $N$ symbols of the larger alphabet. Then, the remaining $N^{p-1}$ symbols in the larger alphabet can be matched with all the $p$-length combinations of symbols from the smaller alphabet. This reduces the length of the message from $n$ symbols to $\\frac{n}{p-1}$."
      ],
      "metadata": {
        "id": "tbZhIpDEqtW_"
      }
    },
    {
      "cell_type": "markdown",
      "source": [
        "(Now that we have understood the physical meaning behind the parameters of the entropy functions, we can start working with the mathematical definition itself, while keeping the forement in mind. For this end, we redefine the *information content* functions above into a more general formulation, where the parameters of the functions are not restricted to their physical meaning.)"
      ],
      "metadata": {
        "id": "9VcvrJG3tLqz"
      }
    },
    {
      "cell_type": "code",
      "source": [
        "def Message_Hartley_Entropy_generalized(n: float, alpha: int) -> float:\n",
        "    entropy_per_message: float = n*log(alpha, base)\n",
        "    return entropy_per_message\n",
        "\n",
        "def Symbol_Hartley_Entropy_generalized(n: float, alpha: int) -> float:\n",
        "    entropy_per_message: float = n*log(alpha, base)\n",
        "    entropy_per_symbol: float = entropy_per_message/n\n",
        "    return entropy_per_symbol"
      ],
      "metadata": {
        "id": "p33o0QhWnzkm"
      },
      "execution_count": null,
      "outputs": []
    },
    {
      "cell_type": "markdown",
      "source": [
        "Nothing has really changed, but now the parameters are continous. Anyway, the previous analysis still true as we may see.\n",
        "\n",
        "Try it yourself..."
      ],
      "metadata": {
        "id": "lTOisQX0te3v"
      }
    },
    {
      "cell_type": "code",
      "source": [
        "Message_Hartley_Entropies = []\n",
        "Symbol_Hartley_Entropies = []\n",
        "Sizes_of_alphabet = []\n",
        "\n",
        "n = 60\n",
        "\n",
        "powers = 30\n",
        "for size in range(1, powers, 1):\n",
        "    #Message_Hartley_Entropies.append((n/size)*log(n**size, base))\n",
        "    Message_Hartley_Entropies.append(Message_Hartley_Entropy_generalized(n/size, n**size))\n",
        "    Symbol_Hartley_Entropies.append(Symbol_Hartley_Entropy_generalized(n/size, n**size))\n",
        "    Sizes_of_alphabet.append(n/size)"
      ],
      "metadata": {
        "id": "sJalc6Po9PAQ"
      },
      "execution_count": null,
      "outputs": []
    },
    {
      "cell_type": "code",
      "source": [
        "plt.title('MESSAGE entropy VS SIZE of alphabet')\n",
        "plt.xlabel('SIZE of alphabet (power)')\n",
        "plt.ylabel('MESSAGE entropy')\n",
        "plt.plot(Message_Hartley_Entropies)\n",
        "plt.show()\n",
        "plt.title('SYMBOL entropy VS SIZE of alphabet')\n",
        "plt.xlabel('SIZE of alphabet (power)')\n",
        "plt.ylabel('SYMBOL entropy')\n",
        "plt.plot(Symbol_Hartley_Entropies)\n",
        "plt.show()\n",
        "plt.title('LENGTH of message VS SIZE of alphabet')\n",
        "plt.xlabel('SIZE of alphabet (power)')\n",
        "plt.ylabel('LENGTH of message')\n",
        "plt.plot(Sizes_of_alphabet)\n",
        "plt.show()"
      ],
      "metadata": {
        "colab": {
          "base_uri": "https://localhost:8080/",
          "height": 851
        },
        "id": "VcRXRsTT_K_9",
        "outputId": "1f1f7679-02cf-4720-9493-380498e72531"
      },
      "execution_count": null,
      "outputs": [
        {
          "output_type": "display_data",
          "data": {
            "text/plain": [
              "<Figure size 432x288 with 1 Axes>"
            ],
            "image/png": "[encoded data removed]"
          },
          "metadata": {
            "needs_background": "light"
          }
        },
        {
          "output_type": "display_data",
          "data": {
            "text/plain": [
              "<Figure size 432x288 with 1 Axes>"
            ],
            "image/png": "[encoded data removed]"
          },
          "metadata": {
            "needs_background": "light"
          }
        },
        {
          "output_type": "display_data",
          "data": {
            "text/plain": [
              "<Figure size 432x288 with 1 Axes>"
            ],
            "image/png": "[encoded data removed]"
          },
          "metadata": {
            "needs_background": "light"
          }
        }
      ]
    },
    {
      "cell_type": "markdown",
      "source": [
        "As expected, what we can see here is that, $log_{K}(N)$, interpreted as the generalization of the number of *placeholders*, increases with, $N$, interpreted as the generalization of the alphabet size: more symbols to enconde require more *placeholders* in the code. While, the length of the message decreases with $N$. This is the reason why they all have the same entropy per message, even when they have a different entropy per symbol. Indeed, the number of *placeholders* and the entropy per symbol balance themselves: when one increases, the other decreases, to mantain the same entropy per message throughout changes on the size of the alphabet."
      ],
      "metadata": {
        "id": "N9QoSZpp8vYJ"
      }
    },
    {
      "cell_type": "markdown",
      "source": [
        "You can try changing the *base* hyperparameter defined at the top cell and verify that the shape of the curves does not change, but only the scale of the *y-axis*."
      ],
      "metadata": {
        "id": "jqPGLT_6j9Iq"
      }
    },
    {
      "cell_type": "markdown",
      "source": [
        "##Entropy by *Claude Shannon* (1948)"
      ],
      "metadata": {
        "id": "s26hTLVdyoCw"
      }
    },
    {
      "cell_type": "markdown",
      "source": [
        "¿Remember how we defined *Hartley's information content*?: "
      ],
      "metadata": {
        "id": "-wuBHbegkDrW"
      }
    },
    {
      "cell_type": "code",
      "source": [
        "def Message_Hartley_Entropy_generalized(n: float, alpha: int) -> float:\n",
        "    entropy_per_message: float = n*log(alpha, base)\n",
        "    return entropy_per_message\n",
        "\n",
        "def Symbol_Hartley_Entropy_generalized(n: float, alpha: int) -> float:\n",
        "    entropy_per_message: float = n*log(alpha, base)\n",
        "    entropy_per_symbol: float = entropy_per_message/n\n",
        "    return entropy_per_symbol"
      ],
      "metadata": {
        "id": "0ud04IPulIlh"
      },
      "execution_count": null,
      "outputs": []
    },
    {
      "cell_type": "markdown",
      "source": [
        "Como una función que para cada par de valores $n$ y $N$, corresponde un único valor de información: donde $N$ define el contenido de información por símbolo, y $n$ el contenido de información por mensaje. Pero vimos que el mensaje en sí era un parámetro libre. Por lo que, de hecho, existen un total de $N^{n}$ cadenas a las cuales se les asigna el mismo número de bits para su codificación, es decir, el mismo contenido de información de Hartley. Y podemos ver que el número de mensajes con el mismo contenido de información crece exponencialmente con la longitud del mensaje."
      ],
      "metadata": {
        "id": "lhhwHOuRlJGZ"
      }
    },
    {
      "cell_type": "markdown",
      "source": [
        "Esto sucede porque nuestro alfabeto, $\\mathcal{A}=\\{ \\alpha_{1}, \\alpha_{2}, ..., \\alpha_{N}\\}$, se puede caracterizar por las probabilidades de cada símbolo: $\\{P(\\alpha_{1}), P(\\alpha_{2}), ..., P(\\alpha_{N})\\}$; de modo que, si la cantidad de bits necesarios para codificar $\\alpha_{i}$ es $\\ell(\\alpha_{i})$, entonces la **longitud promedio** del mensaje codificado será $$L=\\sum_{i=1}^{N}\\ell(\\alpha_{i})\\,P(\\alpha_{i}).$$ No en vano, observe que si $\\ell(\\alpha_{i})=log_{K}(N)$ para todo $i=1,2,...,N$, entonces $L=log_{K}(N)\\sum_{i=1}^{N}p(\\alpha_{i})$, lo cual restringe a que $\\sum_{i=1}^{N}p(\\alpha_{i})=n$ (la medida de contenido de información de Hartley), ya que todos tienen la misma longitud. De esta manera, se logra garantizar que tenemos el número exacto de palabras código para codificar cada símbolo del alfabeto de manera única, aunque $\\ell(\\alpha_{i})=log_{K}(N)$ no necesariamente minimiza la longitud promedio del mensaje codificado $L$: si lo hiciera, las cadenas de longitud $n$ compuestas por un único símbolo (repetido) necesitarian un menor número de bits para codificarse, que, por ejemplo, una cadena de longitud $n$ donde todos los símbolos aparecen casi todos el mismo número de veces (tienen la misma probabilidad de aparición). Esto es lo que ocasiona que a $N^{n}$ mensages distintos se les esté asignando la misma medida de información: $\\ell(\\alpha_{i})=log_{K}(N)$ NO minimiza la longitud promedio del mensaje codificado."
      ],
      "metadata": {
        "id": "CNhRRiec6LpW"
      }
    },
    {
      "cell_type": "markdown",
      "source": [
        "Ahora bien, si quisieramos un código que además de decodificable de manera única (como lo hizo Hartley) también minimize la longitud promedio del mensaje codificado. Podriamos partir suponiendo que ya tenemos un código $S$, de tamaño $N$, decodificable de manera única sobre un alfabeto de tamaño $K$, con longitudes de palabras código: $\\ell(\\alpha_{1}), \\ell(\\alpha_{2}), ..., \\ell(\\alpha_{N})$. A continuación, denotemos $$C=\\sum_{i=1}^{N}\\frac{1}{K^{\\ell(\\alpha_{i})}}.$$\n",
        "\n",
        "Luego, observe que: $$C^{m}=\\left(\\sum_{i=1}^{N}\\frac{1}{K^{\\ell(\\alpha_{i})}}\\right)^{m}=\\sum_{i_{1}=1}^{n}\\sum_{i_{2}=1}^{n}\\cdot\\cdot\\cdot \\sum_{i_{m}=1}^{n}K^{-\\left(\\ell(\\alpha_{i_1})+\\ell(\\alpha_{i_2})+\\cdot\\cdot\\cdot+\\ell(\\alpha_{i_m})\\right)}$$ para $m\\in \\mathbb{N}$. Por otro lado, consideremos el conjunto de todas las combinaciones de tamaño $m$ de palabras código del código $S$, $S^{m}$, en forma de palabras compuestas: $s_{i_{1}}, s_{i_{2}}, ..., s_{i_{m}}$, donde $1\\leq i_{1}, i_{2}, ..., i_{m}\\leq N$. Ahora bien, asumiendo que $S$ es un código decodificable de manera única, entonces $s_{i_{1}}, s_{i_{2}}, ..., s_{i_{m}}=s_{j_{1}}, s_{j_{2}}, ..., s_{j_{m}}$, implica que $i_{1}=j_{1}$, $i_{2}=j_{2}$, ..., $i_{m}=j_{m}$. Así que, podemos asignar cada sumando a su posición en la cadena de $m$ palabras código, garantizando que cada combinación de los sumandos corresponde a una única palabra en $S^{m}$.\n",
        "\n",
        "Por lo anterior, podemos reescribir: $$C^{m}=\\sum_{\\ell=1}^{m\\,\\ell_{max}}q_{\\ell} K^{-\\ell},$$ donde $q_{\\ell}$ es el número de palabras en $S^{m}$ de longtud $\\ell$, y $\\ell_{max}$ es la longitud de la palabra código más larga en $S$.\n",
        "\n",
        "Lo que se hizo fue contar el número de palabras de longitud $\\ell$ por medio de $q_{\\ell}$, en lugar de por medio de las combinaciones de los contadores $i$'s. También se garantiza que se eleva a todas la potencias, tomando a $\\ell$ desde 1, hasta $m\\,\\ell_{max}$.\n",
        "\n",
        "No obstante, para un alfabeto de $K$ símbolos, existen exactamente $K^{\\ell}$ combinaciones de longitud $\\ell$. Por lo cual cual, $q_{\\ell}\\leq K^{\\ell}$.\n",
        "\n",
        "Por lo anterior, $$C^{m}\\leq \\sum_{\\ell=1}^{m\\,\\ell_{max}}K^{\\ell}K^{-\\ell}=m\\,\\ell_{max}.$$\n",
        "\n",
        "Por lo tanto, $$\\sum_{i=1}^{N}\\frac{1}{K^{\\ell(\\alpha_{i})}}=C\\leq \\left(m\\,\\ell_{max}\\right)^{\\frac{1}{m}}.$$\n",
        "\n",
        "Ahora bien, dado que tomamos $m\\in\\mathbb{N}$ arbitrario, entonces la cota anterior de $C$ se cumple para todo $m$. No en vano, la cantidad $\\left(m\\,\\ell_{max}\\right)^{\\frac{1}{m}}$ tiende a $1$ asimptoticamente, por lo cual podemos concluir que $$\\sum_{i=1}^{N}\\frac{1}{K^{\\ell(\\alpha_{i})}}\\leq 1,$$ pues de lo contrario, la desigualdad no sería cierta a partir de algún $m$ suficientemente grande.\n",
        "\n",
        "Así pues, vemos que una consecuencia de considerar un código unicamente decodificable es que; se puede acotar $C^{m}$ para todo $m\\in\\mathbb{N}$ siempre y cuando $\\sum_{i=1}^{N}K^{-\\ell(\\alpha_{i})}\\leq 1$. Es decir, hemos demostrado por **reducción al absurdo** que: considerar un código únicamente decodificable con longitudes de palabras código $\\{\\ell(\\alpha_{1}), \\ell(\\alpha_{2}), ..., \\ell(\\alpha_{N})\\}$, implica que $$\\sum_{i=1}^{N}K^{-\\ell(\\alpha_{i})}\\leq 1.$$\n"
      ],
      "metadata": {
        "id": "MkEY82Hi4Lcx"
      }
    },
    {
      "cell_type": "markdown",
      "source": [
        "No en vano, dada una secuencia ordenada de números naturales: $$\\ell(\\alpha_{1})\\leq \\ell(\\alpha_{2})\\leq \\cdot\\cdot\\cdot \\leq \\ell(\\alpha_{N}),$$ tales que $$\\sum_{i=1}^{N}K^{-\\ell(\\alpha_{i})}\\leq 1,$$ se puede construir un código de la siguiente manera:\n",
        "\n",
        "Consideremos un árbol $K$-enario completo (es decir, donde cada nodo tiene exactamente $K$ hijos) de profundidad $\\ell(\\alpha_{N})$ (es decir, de $\\ell(\\alpha_{N})$ generaciones). Primero, tomemos cualquiera de los nodos del árbol que están en el nivel $\\ell(\\alpha_{1})$ de profundidad en el árbol; hagamos que este nodo corresponda a la primera palabra código de nuestro código. Desde ese momento, todos los nodos descendientes de este nodo los consideramos como inadecuados para su inclusión en el código, y por tanto, no los incluiremos en él: el total de nodos hojas que se excluyen del código es $K^{\\ell(\\alpha_{N})-\\ell(\\alpha_{1})}$, ya que el árbol es completo.\n",
        "\n",
        "En una siguiente iteración, tomamos alguno de los $K^{\\ell(\\alpha_{N})-\\ell(\\alpha_{1})}$ nodos, que aún son considerados, que esté en el nivel $\\ell(\\alpha_{2})$ de profundidad en el árbol como una nueva palabra código. Esta vez, excluimos los $K^{\\ell(\\alpha_{N})-\\ell(\\alpha_{2})}$ nodos hojas descendientes de este nodo. Continuamos de esta manera, asignando palabras código en los niveles de profundidad restantes: $\\ell(\\alpha_{3}), \\ell(\\alpha_{4}), ..., \\ell(\\alpha_{N})$. Despues de las $N$ iteraciones se habrá excluido un total de $$\\sum_{i=1}^{N}K^{\\ell(\\alpha_{N})-\\ell(\\alpha_{i})}$$ nodos hoja. En ese momento, debemos preguntarnos sí hemos excluido más nodos hojas que los $K^{\\ell(\\alpha_{N})}$ que posee el árbol $K$-enario completo: de ser así, entonces no alcanzan los nodos para asignar uno a cada una de las $N$ palabras código mediante la construcción anterior. Sin embargo, asumiendo que $$\\sum_{i=1}^{N}K^{-\\ell(\\alpha_{i})}\\leq 1,$$ se sigue que $$\\sum_{i=1}^{N}K^{\\ell(\\alpha_{N})-\\ell(\\alpha_{i})}\\leq K^{\\ell(\\alpha_{N})}.$$ Por lo cual, el código que hemos construido codifica apropiadamente los $N$ símbolos del alfabeto."
      ],
      "metadata": {
        "id": "znsXg4bZPhcP"
      }
    },
    {
      "cell_type": "markdown",
      "source": [
        "Ahora bien, un árbol $K$-enario donde cada nodo en el árbol es, o bien, una palabra clave ó un prefijo propio de una palabra clave, hace que el código implementado por el árbol sea decodificable de forma única, ya que existe un único camino desde la raíz hasta cualquier nodo del árbol y nunca pasa por más de una palabras código en el transcurso: el camino desde la raíz del árbol hasta cualquier palabra código es único, de modo que dada una palabra código siempre se puede reconstruir el cámino desde la raíz (es decir, los pasos del algoritmo que lo generaron, por construcción)."
      ],
      "metadata": {
        "id": "CWmQHyPLqrDM"
      }
    },
    {
      "cell_type": "markdown",
      "source": [
        "Al tipo de código anterior, se le llama **código libre de prefijos**. En ese orden de ideas, un *código libre de prefijos* es uno en el cual ninguna palabra código es un prefijo de cualquier otra palabra código. Por ejemplo, el código $\\{0, 10, 11\\}$ es *libre de prefijos*, pero el código $\\{0, 1, 01\\}$ no lo es: en este último la palabra código $0$ es una hoja y un nodo interno al mismo tiempo, por el cual pasan dos caminos distintos que van hacia $0$ y $01$."
      ],
      "metadata": {
        "id": "BaHJoQIqDGXl"
      }
    },
    {
      "cell_type": "markdown",
      "source": [
        "En conclusión, siempre es posible construir un **código libre de prefijos** de tamaños $\\ell(\\alpha_{1}), ..., \\ell(\\alpha_{N})$ para un alfabeto de tamaño $N$, cuando lo se quiere es codificar de forma única el alfabeto sobre otro de tamaño $K$. Esto significa que existe una forma sistemática de construir un código invertible para cualquier alfabeto. \n",
        "\n",
        "No obstante, de todas las formas posibles en las que se puede codificar un alfabeto, esta en particular resulta especialmente interesante, en parte, por el siguiente resultado:"
      ],
      "metadata": {
        "id": "09Tf3NGjkHcm"
      }
    },
    {
      "cell_type": "markdown",
      "source": [
        "Antes, vale la pena redactar el razonamiento anterior para su uso en el teorema que sigue:\n",
        "\n",
        "**LEMA:** Existe un código libre de prefijos con longitudes de palabras código $\\ell(\\alpha_{1}), ..., \\ell(\\alpha_{N})$ ***si y solamente sí*** $$\\sum_{i=1}^{N}K^{-\\ell(\\alpha_{i})}\\leq 1.$$\n",
        "**Demostración:** $(\\implies)$ Como vimos, todo código libre de prefijos es unicamente decodificable. No obstante, también demostramos, por absurdo, que tener un código unicamente decodificable de tamaños $\\ell(\\alpha_{1}), ..., \\ell(\\alpha_{N})$, implica que $\\sum_{i=1}^{N}K^{-\\ell(\\alpha_{i})}\\leq 1$.\n",
        "\n",
        "$(\\impliedby)$ Por otro lado, acabamos de ver que si $\\sum_{i=1}^{N}K^{-\\ell(\\alpha_{i})}\\leq 1$, entonces es posible construir un código libre de prefijos con esas longitudes de palabras código."
      ],
      "metadata": {
        "id": "03VP_qIy1USx"
      }
    },
    {
      "cell_type": "markdown",
      "source": [
        "Ahora si estamos listos para presentar y demostrar el resultado:"
      ],
      "metadata": {
        "id": "tG6wbOqPxNA8"
      }
    },
    {
      "cell_type": "markdown",
      "source": [
        "**TEOREMA:** $L_{min}$, la longitud promedio mínima del mensaje codificado, sobre todas los posibles códigos libres de prefijos para $\\mathcal{A}$, satisface que $$H[\\mathcal{A}]\\leq L_{min}\\leq H[\\mathcal{A}]+1.$$ Para cada símbolo. Donde $H[\\mathcal{A}]=\\sum_{i=1}^{N}p(\\alpha_{i})log_{K}\\left(\\frac{1}{p(\\alpha_{i})}\\right)$.\n",
        "\n",
        "**Demostración:** ($H[A]\\leq L$): $$H[A]-L=\\left(\\sum_{i=1}^{N}p(\\alpha_{i})log_{K}\\left(\\frac{1}{p(\\alpha_{i})}\\right)\\right)-\\left(\\sum_{i=1}^{N}p(\\alpha_{i})\\,\\ell(\\alpha_{i})\\right)\\\\ = \\left(\\sum_{i=1}^{N}p(\\alpha_{i})log_{K}\\left(\\frac{1}{p(\\alpha_{i})}\\right)\\right)-\\left(\\sum_{i=1}^{N}p(\\alpha_{i})\\,log_{K}\\left(K^{\\ell(\\alpha_{i})}\\right)\\right) \\\\ = \\sum_{i=1}^{N}\\left(p(\\alpha_{i})log_{K}\\left(\\frac{1}{p(\\alpha_{i})}\\right)-p(\\alpha_{i})\\,log_{K}\\left(K^{\\ell(\\alpha_{i})}\\right)\\right)\\\\= \\sum_{i=1}^{N}p(\\alpha_{i})\\left(log_{K}\\left(\\frac{1}{p(\\alpha_{i})}\\right)-\\,log_{K}\\left(K^{\\ell(\\alpha_{i})}\\right)\\right) \\\\= \\sum_{i=1}^{N}p(\\alpha_{i})log_{K}\\left(\\frac{K^{-\\ell(\\alpha_{i})}}{p(\\alpha_{i})}\\right).$$ Ahora bien, es sabido que $log_{K}(x)\\leq x-1$, de donde se sigue que $$H[A]-L\\leq log_{K}(e)\\sum_{i=1}^{N}p(\\alpha_{i})\\left(\\frac{K^{-\\ell(\\alpha_{i})}}{p(\\alpha_{i})}-1\\right)=log_{K}(e)\\left(\\sum_{i=1}^{N}K^{-\\ell(\\alpha_{i})}-\\sum_{i=1}^{N}p(\\alpha_{i})\\right).$$ Ahora bien, dado $L_{min}$ se obtuvo para un código libre de prefijos, por el lema anterior, entonces se sigue que $\\sum_{i=1}^{N}K^{-\\ell(\\alpha_{i})}\\leq 1$. Mientras que, $\\sum_{i=1}^{N}p(\\alpha_{i})=1$. Por lo tanto, $$H[A]-L\\leq log_{K}(e)\\left(\\sum_{i=1}^{N}K^{-\\ell(\\alpha_{i})}-\\sum_{i=1}^{N}p(\\alpha_{i})\\right)\\leq 0.$$ Por lo tanto $H[A]\\leq L$.\n",
        "\n",
        "($L_{min}\\leq H[A]+1$): Debemos probar que existe un código libre de prefijos tal que $L\\leq H[A]+1$. Para eso, el suficiente con tomar longitudes de las palabras código: $\\ell(\\alpha_{1}), ..., \\ell(\\alpha_{N})$, de la siguiente manera: $$\\ell(\\alpha_{i})=\\left\\lceil log_{K}\\left(\\frac{1}{p(\\alpha_{i})}\\right)\\right\\rceil.$$\n",
        "\n",
        "No en vano, por definición se tiene que: $$log_{K}\\left(\\frac{1}{p(\\alpha_{i})}\\right)\\leq \\ell(\\alpha_{i})\\leq log_{K}\\left(\\frac{1}{p(\\alpha_{i})}\\right)+1.$$ De donde se sigue que: $$K^{-\\ell(\\alpha_{i})}\\leq p(\\alpha_{i}).$$ Por lo tanto $$\\sum_{i=1}^{N}K^{-\\ell(\\alpha_{i})}\\leq \\sum_{i=1}^{N}p(\\alpha_{i})=1.$$\n",
        "\n",
        "Por lo tanto $\\sum_{i=1}^{N}K^{-\\ell(\\alpha_{i})}\\leq 1$, por lo que, por el lema anterior, existe un código libre de prefijos."
      ],
      "metadata": {
        "id": "45bB8WSquiqm"
      }
    },
    {
      "cell_type": "markdown",
      "source": [
        "Por esto, consideramos la cantidad $H[\\mathcal{A}]$ como una medida de información en el sentido sugerido, originalmente, por *Hartley*: surge de la descripción de un código decodificable de forma única (y, que además minimiza la longitud promedio de la palabra codificada) de un alfabeto."
      ],
      "metadata": {
        "id": "vnpwrf_t5G0o"
      }
    },
    {
      "cell_type": "markdown",
      "source": [
        "*Claude Shannon* llamó a la cantidad $H[\\mathcal{A}]$ entropía, en honor a la entropía de la termodinámica, al darse cuenta de que era la única cantidad tal que es máxima cuando $p(\\alpha_{i})$ es igual para todo $i$.\n"
      ],
      "metadata": {
        "id": "KF9kwAAHyYHO"
      }
    },
    {
      "cell_type": "markdown",
      "source": [
        "Nonetheless, consider the quantity:\n",
        "$$log_{K}\\left(\\frac{1}{p}\\right),$$\n",
        "where $p$ is a real value in the interval $[0,1]$."
      ],
      "metadata": {
        "id": "xZymhUY5CTpc"
      }
    },
    {
      "cell_type": "code",
      "source": [
        "base = 2\n",
        "def f(prob):\n",
        "    entropy = log(1/prob, base)\n",
        "    fig, (ax1, ax2) = plt.subplots(1, 2, figsize=(8, 6))\n",
        "    ax1.set_title('bits used to code symbol')\n",
        "    ax1.plot(np.arange(1, 100), [log(val, base) for val in np.arange(1, 100)], 'r')\n",
        "    ax1.scatter([1/prob], [entropy])\n",
        "    ax2.set_title('total bits contributed to the message')\n",
        "    ax2.axhline(y = prob*entropy, color = 'r', linestyle = '-')\n",
        "    plt.show()\n",
        "    return entropy\n",
        "interact(f, prob=widgets.FloatLogSlider(value=0.5, base=10, min=-5, max=0.1))"
      ],
      "metadata": {
        "id": "JouGyPc8y3IH",
        "colab": {
          "base_uri": "https://localhost:8080/",
          "height": 457,
          "referenced_widgets": [
            "f937c41e1f134a5a905826801af613be",
            "f6e84bcc78364c64b45a10de10793f44",
            "da8b11e3ea4e47e1b4bbf6f2cf527c7e",
            "f32a67bd8ee24b77bc0bcc1bf66146eb",
            "fb0ee826133748b1933153121ebfc334",
            "c47b38fe8c534f9dae776035672b2b31",
            "126338c0f7cc4a3589ddb1a6a45dbc28"
          ]
        },
        "outputId": "4a3bc430-0d88-4b0a-bcd5-198a66ee39e6"
      },
      "execution_count": null,
      "outputs": [
        {
          "output_type": "display_data",
          "data": {
            "text/plain": [
              "interactive(children=(FloatLogSlider(value=0.5, description='prob', max=0.1, min=-5.0), Output()), _dom_classe…"
            ],
            "application/vnd.jupyter.widget-view+json": {
              "version_major": 2,
              "version_minor": 0,
              "model_id": "f937c41e1f134a5a905826801af613be"
            }
          },
          "metadata": {}
        },
        {
          "output_type": "execute_result",
          "data": {
            "text/plain": [
              "<function __main__.f>"
            ]
          },
          "metadata": {},
          "execution_count": 8
        }
      ]
    },
    {
      "cell_type": "markdown",
      "source": [
        "As a matter of fact, the more probable a symbol is, the shortest the code assigned to it is. Therefore, most probable symbols are assigned to shortest codewords and, inversely, the most unprobable symbols are assigned to the longest codewords. Causing the extreme probable events to have a less significant impact on the total length of the coded message."
      ],
      "metadata": {
        "id": "t5fRWsb7wS69"
      }
    }
  ]
}