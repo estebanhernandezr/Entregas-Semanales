{
  "nbformat": 4,
  "nbformat_minor": 0,
  "metadata": {
    "colab": {
      "name": "AndreyEsteban_LizarazoHernandez_ejerciciosCV",
      "provenance": [],
      "collapsed_sections": [],
      "include_colab_link": true
    },
    "kernelspec": {
      "name": "python3",
      "display_name": "Python 3"
    },
    "language_info": {
      "name": "python"
    }
  },
  "cells": [
    {
      "cell_type": "markdown",
      "metadata": {
        "id": "view-in-github",
        "colab_type": "text"
      },
      "source": [
        "<a href=\"https://colab.research.google.com/github/estebanhernandezr/Entregas-Semanales/blob/main/AndreyEsteban_LizarazoHernandez_ejerciciosCV.ipynb\" target=\"_parent\"><img src=\"https://colab.research.google.com/assets/colab-badge.svg\" alt=\"Open In Colab\"/></a>"
      ]
    },
    {
      "cell_type": "markdown",
      "source": [
        "A continuación, **importamos** las **librerías** necesarias..."
      ],
      "metadata": {
        "id": "XHtXpayL8caG"
      }
    },
    {
      "cell_type": "code",
      "execution_count": 211,
      "metadata": {
        "id": "XjciRErC8YYr"
      },
      "outputs": [],
      "source": [
        "import numpy as np\n",
        "import pandas as pd\n",
        "import seaborn as sns\n",
        "from sklearn import datasets\n",
        "import matplotlib.pyplot as plt\n",
        "import sklearn.metrics as metrics\n",
        "from sklearn.cluster import KMeans\n",
        "from sklearn.metrics import roc_curve, auc\n",
        "from sklearn.neighbors import KNeighborsClassifier\n",
        "from sklearn.model_selection import cross_val_score\n",
        "from sklearn.linear_model import LogisticRegression\n",
        "from sklearn.model_selection import train_test_split\n",
        "from sklearn.metrics import confusion_matrix, accuracy_score\n",
        "from sklearn import preprocessing\n",
        "from sklearn import svm, datasets\n",
        "from sklearn.metrics import roc_curve, auc\n",
        "from sklearn.model_selection import train_test_split\n",
        "from sklearn.preprocessing import label_binarize\n",
        "from sklearn.multiclass import OneVsRestClassifier\n",
        "from sklearn.metrics import roc_auc_score\n",
        "from sklearn.utils import resample"
      ]
    },
    {
      "cell_type": "markdown",
      "source": [
        "A continuación, **importamos** el **dataset iris**, los **regresores** y el **target** en dataframes por separado y luego los **concatenamos** en un solo **dataframe**..."
      ],
      "metadata": {
        "id": "CW_uoWRn864e"
      }
    },
    {
      "cell_type": "code",
      "source": [
        "# Dataset IRIS\n",
        "iris = datasets.load_iris()\n",
        "# Regresores\n",
        "df_observ = pd.DataFrame(data=iris.data, columns=iris.feature_names)\n",
        "# Target (0=setosa, 1=versicolor, 2=virginica)\n",
        "df_target = pd.DataFrame(data=iris.target, columns=['label'])\n",
        "df_target['name'] = df_target['label'].apply(lambda x: iris.target_names[x])\n",
        "# Dataframe completo (regresores junto a su etiqueta correspondiente)\n",
        "df_comple = pd.concat([df_observ, df_target], axis=1)\n",
        "df_comple"
      ],
      "metadata": {
        "colab": {
          "base_uri": "https://localhost:8080/",
          "height": 424
        },
        "id": "zUBeHkey8sbJ",
        "outputId": "69a1bedf-9334-4dd0-fcbd-e3382a857955"
      },
      "execution_count": 212,
      "outputs": [
        {
          "output_type": "execute_result",
          "data": {
            "text/plain": [
              "     sepal length (cm)  sepal width (cm)  petal length (cm)  petal width (cm)  \\\n",
              "0                  5.1               3.5                1.4               0.2   \n",
              "1                  4.9               3.0                1.4               0.2   \n",
              "2                  4.7               3.2                1.3               0.2   \n",
              "3                  4.6               3.1                1.5               0.2   \n",
              "4                  5.0               3.6                1.4               0.2   \n",
              "..                 ...               ...                ...               ...   \n",
              "145                6.7               3.0                5.2               2.3   \n",
              "146                6.3               2.5                5.0               1.9   \n",
              "147                6.5               3.0                5.2               2.0   \n",
              "148                6.2               3.4                5.4               2.3   \n",
              "149                5.9               3.0                5.1               1.8   \n",
              "\n",
              "     label       name  \n",
              "0        0     setosa  \n",
              "1        0     setosa  \n",
              "2        0     setosa  \n",
              "3        0     setosa  \n",
              "4        0     setosa  \n",
              "..     ...        ...  \n",
              "145      2  virginica  \n",
              "146      2  virginica  \n",
              "147      2  virginica  \n",
              "148      2  virginica  \n",
              "149      2  virginica  \n",
              "\n",
              "[150 rows x 6 columns]"
            ],
            "text/html": [
              "\n",
              "  <div id=\"df-c9f611d0-0288-4068-bcea-907725dff15d\">\n",
              "    <div class=\"colab-df-container\">\n",
              "      <div>\n",
              "<style scoped>\n",
              "    .dataframe tbody tr th:only-of-type {\n",
              "        vertical-align: middle;\n",
              "    }\n",
              "\n",
              "    .dataframe tbody tr th {\n",
              "        vertical-align: top;\n",
              "    }\n",
              "\n",
              "    .dataframe thead th {\n",
              "        text-align: right;\n",
              "    }\n",
              "</style>\n",
              "<table border=\"1\" class=\"dataframe\">\n",
              "  <thead>\n",
              "    <tr style=\"text-align: right;\">\n",
              "      <th></th>\n",
              "      <th>sepal length (cm)</th>\n",
              "      <th>sepal width (cm)</th>\n",
              "      <th>petal length (cm)</th>\n",
              "      <th>petal width (cm)</th>\n",
              "      <th>label</th>\n",
              "      <th>name</th>\n",
              "    </tr>\n",
              "  </thead>\n",
              "  <tbody>\n",
              "    <tr>\n",
              "      <th>0</th>\n",
              "      <td>5.1</td>\n",
              "      <td>3.5</td>\n",
              "      <td>1.4</td>\n",
              "      <td>0.2</td>\n",
              "      <td>0</td>\n",
              "      <td>setosa</td>\n",
              "    </tr>\n",
              "    <tr>\n",
              "      <th>1</th>\n",
              "      <td>4.9</td>\n",
              "      <td>3.0</td>\n",
              "      <td>1.4</td>\n",
              "      <td>0.2</td>\n",
              "      <td>0</td>\n",
              "      <td>setosa</td>\n",
              "    </tr>\n",
              "    <tr>\n",
              "      <th>2</th>\n",
              "      <td>4.7</td>\n",
              "      <td>3.2</td>\n",
              "      <td>1.3</td>\n",
              "      <td>0.2</td>\n",
              "      <td>0</td>\n",
              "      <td>setosa</td>\n",
              "    </tr>\n",
              "    <tr>\n",
              "      <th>3</th>\n",
              "      <td>4.6</td>\n",
              "      <td>3.1</td>\n",
              "      <td>1.5</td>\n",
              "      <td>0.2</td>\n",
              "      <td>0</td>\n",
              "      <td>setosa</td>\n",
              "    </tr>\n",
              "    <tr>\n",
              "      <th>4</th>\n",
              "      <td>5.0</td>\n",
              "      <td>3.6</td>\n",
              "      <td>1.4</td>\n",
              "      <td>0.2</td>\n",
              "      <td>0</td>\n",
              "      <td>setosa</td>\n",
              "    </tr>\n",
              "    <tr>\n",
              "      <th>...</th>\n",
              "      <td>...</td>\n",
              "      <td>...</td>\n",
              "      <td>...</td>\n",
              "      <td>...</td>\n",
              "      <td>...</td>\n",
              "      <td>...</td>\n",
              "    </tr>\n",
              "    <tr>\n",
              "      <th>145</th>\n",
              "      <td>6.7</td>\n",
              "      <td>3.0</td>\n",
              "      <td>5.2</td>\n",
              "      <td>2.3</td>\n",
              "      <td>2</td>\n",
              "      <td>virginica</td>\n",
              "    </tr>\n",
              "    <tr>\n",
              "      <th>146</th>\n",
              "      <td>6.3</td>\n",
              "      <td>2.5</td>\n",
              "      <td>5.0</td>\n",
              "      <td>1.9</td>\n",
              "      <td>2</td>\n",
              "      <td>virginica</td>\n",
              "    </tr>\n",
              "    <tr>\n",
              "      <th>147</th>\n",
              "      <td>6.5</td>\n",
              "      <td>3.0</td>\n",
              "      <td>5.2</td>\n",
              "      <td>2.0</td>\n",
              "      <td>2</td>\n",
              "      <td>virginica</td>\n",
              "    </tr>\n",
              "    <tr>\n",
              "      <th>148</th>\n",
              "      <td>6.2</td>\n",
              "      <td>3.4</td>\n",
              "      <td>5.4</td>\n",
              "      <td>2.3</td>\n",
              "      <td>2</td>\n",
              "      <td>virginica</td>\n",
              "    </tr>\n",
              "    <tr>\n",
              "      <th>149</th>\n",
              "      <td>5.9</td>\n",
              "      <td>3.0</td>\n",
              "      <td>5.1</td>\n",
              "      <td>1.8</td>\n",
              "      <td>2</td>\n",
              "      <td>virginica</td>\n",
              "    </tr>\n",
              "  </tbody>\n",
              "</table>\n",
              "<p>150 rows × 6 columns</p>\n",
              "</div>\n",
              "      <button class=\"colab-df-convert\" onclick=\"convertToInteractive('df-c9f611d0-0288-4068-bcea-907725dff15d')\"\n",
              "              title=\"Convert this dataframe to an interactive table.\"\n",
              "              style=\"display:none;\">\n",
              "        \n",
              "  <svg xmlns=\"http://www.w3.org/2000/svg\" height=\"24px\"viewBox=\"0 0 24 24\"\n",
              "       width=\"24px\">\n",
              "    <path d=\"M0 0h24v24H0V0z\" fill=\"none\"/>\n",
              "    <path d=\"M18.56 5.44l.94 2.06.94-2.06 2.06-.94-2.06-.94-.94-2.06-.94 2.06-2.06.94zm-11 1L8.5 8.5l.94-2.06 2.06-.94-2.06-.94L8.5 2.5l-.94 2.06-2.06.94zm10 10l.94 2.06.94-2.06 2.06-.94-2.06-.94-.94-2.06-.94 2.06-2.06.94z\"/><path d=\"M17.41 7.96l-1.37-1.37c-.4-.4-.92-.59-1.43-.59-.52 0-1.04.2-1.43.59L10.3 9.45l-7.72 7.72c-.78.78-.78 2.05 0 2.83L4 21.41c.39.39.9.59 1.41.59.51 0 1.02-.2 1.41-.59l7.78-7.78 2.81-2.81c.8-.78.8-2.07 0-2.86zM5.41 20L4 18.59l7.72-7.72 1.47 1.35L5.41 20z\"/>\n",
              "  </svg>\n",
              "      </button>\n",
              "      \n",
              "  <style>\n",
              "    .colab-df-container {\n",
              "      display:flex;\n",
              "      flex-wrap:wrap;\n",
              "      gap: 12px;\n",
              "    }\n",
              "\n",
              "    .colab-df-convert {\n",
              "      background-color: #E8F0FE;\n",
              "      border: none;\n",
              "      border-radius: 50%;\n",
              "      cursor: pointer;\n",
              "      display: none;\n",
              "      fill: #1967D2;\n",
              "      height: 32px;\n",
              "      padding: 0 0 0 0;\n",
              "      width: 32px;\n",
              "    }\n",
              "\n",
              "    .colab-df-convert:hover {\n",
              "      background-color: #E2EBFA;\n",
              "      box-shadow: 0px 1px 2px rgba(60, 64, 67, 0.3), 0px 1px 3px 1px rgba(60, 64, 67, 0.15);\n",
              "      fill: #174EA6;\n",
              "    }\n",
              "\n",
              "    [theme=dark] .colab-df-convert {\n",
              "      background-color: #3B4455;\n",
              "      fill: #D2E3FC;\n",
              "    }\n",
              "\n",
              "    [theme=dark] .colab-df-convert:hover {\n",
              "      background-color: #434B5C;\n",
              "      box-shadow: 0px 1px 3px 1px rgba(0, 0, 0, 0.15);\n",
              "      filter: drop-shadow(0px 1px 2px rgba(0, 0, 0, 0.3));\n",
              "      fill: #FFFFFF;\n",
              "    }\n",
              "  </style>\n",
              "\n",
              "      <script>\n",
              "        const buttonEl =\n",
              "          document.querySelector('#df-c9f611d0-0288-4068-bcea-907725dff15d button.colab-df-convert');\n",
              "        buttonEl.style.display =\n",
              "          google.colab.kernel.accessAllowed ? 'block' : 'none';\n",
              "\n",
              "        async function convertToInteractive(key) {\n",
              "          const element = document.querySelector('#df-c9f611d0-0288-4068-bcea-907725dff15d');\n",
              "          const dataTable =\n",
              "            await google.colab.kernel.invokeFunction('convertToInteractive',\n",
              "                                                     [key], {});\n",
              "          if (!dataTable) return;\n",
              "\n",
              "          const docLinkHtml = 'Like what you see? Visit the ' +\n",
              "            '<a target=\"_blank\" href=https://colab.research.google.com/notebooks/data_table.ipynb>data table notebook</a>'\n",
              "            + ' to learn more about interactive tables.';\n",
              "          element.innerHTML = '';\n",
              "          dataTable['output_type'] = 'display_data';\n",
              "          await google.colab.output.renderOutput(dataTable, element);\n",
              "          const docLink = document.createElement('div');\n",
              "          docLink.innerHTML = docLinkHtml;\n",
              "          element.appendChild(docLink);\n",
              "        }\n",
              "      </script>\n",
              "    </div>\n",
              "  </div>\n",
              "  "
            ]
          },
          "metadata": {},
          "execution_count": 212
        }
      ]
    },
    {
      "cell_type": "markdown",
      "source": [
        "Tenemos un **dataframe** compuesto por **150 observaciones** de **4 características** y **una etiqueta** (**label** + **name**). Cuando graficamos dos de las características (**petal length** y **petal width**), podemos ver cómo se separan los datos en las **3 clases** distintas: **setosa**, **versicolor** y **virginica**."
      ],
      "metadata": {
        "id": "UPzvxRfN-8tw"
      }
    },
    {
      "cell_type": "code",
      "source": [
        "sns.scatterplot(x='petal length (cm)', y='petal width (cm)', hue='name', data=df_comple, alpha=0.6);"
      ],
      "metadata": {
        "colab": {
          "base_uri": "https://localhost:8080/",
          "height": 279
        },
        "id": "pW7ra7Rv-nwT",
        "outputId": "8fc68bdd-affc-4f65-e099-bd03d0cf27fe"
      },
      "execution_count": 213,
      "outputs": [
        {
          "output_type": "display_data",
          "data": {
            "text/plain": [
              "<Figure size 432x288 with 1 Axes>"
            ],
            "image/png": "[encoded data removed]"
          },
          "metadata": {
            "needs_background": "light"
          }
        }
      ]
    },
    {
      "cell_type": "markdown",
      "source": [
        "A continuación, podemos ver la **proyección** de los datos sobre el **eje y**."
      ],
      "metadata": {
        "id": "E_QtlYZtBeHW"
      }
    },
    {
      "cell_type": "code",
      "source": [
        "sns.boxplot(y='petal length (cm)', x='name',data=df_comple);"
      ],
      "metadata": {
        "colab": {
          "base_uri": "https://localhost:8080/",
          "height": 279
        },
        "id": "qH3FgkWK-VYZ",
        "outputId": "64c2215c-0671-4a7b-b6a4-ab403f8fcd29"
      },
      "execution_count": 214,
      "outputs": [
        {
          "output_type": "display_data",
          "data": {
            "text/plain": [
              "<Figure size 432x288 with 1 Axes>"
            ],
            "image/png": "[encoded data removed]"
          },
          "metadata": {
            "needs_background": "light"
          }
        }
      ]
    },
    {
      "cell_type": "markdown",
      "source": [
        "A continuación, podemos ver la **proyección** de los datos sobre el **eje x**."
      ],
      "metadata": {
        "id": "jzRITPvGBnGF"
      }
    },
    {
      "cell_type": "code",
      "source": [
        "sns.boxplot(x='petal width (cm)', y='name',data=df_comple);"
      ],
      "metadata": {
        "colab": {
          "base_uri": "https://localhost:8080/",
          "height": 279
        },
        "id": "j5TthFCcBFMi",
        "outputId": "cd4232ab-3962-4c11-8783-2d4a24d3c4ff"
      },
      "execution_count": 215,
      "outputs": [
        {
          "output_type": "display_data",
          "data": {
            "text/plain": [
              "<Figure size 432x288 with 1 Axes>"
            ],
            "image/png": "[encoded data removed]"
          },
          "metadata": {
            "needs_background": "light"
          }
        }
      ]
    },
    {
      "cell_type": "markdown",
      "source": [
        "Podemos comprobar cómo las características **petal width** y **petal length** separan satisfactoriamente las 3 clases: sus medias están separadas y sus variaciones son lo suficientemente pequeñas que no se sobrelapan demasiado. \n",
        "\n",
        "Debido a que las clases se separan lo suficientemente bien con las dos características **petal width** y **petal length**, usaremos solo estas dos para entrenar tres modelos diferentes: **KNN**, **Regresión Logistica** y **K-means**."
      ],
      "metadata": {
        "id": "rkv91X5OCbqD"
      }
    },
    {
      "cell_type": "markdown",
      "source": [
        "A continuación, separamos el dataframe en **datos de prueba** y **datos de entrenamiento**."
      ],
      "metadata": {
        "id": "Bs-iqBpZEd_l"
      }
    },
    {
      "cell_type": "code",
      "source": [
        "# Dataframe con columnas \"petal width\" y \"petal length\" de 150 observaciones\n",
        "X = df_observ.iloc[:, :]\n",
        "# Dataframe columna \"label\" de 150 observaciones\n",
        "y = df_target.iloc[:, 0]\n",
        "# Separación de los datos en datos de prueba y entrenamiento\n",
        "X_train, X_test, y_train, y_test = train_test_split(X, y, test_size=0.33, random_state=42)"
      ],
      "metadata": {
        "id": "vpmGp2soEWoF"
      },
      "execution_count": 216,
      "outputs": []
    },
    {
      "cell_type": "markdown",
      "source": [
        "En la siguiente celda de código, definimos algunas **funciones** que serán de utilidad para **evaluar** las siguientes características del modelo:\n",
        "*   **Exactitud**\n",
        "*   **Precisión**\n",
        "*   **Sensibilidad**\n",
        "*   **Especificidad**\n",
        "*   **Proporción de falsos positivos**\n",
        "\n",
        "Para esto, las funciones a continuación reciben como entrada el vector de etiquetas predichas por algún modelo y el vector de etiquetas fácticas para el conjunto de datos de prueba. De esta manera, podemos saber cuántos falsos positivos en la predicción tuvo el modelo, así como cuántos falsos negativos. Esto último, nos permitirá calcular las medidas de correctitud del modelo y evaluarlo de la manera más objetiva posible.\n",
        "\n",
        "\n",
        "\n"
      ],
      "metadata": {
        "id": "jp8jUWSqJSQp"
      }
    },
    {
      "cell_type": "code",
      "source": [
        "# Nice function to calculate and visualize the confusion matrix\n",
        "def plotCM(ytrue, ypred, labels, verbose=True):    \n",
        "    CM = confusion_matrix(ytrue, ypred)\n",
        "    \n",
        "    if verbose:\n",
        "        ax = sns.heatmap(CM, annot=True, cmap='Blues')\n",
        "\n",
        "        ax.set_title('Seaborn Confusion Matrix with labels\\n\\n');\n",
        "        ax.set_xlabel('\\nPredicted Values')\n",
        "        ax.set_ylabel('Actual Values ');\n",
        "\n",
        "        ax.xaxis.set_ticklabels(labels)\n",
        "        ax.yaxis.set_ticklabels(labels)\n",
        "\n",
        "        ## Display the visualization of the Confusion Matrix.\n",
        "        plt.show()\n",
        "    return CM\n",
        "\n",
        "def plotCentroids(kmeans_model):\n",
        "    # Prediciendo lso grupos\n",
        "    C = kmeans_model.cluster_centers_\n",
        "\n",
        "    plt.figure()\n",
        "    sns.scatterplot(x='petal length (cm)', y='petal width (cm)', hue='name', data=df_comple, alpha=0.6);\n",
        "    plt.scatter(C[:, 0], C[:, 1], marker='x', c='black', s=70)\n",
        "    plt.show()\n",
        "\n",
        "def calculate_accuracy(CM):\n",
        "    tn, fp, fn, tp = CM.ravel()\n",
        "    accuracy = (tn+tp)/(tn+fp+fn+tp)\n",
        "    return accuracy\n",
        "\n",
        "def calculate_precission(CM):\n",
        "    tn, fp, fn, tp = CM.ravel()\n",
        "    precission = tp/(tp+fp)\n",
        "    return precission\n",
        "\n",
        "def calculate_sensibility(CM):\n",
        "    tn, fp, fn, tp = CM.ravel()\n",
        "    sensibility = tp/(tp+fn)\n",
        "    return sensibility\n",
        "\n",
        "def calculate_specificity(CM):\n",
        "    tn, fp, fn, tp = CM.ravel()\n",
        "    specificity = tn/(tn+fp)\n",
        "    return specificity\n",
        "\n",
        "def calculate_FPP(CM):\n",
        "    tn, fp, fn, tp = CM.ravel()\n",
        "    FPP = fp/(tn+fp)\n",
        "    return FPP"
      ],
      "metadata": {
        "id": "PYfTFPUXJByw"
      },
      "execution_count": 217,
      "outputs": []
    },
    {
      "cell_type": "markdown",
      "source": [
        "A continuación, definimos algunas funciones que permiten entrenar los siguientes modelos, recibiendo como entrada algunos de los hiper-parámetros para los modelos y retornan los modelos entrenados con esos hiper-parámetros de entrada:\n",
        "1.   **KNN** ( ***hyper-parámetros:*** número de vecinos **+** métrica de cercania )\n",
        "2.   **Regresión Logística** (***hyper-parámetros:*** learning rate )\n",
        "3.   **K-means** ( ***hyper-parámetros:*** número de clusters **+** métrica dissimilaridad )\n",
        "\n",
        "\n",
        "\n",
        "\n"
      ],
      "metadata": {
        "id": "0KVTP7LbMTAp"
      }
    },
    {
      "cell_type": "code",
      "source": [
        "def generate_knn_model(k, dist='euclidean'):\n",
        "    print('generating knn model with hyper-parameters: ', k, ' y ', dist)\n",
        "    knn_model = KNeighborsClassifier(n_neighbors=k, metric=dist)\n",
        "    knn_model.fit(X_train, y_train)\n",
        "    return knn_model\n",
        "\n",
        "def generate_logic_regression_model(learn_rate):\n",
        "    print('generating logistic regression model with hyper-parameters: ', learn_rate)\n",
        "    log_reg_model = LogisticRegression(max_iter=5000)\n",
        "    log_reg_model.fit(X_train, y_train)\n",
        "    return log_reg_model\n",
        "\n",
        "def generate_kmeans_model(n):\n",
        "    print('generating k means model with hyper-parameters: ', n)\n",
        "    kmeans_model = KMeans(n_clusters=n, random_state=10)\n",
        "    kmeans_model.fit(X_train)\n",
        "    return kmeans_model"
      ],
      "metadata": {
        "id": "ep1VS5n-M8Hi"
      },
      "execution_count": 218,
      "outputs": []
    },
    {
      "cell_type": "markdown",
      "source": [
        "A continuación, **generamos** alguno de los **tres modelos** y los entrenamos con el conjunto de datos de entrenamiento."
      ],
      "metadata": {
        "id": "Sp-teWS1wyFs"
      }
    },
    {
      "cell_type": "code",
      "source": [
        "modelo = generate_knn_model(3)\n",
        "predicciones = modelo.predict(X_test)"
      ],
      "metadata": {
        "colab": {
          "base_uri": "https://localhost:8080/"
        },
        "id": "taOpV7l3USy9",
        "outputId": "fcc72869-4a2f-4e3a-e6f6-c2d3edc93698"
      },
      "execution_count": 219,
      "outputs": [
        {
          "output_type": "stream",
          "name": "stdout",
          "text": [
            "generating knn model with hyper-parameters:  3  y  euclidean\n"
          ]
        }
      ]
    },
    {
      "cell_type": "markdown",
      "source": [
        "A continuación, visualizamos el resultado: la matriz de confusión para los tres métodos y los centroides para el modelo K-Means, etc.\n",
        "\n",
        "Debemos tener en cuenta que el modelo de **k-means** es un modelo de **aprendizaje no supervisado**, como tal, la matriz de confusión podría fallar al no asignar las etiquetas apropiadamente. Para el caso del modelo de **k-means** lo que en realidad nos interesa es visulizar los **clusters**, para esto se definen algunos métodos especiales de visualización que funcionan únicamente para k-means y no funcionarán para los otros métodos: ***plotCentroids($\\cdot$)***, etc. (puede comentar estas líneas de código cuando no esté trabajando con el modelo de k-means)"
      ],
      "metadata": {
        "id": "ge7Xw-48w-Kd"
      }
    },
    {
      "cell_type": "code",
      "source": [
        "#plotCentroids(modelo) # ONLY VALID FOR K-MEANS MODEL (ERROR OTHERWISE)\n",
        "plotCM(y_test, predicciones, sorted(iris.target_names))"
      ],
      "metadata": {
        "colab": {
          "base_uri": "https://localhost:8080/",
          "height": 389
        },
        "id": "TXiJF0vFUqsa",
        "outputId": "09d7d1c7-3e4a-42f5-dd0f-202c32859a7c"
      },
      "execution_count": 220,
      "outputs": [
        {
          "output_type": "display_data",
          "data": {
            "text/plain": [
              "<Figure size 432x288 with 2 Axes>"
            ],
            "image/png": "[encoded data removed]"
          },
          "metadata": {
            "needs_background": "light"
          }
        },
        {
          "output_type": "execute_result",
          "data": {
            "text/plain": [
              "array([[19,  0,  0],\n",
              "       [ 0, 15,  0],\n",
              "       [ 0,  1, 15]])"
            ]
          },
          "metadata": {},
          "execution_count": 220
        }
      ]
    },
    {
      "cell_type": "markdown",
      "source": [
        "Ya que sabemos cómo generar los modelos y visualizar el resultado de su clasificación, estamos listos para **estimar** los mejores **hiper-parámetros** para cada uno de los modelos haciendo **Cross Validation** y **Bootstrap** más adelante."
      ],
      "metadata": {
        "id": "00e0a8KJ0Rvg"
      }
    },
    {
      "cell_type": "markdown",
      "source": [
        "**Antes** de realizar el **Cross Validation** y el **Bootstrap** debemos convertir el **clasificador multi-clase** a **clasificador binario** para poder calcular la principales medidas de rendimiento para los clasificadores, especificadas arriba. Para esto definimos una función que implementa un **clasificador binario** dado un modelo **multi-clase**. Para esto, clasificamos el conjunto de datos de prueba y comparamos las etiquetas predichas con las etiquetas del conjunto de prueba."
      ],
      "metadata": {
        "id": "DcQ_Wjc64MeD"
      }
    },
    {
      "cell_type": "code",
      "source": [
        "def predict_class(model, label):\n",
        "    y_pred = model.predict(X_test)\n",
        "    y_pred = [1 if x == label else 0 for x in y_pred]\n",
        "    y_test_local = [1 if x == label else 0 for x in y_test]\n",
        "    return y_pred\n",
        "\n",
        "def plotCM_class(model, label, verbose=True):\n",
        "    CM = plotCM([1 if x == label else 0 for x in y_test], predict_class(model, label), [0, 1], verbose)\n",
        "    return CM"
      ],
      "metadata": {
        "id": "pujKiu1K1Wwv"
      },
      "execution_count": 221,
      "outputs": []
    },
    {
      "cell_type": "markdown",
      "source": [
        "A continuación, comprobamos cómo funcionaría la función de **predicción de clase** para el ***modelo*** que hemos definido arriba. También vamos a utilizar las funciones que calculan las medidas de rendimiento del modelo para la matríz de decisión resultante."
      ],
      "metadata": {
        "id": "aNwaJ8eo6080"
      }
    },
    {
      "cell_type": "code",
      "source": [
        "matriz_confusion = plotCM_class(modelo, 2)\n",
        "exactitud = calculate_accuracy(matriz_confusion)\n",
        "precision = calculate_precission(matriz_confusion)\n",
        "sensibilidad = calculate_sensibility(matriz_confusion)\n",
        "especificidad = calculate_specificity(matriz_confusion)\n",
        "PFP = calculate_FPP(matriz_confusion)\n",
        "\n",
        "print('exact: ', exactitud, ' preci: ', precision, ' sensi: ', sensibilidad, ' espec: ', especificidad, ' PFP: ', PFP)"
      ],
      "metadata": {
        "colab": {
          "base_uri": "https://localhost:8080/",
          "height": 354
        },
        "id": "ZnzsadoU6F6E",
        "outputId": "a6b9aec9-fa45-47b7-fce6-dfa5133aebe9"
      },
      "execution_count": 222,
      "outputs": [
        {
          "output_type": "display_data",
          "data": {
            "text/plain": [
              "<Figure size 432x288 with 2 Axes>"
            ],
            "image/png": "[encoded data removed]"
          },
          "metadata": {
            "needs_background": "light"
          }
        },
        {
          "output_type": "stream",
          "name": "stdout",
          "text": [
            "exact:  0.98  preci:  1.0  sensi:  0.9375  espec:  1.0  PFP:  0.0\n"
          ]
        }
      ]
    },
    {
      "cell_type": "markdown",
      "source": [
        "Note que, la matriz de decision está dada de la siguiente manera:"
      ],
      "metadata": {
        "id": "HjfQD6SYkHMO"
      }
    },
    {
      "cell_type": "markdown",
      "source": [
        "![matriz.PNG](data:image/png;base64,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)"
      ],
      "metadata": {
        "id": "POP8m10tj8ZK"
      }
    },
    {
      "cell_type": "markdown",
      "source": [
        "Ahora si: a continuación, definimos las funciones para realizar el **Cross Validation** y el **Bootstrap**; una función diferente para cada modelo, ya que cada uno posee sus propios hiper-parámetros."
      ],
      "metadata": {
        "id": "fWbE09X64JBh"
      }
    },
    {
      "cell_type": "code",
      "source": [
        "def cross_validate_knn(K, label):\n",
        "    for k in range(1, K):\n",
        "        model = generate_knn_model(k)\n",
        "        matriz_confusion = plotCM_class(model, label, False)\n",
        "        exactitud = calculate_accuracy(matriz_confusion)\n",
        "        precision = calculate_precission(matriz_confusion)\n",
        "        sensibilidad = calculate_sensibility(matriz_confusion)\n",
        "        especificidad = calculate_specificity(matriz_confusion)\n",
        "        PFP = calculate_FPP(matriz_confusion)\n",
        "        print('exact: ', exactitud, ' preci: ', precision, ' sensi: ', sensibilidad, ' espec: ', especificidad, ' PFP: ', PFP)\n",
        "\n",
        "def cross_validate_logic_regression(vect, label):\n",
        "    for alpha in vect:\n",
        "        model = generate_logic_regression_model(alpha)\n",
        "        matriz_confusion = plotCM_class(model, label, False)\n",
        "        exactitud = calculate_accuracy(matriz_confusion)\n",
        "        precision = calculate_precission(matriz_confusion)\n",
        "        sensibilidad = calculate_sensibility(matriz_confusion)\n",
        "        especificidad = calculate_specificity(matriz_confusion)\n",
        "        PFP = calculate_FPP(matriz_confusion)\n",
        "        print('exact: ', exactitud, ' preci: ', precision, ' sensi: ', sensibilidad, ' espec: ', especificidad, ' PFP: ', PFP)\n",
        "\n",
        "def cross_validate_kmeans(N, label):\n",
        "    for n in range(1, N):\n",
        "        model = generate_kmeans_model(n)\n",
        "        matriz_confusion = plotCM_class(model, label, False)\n",
        "        exactitud = calculate_accuracy(matriz_confusion)\n",
        "        precision = calculate_precission(matriz_confusion)\n",
        "        sensibilidad = calculate_sensibility(matriz_confusion)\n",
        "        especificidad = calculate_specificity(matriz_confusion)\n",
        "        PFP = calculate_FPP(matriz_confusion)\n",
        "        print('exact: ', exactitud, ' preci: ', precision, ' sensi: ', sensibilidad, ' espec: ', especificidad, ' PFP: ', PFP)"
      ],
      "metadata": {
        "id": "nIEqMrcB-93b"
      },
      "execution_count": 223,
      "outputs": []
    },
    {
      "cell_type": "code",
      "source": [
        "cross_validate_knn(10, 2)"
      ],
      "metadata": {
        "colab": {
          "base_uri": "https://localhost:8080/"
        },
        "id": "t-iNlG6jFgBq",
        "outputId": "57b127bb-415b-477e-e168-a1fdc76a632d"
      },
      "execution_count": 224,
      "outputs": [
        {
          "output_type": "stream",
          "name": "stdout",
          "text": [
            "generating knn model with hyper-parameters:  1  y  euclidean\n",
            "exact:  0.98  preci:  1.0  sensi:  0.9375  espec:  1.0  PFP:  0.0\n",
            "generating knn model with hyper-parameters:  2  y  euclidean\n",
            "exact:  0.98  preci:  1.0  sensi:  0.9375  espec:  1.0  PFP:  0.0\n",
            "generating knn model with hyper-parameters:  3  y  euclidean\n",
            "exact:  0.98  preci:  1.0  sensi:  0.9375  espec:  1.0  PFP:  0.0\n",
            "generating knn model with hyper-parameters:  4  y  euclidean\n",
            "exact:  0.98  preci:  1.0  sensi:  0.9375  espec:  1.0  PFP:  0.0\n",
            "generating knn model with hyper-parameters:  5  y  euclidean\n",
            "exact:  0.98  preci:  1.0  sensi:  0.9375  espec:  1.0  PFP:  0.0\n",
            "generating knn model with hyper-parameters:  6  y  euclidean\n",
            "exact:  0.98  preci:  1.0  sensi:  0.9375  espec:  1.0  PFP:  0.0\n",
            "generating knn model with hyper-parameters:  7  y  euclidean\n",
            "exact:  0.98  preci:  1.0  sensi:  0.9375  espec:  1.0  PFP:  0.0\n",
            "generating knn model with hyper-parameters:  8  y  euclidean\n",
            "exact:  0.98  preci:  1.0  sensi:  0.9375  espec:  1.0  PFP:  0.0\n",
            "generating knn model with hyper-parameters:  9  y  euclidean\n",
            "exact:  0.98  preci:  1.0  sensi:  0.9375  espec:  1.0  PFP:  0.0\n"
          ]
        }
      ]
    },
    {
      "cell_type": "code",
      "source": [
        "cross_validate_logic_regression([0.05, 0.1, 0.2, 0.5, 0.6, 0.7], 2)"
      ],
      "metadata": {
        "colab": {
          "base_uri": "https://localhost:8080/"
        },
        "id": "-c5g4BwOHJ7I",
        "outputId": "36bfe3ad-a670-49e1-de9d-c69e7aa7c357"
      },
      "execution_count": 225,
      "outputs": [
        {
          "output_type": "stream",
          "name": "stdout",
          "text": [
            "generating logistic regression model with hyper-parameters:  0.05\n",
            "exact:  1.0  preci:  1.0  sensi:  1.0  espec:  1.0  PFP:  0.0\n",
            "generating logistic regression model with hyper-parameters:  0.1\n",
            "exact:  1.0  preci:  1.0  sensi:  1.0  espec:  1.0  PFP:  0.0\n",
            "generating logistic regression model with hyper-parameters:  0.2\n",
            "exact:  1.0  preci:  1.0  sensi:  1.0  espec:  1.0  PFP:  0.0\n",
            "generating logistic regression model with hyper-parameters:  0.5\n",
            "exact:  1.0  preci:  1.0  sensi:  1.0  espec:  1.0  PFP:  0.0\n",
            "generating logistic regression model with hyper-parameters:  0.6\n",
            "exact:  1.0  preci:  1.0  sensi:  1.0  espec:  1.0  PFP:  0.0\n",
            "generating logistic regression model with hyper-parameters:  0.7\n",
            "exact:  1.0  preci:  1.0  sensi:  1.0  espec:  1.0  PFP:  0.0\n"
          ]
        }
      ]
    },
    {
      "cell_type": "code",
      "source": [
        "cross_validate_kmeans(5, 2)"
      ],
      "metadata": {
        "colab": {
          "base_uri": "https://localhost:8080/"
        },
        "id": "MFNDVTtaHnzm",
        "outputId": "75078eae-f742-4c5d-9079-e8fb5eb31011"
      },
      "execution_count": 226,
      "outputs": [
        {
          "output_type": "stream",
          "name": "stdout",
          "text": [
            "generating k means model with hyper-parameters:  1\n",
            "exact:  0.68  preci:  nan  sensi:  0.0  espec:  1.0  PFP:  0.0\n",
            "generating k means model with hyper-parameters:  2\n",
            "exact:  0.68  preci:  nan  sensi:  0.0  espec:  1.0  PFP:  0.0\n",
            "generating k means model with hyper-parameters:  3\n",
            "exact:  0.48  preci:  0.2222222222222222  sensi:  0.25  espec:  0.5882352941176471  PFP:  0.4117647058823529\n",
            "generating k means model with hyper-parameters:  4\n",
            "exact:  0.84  preci:  1.0  sensi:  0.5  espec:  1.0  PFP:  0.0\n"
          ]
        },
        {
          "output_type": "stream",
          "name": "stderr",
          "text": [
            "/usr/local/lib/python3.7/dist-packages/ipykernel_launcher.py:35: RuntimeWarning: invalid value encountered in long_scalars\n",
            "/usr/local/lib/python3.7/dist-packages/ipykernel_launcher.py:35: RuntimeWarning: invalid value encountered in long_scalars\n"
          ]
        }
      ]
    },
    {
      "cell_type": "markdown",
      "source": [
        "Ahora vamos a implementar **Bootstrap** sobre el conjunto de datos, esto con objetivo de comprobar la estabilidad y precisión de los mejores modelos encontrados en el **Cross validation**: para eso definimos los modelos con el valor óptimo de sus parámetros, de acuerdo a las mediciones de **exactitud**, **precisión**, **sensibilidad**, **especificidad** y **PFP**."
      ],
      "metadata": {
        "id": "sB9mCGu4lKFK"
      }
    },
    {
      "cell_type": "code",
      "source": [
        "#regression_model:\n",
        "modelo_boots_regre= LogisticRegression()\n",
        "#kmeans_model:\n",
        "modelo_boots_kmeans = KNeighborsClassifier(n_neighbors=8)\n",
        "#knn_model:\n",
        "modelo_boots_knn = KNeighborsClassifier(n_neighbors=3)"
      ],
      "metadata": {
        "id": "LfNY71AVk4pM"
      },
      "execution_count": 227,
      "outputs": []
    },
    {
      "cell_type": "markdown",
      "source": [
        "A continuación, definimos la función que realizará el **Bootstrap** para un **modelo** y número de **iteraciones** **dados**."
      ],
      "metadata": {
        "id": "Q7bwj9LtC69m"
      }
    },
    {
      "cell_type": "code",
      "source": [
        "def model_bootstrap(modelo, label, n_iterations):\n",
        "    bootstrapped_stats = pd.DataFrame()\n",
        "    for i in range(n_iterations):\n",
        "        train = resample(df_comple, replace=True, n_samples=(df_comple.shape[0]))\n",
        "        test = df_comple[~df_comple.index.isin(train.index)]\n",
        "        X_train_local = train.loc[:, [\"petal length (cm)\",\"petal width (cm)\",\"sepal length (cm)\", \"sepal width (cm)\"]]\n",
        "        y_train_local = train.loc[:, \"label\"]\n",
        "\n",
        "        X_test_local = test.loc[:, [\"petal length (cm)\",\"petal width (cm)\",\"sepal length (cm)\", \"sepal width (cm)\"]]\n",
        "        y_test_local = test.loc[:, \"label\"]\n",
        "\n",
        "        modelo.fit(X_train_local, y_train_local)\n",
        "\n",
        "        matriz_confusion = plotCM_class(modelo, label, False)\n",
        "        exactitud = calculate_accuracy(matriz_confusion)\n",
        "        precision = calculate_precission(matriz_confusion)\n",
        "        sensibilidad = calculate_sensibility(matriz_confusion)\n",
        "        especificidad = calculate_specificity(matriz_confusion)\n",
        "        PFP = calculate_FPP(matriz_confusion)\n",
        "\n",
        "        bootstrapped_stats_i = pd.DataFrame(data={\n",
        "            'exact': exactitud,\n",
        "            'prec': precision,\n",
        "            'sens': sensibilidad,\n",
        "            'espec': especificidad,\n",
        "            'FPP': PFP\n",
        "        }, index = [i])\n",
        "\n",
        "        bootstrapped_stats = pd.concat(objs=[bootstrapped_stats, bootstrapped_stats_i])\n",
        "    return bootstrapped_stats"
      ],
      "metadata": {
        "id": "HSVU_ZaIlxtt"
      },
      "execution_count": 228,
      "outputs": []
    },
    {
      "cell_type": "code",
      "source": [
        "n = 50\n",
        "etiqueta = 2\n",
        "\n",
        "bootstrapped_res = model_bootstrap(modelo_boots_kmeans, etiqueta, n)"
      ],
      "metadata": {
        "colab": {
          "base_uri": "https://localhost:8080/"
        },
        "id": "_Mc97y4-Ch-w",
        "outputId": "c5100bc2-4b32-43e2-f2e8-bd064c1ab16c"
      },
      "execution_count": 229,
      "outputs": [
        {
          "output_type": "stream",
          "name": "stderr",
          "text": [
            "/usr/local/lib/python3.7/dist-packages/sklearn/base.py:493: FutureWarning: The feature names should match those that were passed during fit. Starting version 1.2, an error will be raised.\n",
            "Feature names must be in the same order as they were in fit.\n",
            "\n",
            "  warnings.warn(message, FutureWarning)\n",
            "/usr/local/lib/python3.7/dist-packages/sklearn/base.py:493: FutureWarning: The feature names should match those that were passed during fit. Starting version 1.2, an error will be raised.\n",
            "Feature names must be in the same order as they were in fit.\n",
            "\n",
            "  warnings.warn(message, FutureWarning)\n",
            "/usr/local/lib/python3.7/dist-packages/sklearn/base.py:493: FutureWarning: The feature names should match those that were passed during fit. Starting version 1.2, an error will be raised.\n",
            "Feature names must be in the same order as they were in fit.\n",
            "\n",
            "  warnings.warn(message, FutureWarning)\n",
            "/usr/local/lib/python3.7/dist-packages/sklearn/base.py:493: FutureWarning: The feature names should match those that were passed during fit. Starting version 1.2, an error will be raised.\n",
            "Feature names must be in the same order as they were in fit.\n",
            "\n",
            "  warnings.warn(message, FutureWarning)\n",
            "/usr/local/lib/python3.7/dist-packages/sklearn/base.py:493: FutureWarning: The feature names should match those that were passed during fit. Starting version 1.2, an error will be raised.\n",
            "Feature names must be in the same order as they were in fit.\n",
            "\n",
            "  warnings.warn(message, FutureWarning)\n",
            "/usr/local/lib/python3.7/dist-packages/sklearn/base.py:493: FutureWarning: The feature names should match those that were passed during fit. Starting version 1.2, an error will be raised.\n",
            "Feature names must be in the same order as they were in fit.\n",
            "\n",
            "  warnings.warn(message, FutureWarning)\n",
            "/usr/local/lib/python3.7/dist-packages/sklearn/base.py:493: FutureWarning: The feature names should match those that were passed during fit. Starting version 1.2, an error will be raised.\n",
            "Feature names must be in the same order as they were in fit.\n",
            "\n",
            "  warnings.warn(message, FutureWarning)\n",
            "/usr/local/lib/python3.7/dist-packages/sklearn/base.py:493: FutureWarning: The feature names should match those that were passed during fit. Starting version 1.2, an error will be raised.\n",
            "Feature names must be in the same order as they were in fit.\n",
            "\n",
            "  warnings.warn(message, FutureWarning)\n",
            "/usr/local/lib/python3.7/dist-packages/sklearn/base.py:493: FutureWarning: The feature names should match those that were passed during fit. Starting version 1.2, an error will be raised.\n",
            "Feature names must be in the same order as they were in fit.\n",
            "\n",
            "  warnings.warn(message, FutureWarning)\n",
            "/usr/local/lib/python3.7/dist-packages/sklearn/base.py:493: FutureWarning: The feature names should match those that were passed during fit. Starting version 1.2, an error will be raised.\n",
            "Feature names must be in the same order as they were in fit.\n",
            "\n",
            "  warnings.warn(message, FutureWarning)\n",
            "/usr/local/lib/python3.7/dist-packages/sklearn/base.py:493: FutureWarning: The feature names should match those that were passed during fit. Starting version 1.2, an error will be raised.\n",
            "Feature names must be in the same order as they were in fit.\n",
            "\n",
            "  warnings.warn(message, FutureWarning)\n",
            "/usr/local/lib/python3.7/dist-packages/sklearn/base.py:493: FutureWarning: The feature names should match those that were passed during fit. Starting version 1.2, an error will be raised.\n",
            "Feature names must be in the same order as they were in fit.\n",
            "\n",
            "  warnings.warn(message, FutureWarning)\n",
            "/usr/local/lib/python3.7/dist-packages/sklearn/base.py:493: FutureWarning: The feature names should match those that were passed during fit. Starting version 1.2, an error will be raised.\n",
            "Feature names must be in the same order as they were in fit.\n",
            "\n",
            "  warnings.warn(message, FutureWarning)\n",
            "/usr/local/lib/python3.7/dist-packages/sklearn/base.py:493: FutureWarning: The feature names should match those that were passed during fit. Starting version 1.2, an error will be raised.\n",
            "Feature names must be in the same order as they were in fit.\n",
            "\n",
            "  warnings.warn(message, FutureWarning)\n",
            "/usr/local/lib/python3.7/dist-packages/sklearn/base.py:493: FutureWarning: The feature names should match those that were passed during fit. Starting version 1.2, an error will be raised.\n",
            "Feature names must be in the same order as they were in fit.\n",
            "\n",
            "  warnings.warn(message, FutureWarning)\n",
            "/usr/local/lib/python3.7/dist-packages/sklearn/base.py:493: FutureWarning: The feature names should match those that were passed during fit. Starting version 1.2, an error will be raised.\n",
            "Feature names must be in the same order as they were in fit.\n",
            "\n",
            "  warnings.warn(message, FutureWarning)\n",
            "/usr/local/lib/python3.7/dist-packages/sklearn/base.py:493: FutureWarning: The feature names should match those that were passed during fit. Starting version 1.2, an error will be raised.\n",
            "Feature names must be in the same order as they were in fit.\n",
            "\n",
            "  warnings.warn(message, FutureWarning)\n",
            "/usr/local/lib/python3.7/dist-packages/sklearn/base.py:493: FutureWarning: The feature names should match those that were passed during fit. Starting version 1.2, an error will be raised.\n",
            "Feature names must be in the same order as they were in fit.\n",
            "\n",
            "  warnings.warn(message, FutureWarning)\n",
            "/usr/local/lib/python3.7/dist-packages/sklearn/base.py:493: FutureWarning: The feature names should match those that were passed during fit. Starting version 1.2, an error will be raised.\n",
            "Feature names must be in the same order as they were in fit.\n",
            "\n",
            "  warnings.warn(message, FutureWarning)\n",
            "/usr/local/lib/python3.7/dist-packages/sklearn/base.py:493: FutureWarning: The feature names should match those that were passed during fit. Starting version 1.2, an error will be raised.\n",
            "Feature names must be in the same order as they were in fit.\n",
            "\n",
            "  warnings.warn(message, FutureWarning)\n",
            "/usr/local/lib/python3.7/dist-packages/sklearn/base.py:493: FutureWarning: The feature names should match those that were passed during fit. Starting version 1.2, an error will be raised.\n",
            "Feature names must be in the same order as they were in fit.\n",
            "\n",
            "  warnings.warn(message, FutureWarning)\n",
            "/usr/local/lib/python3.7/dist-packages/sklearn/base.py:493: FutureWarning: The feature names should match those that were passed during fit. Starting version 1.2, an error will be raised.\n",
            "Feature names must be in the same order as they were in fit.\n",
            "\n",
            "  warnings.warn(message, FutureWarning)\n",
            "/usr/local/lib/python3.7/dist-packages/sklearn/base.py:493: FutureWarning: The feature names should match those that were passed during fit. Starting version 1.2, an error will be raised.\n",
            "Feature names must be in the same order as they were in fit.\n",
            "\n",
            "  warnings.warn(message, FutureWarning)\n",
            "/usr/local/lib/python3.7/dist-packages/sklearn/base.py:493: FutureWarning: The feature names should match those that were passed during fit. Starting version 1.2, an error will be raised.\n",
            "Feature names must be in the same order as they were in fit.\n",
            "\n",
            "  warnings.warn(message, FutureWarning)\n",
            "/usr/local/lib/python3.7/dist-packages/sklearn/base.py:493: FutureWarning: The feature names should match those that were passed during fit. Starting version 1.2, an error will be raised.\n",
            "Feature names must be in the same order as they were in fit.\n",
            "\n",
            "  warnings.warn(message, FutureWarning)\n",
            "/usr/local/lib/python3.7/dist-packages/sklearn/base.py:493: FutureWarning: The feature names should match those that were passed during fit. Starting version 1.2, an error will be raised.\n",
            "Feature names must be in the same order as they were in fit.\n",
            "\n",
            "  warnings.warn(message, FutureWarning)\n",
            "/usr/local/lib/python3.7/dist-packages/sklearn/base.py:493: FutureWarning: The feature names should match those that were passed during fit. Starting version 1.2, an error will be raised.\n",
            "Feature names must be in the same order as they were in fit.\n",
            "\n",
            "  warnings.warn(message, FutureWarning)\n",
            "/usr/local/lib/python3.7/dist-packages/sklearn/base.py:493: FutureWarning: The feature names should match those that were passed during fit. Starting version 1.2, an error will be raised.\n",
            "Feature names must be in the same order as they were in fit.\n",
            "\n",
            "  warnings.warn(message, FutureWarning)\n",
            "/usr/local/lib/python3.7/dist-packages/sklearn/base.py:493: FutureWarning: The feature names should match those that were passed during fit. Starting version 1.2, an error will be raised.\n",
            "Feature names must be in the same order as they were in fit.\n",
            "\n",
            "  warnings.warn(message, FutureWarning)\n",
            "/usr/local/lib/python3.7/dist-packages/sklearn/base.py:493: FutureWarning: The feature names should match those that were passed during fit. Starting version 1.2, an error will be raised.\n",
            "Feature names must be in the same order as they were in fit.\n",
            "\n",
            "  warnings.warn(message, FutureWarning)\n",
            "/usr/local/lib/python3.7/dist-packages/sklearn/base.py:493: FutureWarning: The feature names should match those that were passed during fit. Starting version 1.2, an error will be raised.\n",
            "Feature names must be in the same order as they were in fit.\n",
            "\n",
            "  warnings.warn(message, FutureWarning)\n",
            "/usr/local/lib/python3.7/dist-packages/sklearn/base.py:493: FutureWarning: The feature names should match those that were passed during fit. Starting version 1.2, an error will be raised.\n",
            "Feature names must be in the same order as they were in fit.\n",
            "\n",
            "  warnings.warn(message, FutureWarning)\n",
            "/usr/local/lib/python3.7/dist-packages/sklearn/base.py:493: FutureWarning: The feature names should match those that were passed during fit. Starting version 1.2, an error will be raised.\n",
            "Feature names must be in the same order as they were in fit.\n",
            "\n",
            "  warnings.warn(message, FutureWarning)\n",
            "/usr/local/lib/python3.7/dist-packages/sklearn/base.py:493: FutureWarning: The feature names should match those that were passed during fit. Starting version 1.2, an error will be raised.\n",
            "Feature names must be in the same order as they were in fit.\n",
            "\n",
            "  warnings.warn(message, FutureWarning)\n",
            "/usr/local/lib/python3.7/dist-packages/sklearn/base.py:493: FutureWarning: The feature names should match those that were passed during fit. Starting version 1.2, an error will be raised.\n",
            "Feature names must be in the same order as they were in fit.\n",
            "\n",
            "  warnings.warn(message, FutureWarning)\n",
            "/usr/local/lib/python3.7/dist-packages/sklearn/base.py:493: FutureWarning: The feature names should match those that were passed during fit. Starting version 1.2, an error will be raised.\n",
            "Feature names must be in the same order as they were in fit.\n",
            "\n",
            "  warnings.warn(message, FutureWarning)\n",
            "/usr/local/lib/python3.7/dist-packages/sklearn/base.py:493: FutureWarning: The feature names should match those that were passed during fit. Starting version 1.2, an error will be raised.\n",
            "Feature names must be in the same order as they were in fit.\n",
            "\n",
            "  warnings.warn(message, FutureWarning)\n",
            "/usr/local/lib/python3.7/dist-packages/sklearn/base.py:493: FutureWarning: The feature names should match those that were passed during fit. Starting version 1.2, an error will be raised.\n",
            "Feature names must be in the same order as they were in fit.\n",
            "\n",
            "  warnings.warn(message, FutureWarning)\n",
            "/usr/local/lib/python3.7/dist-packages/sklearn/base.py:493: FutureWarning: The feature names should match those that were passed during fit. Starting version 1.2, an error will be raised.\n",
            "Feature names must be in the same order as they were in fit.\n",
            "\n",
            "  warnings.warn(message, FutureWarning)\n",
            "/usr/local/lib/python3.7/dist-packages/sklearn/base.py:493: FutureWarning: The feature names should match those that were passed during fit. Starting version 1.2, an error will be raised.\n",
            "Feature names must be in the same order as they were in fit.\n",
            "\n",
            "  warnings.warn(message, FutureWarning)\n",
            "/usr/local/lib/python3.7/dist-packages/sklearn/base.py:493: FutureWarning: The feature names should match those that were passed during fit. Starting version 1.2, an error will be raised.\n",
            "Feature names must be in the same order as they were in fit.\n",
            "\n",
            "  warnings.warn(message, FutureWarning)\n",
            "/usr/local/lib/python3.7/dist-packages/sklearn/base.py:493: FutureWarning: The feature names should match those that were passed during fit. Starting version 1.2, an error will be raised.\n",
            "Feature names must be in the same order as they were in fit.\n",
            "\n",
            "  warnings.warn(message, FutureWarning)\n",
            "/usr/local/lib/python3.7/dist-packages/sklearn/base.py:493: FutureWarning: The feature names should match those that were passed during fit. Starting version 1.2, an error will be raised.\n",
            "Feature names must be in the same order as they were in fit.\n",
            "\n",
            "  warnings.warn(message, FutureWarning)\n",
            "/usr/local/lib/python3.7/dist-packages/sklearn/base.py:493: FutureWarning: The feature names should match those that were passed during fit. Starting version 1.2, an error will be raised.\n",
            "Feature names must be in the same order as they were in fit.\n",
            "\n",
            "  warnings.warn(message, FutureWarning)\n",
            "/usr/local/lib/python3.7/dist-packages/sklearn/base.py:493: FutureWarning: The feature names should match those that were passed during fit. Starting version 1.2, an error will be raised.\n",
            "Feature names must be in the same order as they were in fit.\n",
            "\n",
            "  warnings.warn(message, FutureWarning)\n",
            "/usr/local/lib/python3.7/dist-packages/sklearn/base.py:493: FutureWarning: The feature names should match those that were passed during fit. Starting version 1.2, an error will be raised.\n",
            "Feature names must be in the same order as they were in fit.\n",
            "\n",
            "  warnings.warn(message, FutureWarning)\n",
            "/usr/local/lib/python3.7/dist-packages/sklearn/base.py:493: FutureWarning: The feature names should match those that were passed during fit. Starting version 1.2, an error will be raised.\n",
            "Feature names must be in the same order as they were in fit.\n",
            "\n",
            "  warnings.warn(message, FutureWarning)\n",
            "/usr/local/lib/python3.7/dist-packages/sklearn/base.py:493: FutureWarning: The feature names should match those that were passed during fit. Starting version 1.2, an error will be raised.\n",
            "Feature names must be in the same order as they were in fit.\n",
            "\n",
            "  warnings.warn(message, FutureWarning)\n",
            "/usr/local/lib/python3.7/dist-packages/sklearn/base.py:493: FutureWarning: The feature names should match those that were passed during fit. Starting version 1.2, an error will be raised.\n",
            "Feature names must be in the same order as they were in fit.\n",
            "\n",
            "  warnings.warn(message, FutureWarning)\n",
            "/usr/local/lib/python3.7/dist-packages/sklearn/base.py:493: FutureWarning: The feature names should match those that were passed during fit. Starting version 1.2, an error will be raised.\n",
            "Feature names must be in the same order as they were in fit.\n",
            "\n",
            "  warnings.warn(message, FutureWarning)\n"
          ]
        }
      ]
    },
    {
      "cell_type": "code",
      "source": [
        "fig, axes = plt.subplots(2, 3, figsize=(7, 7))\n",
        "sns.histplot(bootstrapped_res[\"exact\"], color=\"royalblue\", ax=axes[0, 0], kde=True)\n",
        "sns.histplot(bootstrapped_res[\"prec\"], color=\"olive\", ax=axes[0, 1], kde=True)\n",
        "sns.histplot(bootstrapped_res[\"sens\"], color=\"gold\", ax=axes[1, 0], kde=True)\n",
        "sns.histplot(bootstrapped_res[\"espec\"], color=\"teal\", ax=axes[1, 1], kde=True)\n",
        "sns.histplot(bootstrapped_res[\"FPP\"], color=\"red\", ax=axes[0, 2], kde=True)"
      ],
      "metadata": {
        "colab": {
          "base_uri": "https://localhost:8080/",
          "height": 459
        },
        "id": "WZQpUI8aLGes",
        "outputId": "cba7642e-32a6-49f8-8b5a-a32b8278c250"
      },
      "execution_count": 230,
      "outputs": [
        {
          "output_type": "execute_result",
          "data": {
            "text/plain": [
              "<matplotlib.axes._subplots.AxesSubplot at 0x7f6d50ccd990>"
            ]
          },
          "metadata": {},
          "execution_count": 230
        },
        {
          "output_type": "display_data",
          "data": {
            "text/plain": [
              "<Figure size 504x504 with 6 Axes>"
            ],
            "image/png": "[encoded data removed]"
          },
          "metadata": {
            "needs_background": "light"
          }
        }
      ]
    }
  ]
}